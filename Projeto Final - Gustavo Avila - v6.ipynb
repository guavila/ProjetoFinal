{
 "cells": [
  {
   "cell_type": "markdown",
   "metadata": {},
   "source": [
    "### 1 - Importing packages"
   ]
  },
  {
   "cell_type": "code",
   "execution_count": 34,
   "metadata": {
    "collapsed": false
   },
   "outputs": [],
   "source": [
    "#Pacotes Básicos Python\n",
    "import os\n",
    "import string\n",
    "import itertools\n",
    "from collections import defaultdict\n",
    "\n",
    "#Banco de Dados sqlite3\n",
    "import sqlite3\n",
    "\n",
    "#Pacotes de Suporte - pandas e numpy\n",
    "import pandas as pd\n",
    "import numpy as np\n",
    "\n",
    "#Machine Learning\n",
    "from scipy.sparse import csr_matrix,coo_matrix,hstack\n",
    "from sklearn.feature_extraction.text import CountVectorizer,TfidfTransformer\n",
    "from sklearn import metrics\n",
    "from sklearn.metrics import log_loss\n",
    "from sklearn import preprocessing #normalização dos dados\n",
    "from sklearn.model_selection import GridSearchCV\n",
    "\n",
    "#Machine Learning - estimators\n",
    "from sklearn import svm\n",
    "from sklearn.naive_bayes import MultinomialNB\n",
    "from sklearn.linear_model import SGDClassifier\n",
    "\n",
    "#Visualização de dados\n",
    "import matplotlib.pyplot as plt\n",
    "\n",
    "#Enchant - Correção Ortográfica\n",
    "import enchant\n",
    "from enchant import DictWithPWL\n",
    "from enchant.checker import SpellChecker\n",
    "\n",
    "#Persistência de Modelo\n",
    "from sklearn.externals import joblib\n",
    "\n",
    "#Contagem de tempo de processamento\n",
    "from time import time"
   ]
  },
  {
   "cell_type": "markdown",
   "metadata": {},
   "source": [
    "### 2 - Pré-Processamento"
   ]
  },
  {
   "cell_type": "code",
   "execution_count": 5,
   "metadata": {
    "collapsed": false
   },
   "outputs": [],
   "source": [
    "#DROP\n",
    "db = sqlite3.connect('projeto.db')\n",
    "querySQL = db.execute(\"DROP TABLE PESQUISA\")\n",
    "db.commit()\n",
    "db.close()"
   ]
  },
  {
   "cell_type": "code",
   "execution_count": 6,
   "metadata": {
    "collapsed": false
   },
   "outputs": [],
   "source": [
    "#CREATE TABLE\n",
    "#Comando para criar a tabela no banco de dados. Só precisa ser executada uma única vez\n",
    "\n",
    "db = sqlite3.connect('projeto.db')\n",
    "db.execute('''CREATE TABLE PESQUISA\n",
    "       (ID INT PRIMARY KEY    NOT NULL,\n",
    "       IDINC           CHAR(20),\n",
    "       DATA            DATE,\n",
    "       COMENTARIO      TEXT,\n",
    "       NOTA1           FLOAT,\n",
    "       NOTA2           FLOAT,\n",
    "       NIVEL1          TEXT,\n",
    "       MANIFESTACAO    CHAR(20),\n",
    "       MANIFATEN       CHAR(20),\n",
    "       MANIFSERV       CHAR(20));''')\n",
    "db.close()"
   ]
  },
  {
   "cell_type": "code",
   "execution_count": 3,
   "metadata": {
    "collapsed": false
   },
   "outputs": [
    {
     "name": "stdout",
     "output_type": "stream",
     "text": [
      "99825\n"
     ]
    }
   ],
   "source": [
    "#MaxID\n",
    "db = sqlite3.connect('projeto.db')\n",
    "cursor = db.execute('SELECT max(ID) FROM PESQUISA')\n",
    "MaxID = cursor.fetchone()[0]\n",
    "\n",
    "try:\n",
    "    val = int(MaxID)\n",
    "except:\n",
    "    MaxID=0\n",
    "    \n",
    "print(MaxID)\n",
    "db.close()"
   ]
  },
  {
   "cell_type": "code",
   "execution_count": 2,
   "metadata": {
    "collapsed": true
   },
   "outputs": [],
   "source": [
    "#Função para identificar o idioma da pesquisa de satisfação, baseada no idioma da Questão1\n",
    "#Input : dataframe e Questão1 \n",
    "#Output: inteiro com a codificação do idioma. 1-Portugês, 2-Espanhol, 3-Inglês ou outros\n",
    "def setidioma (DF,Q):\n",
    "    if Q == \"Qual o seu nível de satisfação com esse atendimento?\":\n",
    "        return 1\n",
    "    elif Q == \"¿Cuál es su grado de satisfacción con este servicio?\":\n",
    "        return 2\n",
    "    else:\n",
    "        return 3"
   ]
  },
  {
   "cell_type": "code",
   "execution_count": 4,
   "metadata": {
    "collapsed": false
   },
   "outputs": [],
   "source": [
    "#Função para normalizar o campo 'Manifestação' em: elogio, neutro e reclamação.\n",
    "#Input : dataframe e campos de MANIFESTAÇÃO AO ATENDIMENTO e MANIFESTAÇÃO AO SERVIÇO \n",
    "#Output: MANIFESTAÇÃO normalizada\n",
    "def setmanifestacao (DF,ATEN,SERV):\n",
    "    positivo=[\"elogio\",\"agradecimento\"]\n",
    "    neutro  =[\"neutro\",\"sugestão\"]\n",
    "    negativo=[\"reclamação\",\"insatisfeito\",\"não-resolvido\"]\n",
    "    valido=positivo+neutro+negativo\n",
    "\n",
    "    if   (str.lower(ATEN) in negativo) or (str.lower(SERV) in negativo):\n",
    "        return \"reclamação\"\n",
    "    elif (str.lower(ATEN) in positivo) or (str.lower(SERV) in positivo):\n",
    "        return \"elogio\"\n",
    "    elif (str.lower(ATEN) in neutro) and (str.lower(SERV) in neutro):\n",
    "        return \"neutro\"\n",
    "    elif (str.lower(ATEN) not in valido) or (str.lower(SERV) not in valido):\n",
    "        return \"invalido\"\n",
    "    else:\n",
    "        return \"erro\""
   ]
  },
  {
   "cell_type": "code",
   "execution_count": 5,
   "metadata": {
    "collapsed": false
   },
   "outputs": [],
   "source": [
    "#Função para normalizar o campo 'Manifestação ao Atendimento' e 'Manifestação ao Serviço' em: elogio, neutro e reclamação.\n",
    "#Input : dataframe e campo X a ser normalizado\n",
    "#Output: MANIFESTAÇÃO normalizada\n",
    "def setmanifestacao2 (DF,X):\n",
    "    positivo=[\"elogio\",\"agradecimento\"]\n",
    "    neutro  =[\"neutro\",\"sugestão\"]\n",
    "    negativo=[\"reclamação\",\"insatisfeito\",\"não-resolvido\"]\n",
    "    valido=positivo+neutro+negativo\n",
    "\n",
    "    if   (str.lower(X) in negativo):\n",
    "        return \"reclamação\"\n",
    "    elif (str.lower(X) in positivo):\n",
    "        return \"elogio\"\n",
    "    elif (str.lower(X) in neutro):\n",
    "        return \"neutro\"\n",
    "    elif (str.lower(X) not in valido):\n",
    "        return \"invalido\"\n",
    "    else:\n",
    "        return \"erro\""
   ]
  },
  {
   "cell_type": "code",
   "execution_count": 6,
   "metadata": {
    "collapsed": true
   },
   "outputs": [],
   "source": [
    "#Função para INSERT na tabela PESQUISA do banco de dados\n",
    "#Input : Ponteiro first_row_ID, indicando onde deve ser feito o INSERT na tabela PESQUISA e dicionário a ser inserido\n",
    "#Output: Ponteiro com a nova posição após o último INSERT\n",
    "\n",
    "def Insertdata(first_row_ID,dict1):\n",
    "    db = sqlite3.connect('projeto.db')\n",
    "    cursor = db.cursor()\n",
    "    i=first_row_ID+1\n",
    "    for com,id_inc,data,cat,n1,n2,nivel1,aten,serv in map(lambda *a: a,*zip(*itertools.zip_longest(dict1.get('Comentário'),dict1.get('Número do Incidente'),dict1.get('Data da Resposta'),dict1.get('Manifestação Ajustada'),dict1.get('Nota Questão 1'),dict1.get('Nota Questão 2'),dict1.get('Nível 1'),dict1.get('Manifestação ao Atendimento'),dict1.get('Manifestação ao Serviço')))):\n",
    "        cursor.execute(\"INSERT INTO PESQUISA (ID,IDINC,DATA,COMENTARIO,NOTA1,NOTA2,NIVEL1,MANIFESTACAO,MANIFATEN,MANIFSERV) VALUES (?,?,?,?,?,?,?,?,?,?)\",(i, id_inc,data, com, n1, n2, nivel1, cat,aten,serv))\n",
    "        i=i+1\n",
    "    db.commit()\n",
    "\n",
    "    #LAST ROW ID\n",
    "    last_row_ID = cursor.lastrowid\n",
    "\n",
    "    db.close()\n",
    "    \n",
    "    return(last_row_ID)"
   ]
  },
  {
   "cell_type": "code",
   "execution_count": 7,
   "metadata": {
    "collapsed": true
   },
   "outputs": [],
   "source": [
    "#Função para leitura do arquivo .csv\n",
    "#Input : arquivo .csv \n",
    "#Output: Dicionário (dict)\n",
    "\n",
    "def Createdict(csvfile):\n",
    "    #Especificando os paths relativos para a leitura do arquivo .csv\n",
    "    datapath = './datasets/'\n",
    "    outputs = './outputs/'\n",
    "    datafile = os.path.join(datapath, csvfile)\n",
    "    \n",
    "    #Armazenando todos os campos do arquivo .csv em um Pandas Dataframe\n",
    "    df = pd.read_csv(datafile,dtype={'Nota Questão 1':float,'Nota Questão 2':float,'Número do Incidente':object,'Status':object,'Organização de Suporte':object,'Data da Resposta':object,'Grupo Designado':object,'Nível 1':object,'Nível 2':object,'Nível 3':object,'Questão 1':object,'Questão 2':object,'Questão 3':object,'Organização':object,'Localização no Trabalho':object,'Departamento':object,'Comentário':object,'P1 (Satisfação)':object,'P2 (Resolução)':object,'Manifestação ao Atendimento':object,'Manifestação ao Serviço':object,'Ações':object,'Novo Registro (caso Reabertura)':object,'Data corrigida':object})\n",
    "\n",
    "    #Insere o valor \"0\" nas células que possuem Na/NaN das colunas selecionadas\n",
    "    df['Comentário']=df.fillna(value=\"0\")['Comentário']\n",
    "    df['Manifestação ao Atendimento']=df.fillna(value=\"0\")['Manifestação ao Atendimento']\n",
    "    df['Manifestação ao Serviço']=df.fillna(value=\"0\")['Manifestação ao Serviço']\n",
    "    df['Ações']=df.fillna(value=\"0\")['Ações']\n",
    "\n",
    "    #Criando uma nova coluna \"Idioma\", com o objetivo de segregar as pesquisas de satisfação por idioma.\n",
    "    df[\"Idioma\"]=df.apply(lambda row: setidioma(df,row[\"Questão 1\"]), axis=1)\n",
    "\n",
    "    #Criando um Dataframe apenas com as perguntas em portugês - df_pt\n",
    "    df_pt=df.copy()\n",
    "    df_pt=df_pt[df_pt.Idioma == 1]\n",
    "\n",
    "    #Removendo pesquisas que não possuem nenhum comentário, ou nenhuma manifestação preenchida manualmente\n",
    "    df_pt = df_pt[df_pt['Comentário'] != '0']\n",
    "    df_pt = df_pt[df_pt['Manifestação ao Atendimento'] != '0']\n",
    "    df_pt = df_pt[df_pt['Manifestação ao Serviço'] != '0']\n",
    "    \n",
    "    #Normalizando o campo MANIFESTÇÃO AO ATENDIMENTO, através da criação do campo MANIFESTAÇÃO AJUSTADA\n",
    "    df_pt[\"Manifestação Ajustada\"]=df_pt.apply(lambda row: setmanifestacao(df_pt,row[\"Manifestação ao Atendimento\"],row[\"Manifestação ao Serviço\"]), axis=1)\n",
    "    \n",
    "    #Criando um Dicionário a partir do pandas Dataframe\n",
    "    dict1 = {}\n",
    "    dict1['Nota Questão 1']=df_pt['Nota Questão 1']\n",
    "    dict1['Nota Questão 2']=df_pt['Nota Questão 2']\n",
    "    dict1['Comentário']= df_pt['Comentário']\n",
    "    dict1['Manifestação ao Atendimento']=df_pt['Manifestação ao Atendimento']\n",
    "    dict1['Manifestação ao Serviço']=df_pt['Manifestação ao Serviço']\n",
    "    dict1['Manifestação Ajustada']=df_pt['Manifestação Ajustada']\n",
    "    dict1['Data da Resposta']=df_pt['Data da Resposta']\n",
    "    dict1['Número do Incidente']=df_pt['Número do Incidente']\n",
    "    dict1['Nível 1']=df_pt['Nível 1']\n",
    "    \n",
    "    return(dict1)"
   ]
  },
  {
   "cell_type": "code",
   "execution_count": 13,
   "metadata": {
    "collapsed": false
   },
   "outputs": [
    {
     "name": "stdout",
     "output_type": "stream",
     "text": [
      "4963\n",
      "9787\n",
      "15662\n",
      "20768\n",
      "25580\n",
      "30583\n",
      "35431\n",
      "39800\n",
      "45497\n",
      "51417\n",
      "57512\n",
      "63833\n",
      "69771\n",
      "75435\n",
      "81534\n",
      "88491\n",
      "93364\n",
      "99825\n"
     ]
    }
   ],
   "source": [
    "#Populando o banco de dados\n",
    "\n",
    "#oversample2015-JANaJUL.csv'\n",
    "#lista_csv=['2016.05.csv']\n",
    "lista_csv=['2016.01.csv','2016.02.csv','2016.03.csv','2016.04.csv','2016.05.csv','2016.06.csv','2015.12.csv','2015.11.csv','2015.10.csv','2015.09.csv','2015.08.csv','2015.07.csv','2015.06.csv','2015.05.csv','2015.04.csv','2015.03.csv','2015.02.csv','2015.01.csv']\n",
    "           \n",
    "for doc in lista_csv:\n",
    "    dict2=Createdict(doc)\n",
    "    MaxID=Insertdata(MaxID,dict2)\n",
    "    print(MaxID)"
   ]
  },
  {
   "cell_type": "code",
   "execution_count": 8,
   "metadata": {
    "collapsed": false
   },
   "outputs": [],
   "source": [
    "#Recuperando dados do banco de dados através do comando SELECT e armazenando em um Dictionary\n",
    "\n",
    "dict3=defaultdict(list)\n",
    "\n",
    "db = sqlite3.connect('projeto.db')\n",
    "db.row_factory = sqlite3.Row\n",
    "cursor =db.cursor()\n",
    "\n",
    "querySQL = cursor.execute(\"SELECT ID,IDINC,DATA,COMENTARIO,NOTA1,NOTA2,MANIFESTACAO,MANIFATEN,MANIFSERV,NIVEL1 from PESQUISA\")\n",
    "\n",
    "for row in querySQL:\n",
    "    dict3['ID'].append(row[0])\n",
    "    dict3['Número do Incidente'].append(row[1])\n",
    "    dict3['Data'].append(row[2])\n",
    "    dict3['Comentário'].append(row[3])\n",
    "    dict3['Nota Questão 1'].append(row[4])\n",
    "    dict3['Nota Questão 2'].append(row[5])\n",
    "    dict3['Manifestação Ajustada'].append(row[6])\n",
    "    dict3['Manifestação ao Atendimento'].append(row[7])\n",
    "    dict3['Manifestação ao Serviço'].append(row[8])\n",
    "    dict3['Nível 1'].append(row[9])\n",
    "    \n",
    "db.close()"
   ]
  },
  {
   "cell_type": "code",
   "execution_count": 9,
   "metadata": {
    "collapsed": true
   },
   "outputs": [],
   "source": [
    "#Processamento - STRIP-remove caracteres, LOWER-transforma caracteres em minúsculo e SPLIT-Separa as palavras no \"Comentário\"\n",
    "words3 = [(i.strip('.,').lower().split(),category,n1,n2,m1,m2,ID,data,id_inc,nivel1)\n",
    "for i,category,n1,n2,m1,m2,ID,data,id_inc,nivel1 in map(lambda *a: a,*zip(*itertools.zip_longest(dict3.get('Comentário'),dict3.get('Manifestação Ajustada'),dict3.get('Nota Questão 1'),dict3.get('Nota Questão 2'),dict3.get('Manifestação ao Atendimento'),dict3.get('Manifestação ao Serviço'),dict3.get('ID'),dict3.get('Data'),dict3.get('Número do Incidente'),dict3.get('Nível 1'))))]\n"
   ]
  },
  {
   "cell_type": "code",
   "execution_count": 10,
   "metadata": {
    "collapsed": true
   },
   "outputs": [],
   "source": [
    "#Transformando DE: Dictionary --> PARA: pandas Dataframe\n",
    "rows=[]\n",
    "\n",
    "for item in words3:\n",
    "    rows.append({'text':\" \".join(item[0]),'label':item[1],'nota1':item[2],'nota2':item[3],'Manif-ATEN':item[4],'Manif-SERV':item[5],'ID':item[6],'Data':item[7],'Número do Incidente':item[8],'Nível 1':item[9]})\n",
    "df_scikit=pd.DataFrame(rows)"
   ]
  },
  {
   "cell_type": "code",
   "execution_count": 11,
   "metadata": {
    "collapsed": false
   },
   "outputs": [
    {
     "name": "stdout",
     "output_type": "stream",
     "text": [
      "Total:        99825\n",
      "elogio        65404\n",
      "neutro        18756\n",
      "reclamação    15665\n",
      "Name: label, dtype: int64\n"
     ]
    }
   ],
   "source": [
    "print(\"Total:       \",len(df_scikit.index))\n",
    "print(df_scikit['label'].value_counts())"
   ]
  },
  {
   "cell_type": "code",
   "execution_count": 12,
   "metadata": {
    "collapsed": false
   },
   "outputs": [],
   "source": [
    "#Tratando pesquisas de satisfação com campos não preenchidos. alterar para nota=3 ou nota=1 no caso de nao respondido\n",
    "df_scikit['nota1']=(df_scikit.fillna(value=3)['nota1'].astype(np.float))\n",
    "df_scikit['nota2']=(df_scikit.fillna(value=1)['nota2'].astype(np.float))"
   ]
  },
  {
   "cell_type": "code",
   "execution_count": 13,
   "metadata": {
    "collapsed": false
   },
   "outputs": [],
   "source": [
    "df_scikit[\"Manif-ATEN2\"]=df_scikit.apply(lambda row: setmanifestacao2(df_scikit,row[\"Manif-ATEN\"]), axis=1)\n",
    "df_scikit[\"Manif-SERV2\"]=df_scikit.apply(lambda row: setmanifestacao2(df_scikit,row[\"Manif-SERV\"]), axis=1)"
   ]
  },
  {
   "cell_type": "code",
   "execution_count": 14,
   "metadata": {
    "collapsed": false
   },
   "outputs": [
    {
     "name": "stdout",
     "output_type": "stream",
     "text": [
      "99825\n",
      "             Data  ID Manif-ATEN Manif-SERV                      Nível 1  \\\n",
      "0  1/1/2016 13:19   1     Elogio     Neutro              MICROCOMPUTADOR   \n",
      "1  1/2/2016 13:58   2     Elogio     Neutro              MICROCOMPUTADOR   \n",
      "2  1/2/2016 11:00   3     Elogio     Neutro              MICROCOMPUTADOR   \n",
      "3  1/2/2016 18:11   4     Neutro     Neutro           CORREIO ELETRONICO   \n",
      "4   1/2/2016 3:05   5     Neutro     Neutro  DISPOSITIVOS ESPECIALIZADOS   \n",
      "\n",
      "  Número do Incidente   label  nota1  nota2  \\\n",
      "0     INC000025025391  elogio    5.0    5.0   \n",
      "1     INC000025121685  elogio    5.0    5.0   \n",
      "2     INC000025155695  elogio    5.0    5.0   \n",
      "3     INC000025158329  neutro    4.0    5.0   \n",
      "4     INC000025159046  neutro    2.0    1.0   \n",
      "\n",
      "                                                text Manif-ATEN2 Manif-SERV2  \n",
      "0  o atendimento foi ótimo. o funcionário merece ...      elogio      neutro  \n",
      "1                       muito bom o serviço prestado      elogio      neutro  \n",
      "2                            muito bom o atendimento      elogio      neutro  \n",
      "3  devido estarmos em área remota. demorou mais d...      neutro      neutro  \n",
      "4  o chamado foi resolvido momentaneamente apenas...      neutro      neutro  \n"
     ]
    }
   ],
   "source": [
    "print(len(df_scikit.index))\n",
    "print(df_scikit.head())"
   ]
  },
  {
   "cell_type": "markdown",
   "metadata": {},
   "source": [
    "#### 2.1 - Enchant\n"
   ]
  },
  {
   "cell_type": "code",
   "execution_count": 15,
   "metadata": {
    "collapsed": false
   },
   "outputs": [],
   "source": [
    "d = DictWithPWL(\"pt_BR\", \"enchant-personal_word_list.txt\")\n",
    "chkr = SpellChecker(d)"
   ]
  },
  {
   "cell_type": "code",
   "execution_count": 16,
   "metadata": {
    "collapsed": false
   },
   "outputs": [],
   "source": [
    "lines = [line.rstrip('\\n') for line in open('enchant-correction_word_list.txt')]"
   ]
  },
  {
   "cell_type": "code",
   "execution_count": 17,
   "metadata": {
    "collapsed": false
   },
   "outputs": [],
   "source": [
    "dict_enchant = dict((k.strip(), v.strip()) for k,v in \n",
    "              (item.split(';') for item in lines))"
   ]
  },
  {
   "cell_type": "code",
   "execution_count": 18,
   "metadata": {
    "collapsed": false
   },
   "outputs": [],
   "source": [
    "def enchant_correct(DF,survey):\n",
    "    chkr.set_text(survey)\n",
    "    for err in chkr:\n",
    "        if err.word in dict_enchant.keys():\n",
    "            survey=survey.replace(err.word, dict_enchant[err.word])\n",
    "    return(survey)"
   ]
  },
  {
   "cell_type": "code",
   "execution_count": 19,
   "metadata": {
    "collapsed": false
   },
   "outputs": [],
   "source": [
    "#corrige o dataframe fazendo as correções necessárias como acentuação, palavras erradas, etc\n",
    "df_scikit[\"text\"]=df_scikit.apply(lambda row: enchant_correct(df_scikit,row[\"text\"]), axis=1)"
   ]
  },
  {
   "cell_type": "code",
   "execution_count": 20,
   "metadata": {
    "collapsed": false
   },
   "outputs": [
    {
     "data": {
      "text/plain": [
       "0    o atendimento foi ótimo. o funcionário merece ...\n",
       "1                         muito bom o serviço prestado\n",
       "2                              muito bom o atendimento\n",
       "3    devido estarmos em área remota. demorou mais d...\n",
       "4    o chamado foi resolvido momentaneamente apenas...\n",
       "Name: text, dtype: object"
      ]
     },
     "execution_count": 20,
     "metadata": {},
     "output_type": "execute_result"
    }
   ],
   "source": [
    "df_scikit['text'][0:5]"
   ]
  },
  {
   "cell_type": "code",
   "execution_count": 21,
   "metadata": {
    "collapsed": false
   },
   "outputs": [
    {
     "data": {
      "text/plain": [
       "'\\nchkr.set_text(\"atendimeto tic foi dip SAP otimo. o funcinoário merece umm elogio\")\\nfor err in chkr:\\n    print (\"ERROR:\", err.word,\" - Sugestão:\", d.suggest(err.word)[0])\\n    \\nlista_erro=[]\\nfor survey in df_scikit[\\'text\\']:\\n    chkr.set_text(survey)\\n    for err in chkr:\\n        lista_erro.append(err.word)\\n\\nprint(len(lista_erro))\\nprint(len(set(lista_erro)))\\nfrom collections import Counter\\nfor item in Counter(lista_erro).most_common(200):\\n    print (item,d.suggest(item[0]))\\n'"
      ]
     },
     "execution_count": 21,
     "metadata": {},
     "output_type": "execute_result"
    }
   ],
   "source": [
    "\"\"\"\n",
    "chkr.set_text(\"atendimeto tic foi dip SAP otimo. o funcinoário merece umm elogio\")\n",
    "for err in chkr:\n",
    "    print (\"ERROR:\", err.word,\" - Sugestão:\", d.suggest(err.word)[0])\n",
    "    \n",
    "lista_erro=[]\n",
    "for survey in df_scikit['text']:\n",
    "    chkr.set_text(survey)\n",
    "    for err in chkr:\n",
    "        lista_erro.append(err.word)\n",
    "\n",
    "print(len(lista_erro))\n",
    "print(len(set(lista_erro)))\n",
    "from collections import Counter\n",
    "for item in Counter(lista_erro).most_common(200):\n",
    "    print (item,d.suggest(item[0]))\n",
    "\"\"\"\n"
   ]
  },
  {
   "cell_type": "markdown",
   "metadata": {},
   "source": [
    "#### 2.2 - Matplotlib - Summary\n"
   ]
  },
  {
   "cell_type": "code",
   "execution_count": 22,
   "metadata": {
    "collapsed": false
   },
   "outputs": [
    {
     "data": {
      "text/plain": [
       "<matplotlib.axes._subplots.AxesSubplot at 0x7f1cc375fda0>"
      ]
     },
     "execution_count": 22,
     "metadata": {},
     "output_type": "execute_result"
    },
    {
     "data": {
      "image/png": "[encoded data removed]",
      "text/plain": [
       "<matplotlib.figure.Figure at 0x7f1cc3b722b0>"
      ]
     },
     "metadata": {},
     "output_type": "display_data"
    }
   ],
   "source": [
    "%matplotlib inline\n",
    "plt.ylabel('Quantidade')\n",
    "plt.title('Manifestação ao Atendimento')\n",
    "(df_scikit['Manif-ATEN2'].value_counts()).plot(kind='bar',color='g',alpha=0.6,figsize=(6, 4))"
   ]
  },
  {
   "cell_type": "code",
   "execution_count": 23,
   "metadata": {
    "collapsed": false
   },
   "outputs": [
    {
     "data": {
      "text/plain": [
       "<matplotlib.axes._subplots.AxesSubplot at 0x7f1cc5c61e10>"
      ]
     },
     "execution_count": 23,
     "metadata": {},
     "output_type": "execute_result"
    },
    {
     "data": {
      "image/png": "[encoded data removed]",
      "text/plain": [
       "<matplotlib.figure.Figure at 0x7f1cc509acc0>"
      ]
     },
     "metadata": {},
     "output_type": "display_data"
    }
   ],
   "source": [
    "plt.ylabel('Quantidade')\n",
    "plt.title('Manifestação ao Serviço')\n",
    "(df_scikit['Manif-SERV2'].value_counts()).plot(kind='bar',color='y',alpha=0.6,figsize=(6, 4))"
   ]
  },
  {
   "cell_type": "code",
   "execution_count": 24,
   "metadata": {
    "collapsed": false
   },
   "outputs": [
    {
     "data": {
      "text/plain": [
       "<matplotlib.axes._subplots.AxesSubplot at 0x7f1cc5e48860>"
      ]
     },
     "execution_count": 24,
     "metadata": {},
     "output_type": "execute_result"
    },
    {
     "data": {
      "image/png": "[encoded data removed]",
      "text/plain": [
       "<matplotlib.figure.Figure at 0x7f1cc5e09470>"
      ]
     },
     "metadata": {},
     "output_type": "display_data"
    }
   ],
   "source": [
    "plt.ylabel('Quantidade')\n",
    "plt.title('Manifestação Geral')\n",
    "(df_scikit['label'].value_counts()).plot(kind='bar',alpha=0.6,figsize=(6, 4))"
   ]
  },
  {
   "cell_type": "markdown",
   "metadata": {},
   "source": [
    "#### 2.3 - Standardization, or mean removal and variance scaling"
   ]
  },
  {
   "cell_type": "code",
   "execution_count": 25,
   "metadata": {
    "collapsed": false
   },
   "outputs": [
    {
     "name": "stdout",
     "output_type": "stream",
     "text": [
      "5.0    76621\n",
      "1.0     8847\n",
      "4.0     6468\n",
      "3.0     5215\n",
      "2.0     2674\n",
      "Name: nota1, dtype: int64\n",
      "5.0    81058\n",
      "1.0    18767\n",
      "Name: nota2, dtype: int64\n"
     ]
    }
   ],
   "source": [
    "print(df_scikit['nota1'].value_counts())\n",
    "print(df_scikit['nota2'].value_counts())"
   ]
  },
  {
   "cell_type": "code",
   "execution_count": 26,
   "metadata": {
    "collapsed": false
   },
   "outputs": [],
   "source": [
    "n1=(df_scikit['nota1'].values)\n",
    "n2=(df_scikit['nota2'].values)\n",
    "\n",
    "n1_scaled=n1.reshape(-1,1)\n",
    "n2_scaled=n2.reshape(-1,1)"
   ]
  },
  {
   "cell_type": "code",
   "execution_count": 27,
   "metadata": {
    "collapsed": false
   },
   "outputs": [
    {
     "data": {
      "text/plain": [
       "'\\nmin_max_scaler = preprocessing.MinMaxScaler()\\nn1_scaled = min_max_scaler.fit_transform(n1.reshape(-1,1))\\nn2_scaled = min_max_scaler.fit_transform(n2.reshape(-1,1))\\n'"
      ]
     },
     "execution_count": 27,
     "metadata": {},
     "output_type": "execute_result"
    }
   ],
   "source": [
    "\"\"\"\n",
    "min_max_scaler = preprocessing.MinMaxScaler()\n",
    "n1_scaled = min_max_scaler.fit_transform(n1.reshape(-1,1))\n",
    "n2_scaled = min_max_scaler.fit_transform(n2.reshape(-1,1))\n",
    "\"\"\""
   ]
  },
  {
   "cell_type": "code",
   "execution_count": 28,
   "metadata": {
    "collapsed": false
   },
   "outputs": [
    {
     "name": "stdout",
     "output_type": "stream",
     "text": [
      "[[  1.00000000e+00   8.84700000e+03]\n",
      " [  2.00000000e+00   2.67400000e+03]\n",
      " [  3.00000000e+00   5.21500000e+03]\n",
      " [  4.00000000e+00   6.46800000e+03]\n",
      " [  5.00000000e+00   7.66210000e+04]]\n",
      "[[  1.00000000e+00   1.87670000e+04]\n",
      " [  5.00000000e+00   8.10580000e+04]]\n",
      "(99825, 1)    -     (99825, 1)\n"
     ]
    }
   ],
   "source": [
    "unique, counts = np.unique(n1_scaled, return_counts=True)\n",
    "print (np.asarray((unique, counts)).T)\n",
    "unique, counts = np.unique(n2_scaled, return_counts=True)\n",
    "print (np.asarray((unique, counts)).T)\n",
    "print(n1_scaled.shape,\"   -    \",n2_scaled.shape)"
   ]
  },
  {
   "cell_type": "markdown",
   "metadata": {},
   "source": [
    "### 3 - Processamento - Scikit Learn"
   ]
  },
  {
   "cell_type": "markdown",
   "metadata": {},
   "source": [
    "### 3.1 - Models - Cross Validation & Stratified KFold"
   ]
  },
  {
   "cell_type": "code",
   "execution_count": 54,
   "metadata": {
    "collapsed": false
   },
   "outputs": [],
   "source": [
    "#bag of words features\n",
    "count_vect = CountVectorizer()\n",
    "count_vect.fit(df_scikit['text'].values)\n",
    "data = count_vect.transform(df_scikit['text'].values)\n",
    "\n",
    "#term frequency features\n",
    "tf_transformer = TfidfTransformer(use_idf=False).fit(data)\n",
    "data_features_tf = tf_transformer.transform(data)"
   ]
  },
  {
   "cell_type": "code",
   "execution_count": 55,
   "metadata": {
    "collapsed": false
   },
   "outputs": [
    {
     "name": "stderr",
     "output_type": "stream",
     "text": [
      "/home/gus/py3env/lib/python3.4/site-packages/sklearn/cross_validation.py:44: DeprecationWarning: This module was deprecated in version 0.18 in favor of the model_selection module into which all the refactored classes and functions are moved. Also note that the interface of the new CV iterators are different from that of this module. This module will be removed in 0.20.\n",
      "  \"This module will be removed in 0.20.\", DeprecationWarning)\n"
     ]
    }
   ],
   "source": [
    "from sklearn import cross_validation\n",
    "train_comments, test_comments, train_labels, test_labels = cross_validation.train_test_split(data_features_tf, df_scikit['label'].values, test_size=0.2, random_state=0)"
   ]
  },
  {
   "cell_type": "markdown",
   "metadata": {},
   "source": [
    "#### Incluindo informações adicionais de Nota1 e Nota2 como features do modelo"
   ]
  },
  {
   "cell_type": "code",
   "execution_count": 56,
   "metadata": {
    "collapsed": false
   },
   "outputs": [
    {
     "name": "stdout",
     "output_type": "stream",
     "text": [
      "(99825, 27385)\n",
      "(99825, 1)\n",
      "(99825, 1)\n",
      "(99825, 27387)\n"
     ]
    }
   ],
   "source": [
    "#n1=coo_matrix(df_scikit['nota1'].values)\n",
    "#n2=coo_matrix(df_scikit['nota2'].values)\n",
    "#n1=coo_matrix(n1)\n",
    "#n2=coo_matrix(n2)\n",
    "print(data_features_tf.shape)\n",
    "\n",
    "data_features_tf2=csr_matrix(hstack([coo_matrix(data_features_tf),coo_matrix(n1_scaled)]))\n",
    "data_features_tf2=csr_matrix(hstack([coo_matrix(data_features_tf2),coo_matrix(n2_scaled)]))\n",
    "\n",
    "print(n1_scaled.shape)\n",
    "print(n2_scaled.shape)\n",
    "print(data_features_tf2.shape)"
   ]
  },
  {
   "cell_type": "code",
   "execution_count": 57,
   "metadata": {
    "collapsed": true
   },
   "outputs": [],
   "source": [
    "from sklearn import cross_validation\n",
    "train_comments2, test_comments2, train_labels2, test_labels2 = cross_validation.train_test_split(data_features_tf2, df_scikit['label'].values, test_size=0.2, random_state=0)"
   ]
  },
  {
   "cell_type": "markdown",
   "metadata": {},
   "source": [
    "#### 3.1.1 - Model 1 - SVM (kernel=linear)\n"
   ]
  },
  {
   "cell_type": "code",
   "execution_count": 43,
   "metadata": {
    "collapsed": false
   },
   "outputs": [],
   "source": [
    "clf = svm.SVC(kernel='linear', C=1,cache_size=1000).fit(train_comments, train_labels)\n",
    "#clf.score(test_comments, test_labels)"
   ]
  },
  {
   "cell_type": "code",
   "execution_count": 44,
   "metadata": {
    "collapsed": false
   },
   "outputs": [],
   "source": [
    "clf2 = svm.SVC(kernel='linear', C=1,cache_size=1000).fit(train_comments2, train_labels2)\n",
    "#clf2.score(test_comments2, test_labels2)"
   ]
  },
  {
   "cell_type": "markdown",
   "metadata": {},
   "source": [
    "When the cv argument is an integer, cross_val_score uses the KFold or StratifiedKFold strategies by default, the latter being used if the estimator derives from ClassifierMixin."
   ]
  },
  {
   "cell_type": "code",
   "execution_count": 201,
   "metadata": {
    "collapsed": false
   },
   "outputs": [],
   "source": [
    "n_samples=data_features_tf.shape[0]\n",
    "cv = cross_validation.ShuffleSplit(n_samples, n_iter=5, test_size=0.2, random_state=23)\n",
    "scores_SVM = cross_validation.cross_val_score(clf, data_features_tf, df_scikit['label'].values , cv=cv)"
   ]
  },
  {
   "cell_type": "code",
   "execution_count": 202,
   "metadata": {
    "collapsed": false
   },
   "outputs": [
    {
     "name": "stdout",
     "output_type": "stream",
     "text": [
      "Accuracy: 0.88 (+/- 0.03)\n",
      "[ 0.85981308  0.90031153  0.87227414  0.88265836  0.87435099]\n"
     ]
    }
   ],
   "source": [
    "print(\"Accuracy: %0.2f (+/- %0.2f)\" % (scores_SVM.mean(), scores_SVM.std() * 2))\n",
    "print(scores_SVM)"
   ]
  },
  {
   "cell_type": "code",
   "execution_count": 60,
   "metadata": {
    "collapsed": false,
    "scrolled": true
   },
   "outputs": [
    {
     "name": "stdout",
     "output_type": "stream",
     "text": [
      "nada a declarar neutro\n",
      "Ok neutro\n",
      "rápido e atencioso elogio\n",
      "fecharam o chamado sem me avisar. absurdo reclamação\n",
      "como sempre, muito lento reclamação\n",
      "não fizeram mais do que o esperado. nem satisfeito nem insatisfeito neutro\n",
      "depois de 5 dias me retornaram dizendo que não podiam fazer nada pelo problema!!!! reclamação\n"
     ]
    }
   ],
   "source": [
    "docs_new=['nada a declarar','Ok','rápido e atencioso','fecharam o chamado sem me avisar. absurdo','como sempre, muito lento','não fizeram mais do que o esperado. nem satisfeito nem insatisfeito', 'depois de 5 dias me retornaram dizendo que não podiam fazer nada pelo problema!!!!']\n",
    "nota1_new=coo_matrix([5.0,3.0,5.0,2.0,2.0,4.0,1.0])\n",
    "nota2_new=coo_matrix([5.0,5.0,5.0,1.0,5.0,5.0,1.0])\n",
    "#-------------------------------------------------------------------\n",
    "counts_new = count_vect.transform(docs_new)\n",
    "counts_new_tf = tf_transformer.transform(counts_new)\n",
    "\n",
    "counts_new_tf=csr_matrix(hstack([coo_matrix(counts_new_tf),nota1_new.transpose()]))\n",
    "counts_new_tf=csr_matrix(hstack([coo_matrix(counts_new_tf),nota2_new.transpose()]))\n",
    "\n",
    "predicted = clf2.predict(counts_new_tf)\n",
    "\n",
    "for doc,category in zip(docs_new,predicted):\n",
    "    print(doc,category)"
   ]
  },
  {
   "cell_type": "markdown",
   "metadata": {},
   "source": [
    "#### 3.1.2 - Model 2 - SVM (kernel=Gaussian RBF)\n"
   ]
  },
  {
   "cell_type": "code",
   "execution_count": 45,
   "metadata": {
    "collapsed": false
   },
   "outputs": [],
   "source": [
    "clf3 = svm.SVC(kernel='rbf', C=1,cache_size=1000).fit(train_comments, train_labels)\n",
    "#clf3.score(test_comments, test_labels)"
   ]
  },
  {
   "cell_type": "code",
   "execution_count": 46,
   "metadata": {
    "collapsed": false
   },
   "outputs": [],
   "source": [
    "clf4 = svm.SVC(kernel='rbf', C=1,cache_size=1000).fit(train_comments2, train_labels2)\n",
    "#clf4.score(test_comments2, test_labels2)"
   ]
  },
  {
   "cell_type": "markdown",
   "metadata": {},
   "source": [
    "When the cv argument is an integer, cross_val_score uses the KFold or StratifiedKFold strategies by default, the latter being used if the estimator derives from ClassifierMixin."
   ]
  },
  {
   "cell_type": "code",
   "execution_count": 47,
   "metadata": {
    "collapsed": false,
    "scrolled": true
   },
   "outputs": [
    {
     "name": "stdout",
     "output_type": "stream",
     "text": [
      "nada a declarar elogio\n",
      "Ok elogio\n",
      "rápido e atencioso elogio\n",
      "fecharam o chamado sem me avisar. absurdo reclamação\n",
      "como sempre, muito lento reclamação\n",
      "não fizeram mais do que o esperado. nem satisfeito nem insatisfeito elogio\n",
      "depois de 5 dias me retornaram dizendo que não podiam fazer nada pelo problema!!!! reclamação\n"
     ]
    }
   ],
   "source": [
    "docs_new=['nada a declarar','Ok','rápido e atencioso','fecharam o chamado sem me avisar. absurdo','como sempre, muito lento','não fizeram mais do que o esperado. nem satisfeito nem insatisfeito', 'depois de 5 dias me retornaram dizendo que não podiam fazer nada pelo problema!!!!']\n",
    "nota1_new=coo_matrix([5.0,3.0,5.0,2.0,2.0,4.0,1.0])\n",
    "nota2_new=coo_matrix([5.0,5.0,5.0,1.0,5.0,5.0,1.0])\n",
    "#-------------------------------------------------------------------\n",
    "counts_new = count_vect.transform(docs_new)\n",
    "counts_new_tf = tf_transformer.transform(counts_new)\n",
    "\n",
    "counts_new_tf=csr_matrix(hstack([coo_matrix(counts_new_tf),nota1_new.transpose()]))\n",
    "counts_new_tf=csr_matrix(hstack([coo_matrix(counts_new_tf),nota2_new.transpose()]))\n",
    "\n",
    "predicted = clf4.predict(counts_new_tf)\n",
    "\n",
    "for doc,category in zip(docs_new,predicted):\n",
    "    print(doc,category)"
   ]
  },
  {
   "cell_type": "markdown",
   "metadata": {},
   "source": [
    "#### 3.1.3 - Model 3 - Naive Bayes (Multinomial Naive Bayes)\n"
   ]
  },
  {
   "cell_type": "code",
   "execution_count": 48,
   "metadata": {
    "collapsed": false
   },
   "outputs": [
    {
     "data": {
      "text/plain": [
       "0.81272226396193337"
      ]
     },
     "execution_count": 48,
     "metadata": {},
     "output_type": "execute_result"
    }
   ],
   "source": [
    "clf5 = MultinomialNB().fit(train_comments, train_labels)\n",
    "clf5.score(test_comments, test_labels)"
   ]
  },
  {
   "cell_type": "code",
   "execution_count": 49,
   "metadata": {
    "collapsed": false
   },
   "outputs": [
    {
     "data": {
      "text/plain": [
       "0.81001753067868776"
      ]
     },
     "execution_count": 49,
     "metadata": {},
     "output_type": "execute_result"
    }
   ],
   "source": [
    "clf6 = MultinomialNB().fit(train_comments2, train_labels2)\n",
    "clf6.score(test_comments2, test_labels2)"
   ]
  },
  {
   "cell_type": "markdown",
   "metadata": {},
   "source": [
    "When the cv argument is an integer, cross_val_score uses the KFold or StratifiedKFold strategies by default, the latter being used if the estimator derives from ClassifierMixin."
   ]
  },
  {
   "cell_type": "code",
   "execution_count": 50,
   "metadata": {
    "collapsed": false,
    "scrolled": true
   },
   "outputs": [
    {
     "name": "stdout",
     "output_type": "stream",
     "text": [
      "nada a declarar neutro\n",
      "Ok elogio\n",
      "rápido e atencioso elogio\n",
      "fecharam o chamado sem me avisar. absurdo reclamação\n",
      "como sempre, muito lento elogio\n",
      "não fizeram mais do que o esperado. nem satisfeito nem insatisfeito neutro\n",
      "depois de 5 dias me retornaram dizendo que não podiam fazer nada pelo problema!!!! reclamação\n"
     ]
    }
   ],
   "source": [
    "docs_new=['nada a declarar','Ok','rápido e atencioso','fecharam o chamado sem me avisar. absurdo','como sempre, muito lento','não fizeram mais do que o esperado. nem satisfeito nem insatisfeito', 'depois de 5 dias me retornaram dizendo que não podiam fazer nada pelo problema!!!!']\n",
    "nota1_new=coo_matrix([5.0,3.0,5.0,2.0,2.0,4.0,1.0])\n",
    "nota2_new=coo_matrix([5.0,5.0,5.0,1.0,5.0,5.0,1.0])\n",
    "#-------------------------------------------------------------------\n",
    "counts_new = count_vect.transform(docs_new)\n",
    "counts_new_tf = tf_transformer.transform(counts_new)\n",
    "\n",
    "counts_new_tf=csr_matrix(hstack([coo_matrix(counts_new_tf),nota1_new.transpose()]))\n",
    "counts_new_tf=csr_matrix(hstack([coo_matrix(counts_new_tf),nota2_new.transpose()]))\n",
    "\n",
    "predicted = clf6.predict(counts_new_tf)\n",
    "\n",
    "for doc,category in zip(docs_new,predicted):\n",
    "    print(doc,category)"
   ]
  },
  {
   "cell_type": "markdown",
   "metadata": {},
   "source": [
    "#### 3.1.4 - Model 4 - SGD (Stochastic Gradient Descent)\n"
   ]
  },
  {
   "cell_type": "code",
   "execution_count": 51,
   "metadata": {
    "collapsed": false
   },
   "outputs": [
    {
     "name": "stdout",
     "output_type": "stream",
     "text": [
      "SGDClassifier(alpha=0.0001, average=False, class_weight=None, epsilon=0.1,\n",
      "       eta0=0.0, fit_intercept=True, l1_ratio=0.15,\n",
      "       learning_rate='optimal', loss='hinge', n_iter=50, n_jobs=1,\n",
      "       penalty='l2', power_t=0.5, random_state=None, shuffle=True,\n",
      "       verbose=0, warm_start=False)\n"
     ]
    },
    {
     "data": {
      "text/plain": [
       "0.84082143751565241"
      ]
     },
     "execution_count": 51,
     "metadata": {},
     "output_type": "execute_result"
    }
   ],
   "source": [
    "clf7 = SGDClassifier(loss=\"hinge\", penalty=\"l2\",n_iter=50)\n",
    "print(clf7)\n",
    "clf7.fit(train_comments, train_labels)\n",
    "clf7.score(test_comments, test_labels)"
   ]
  },
  {
   "cell_type": "code",
   "execution_count": 52,
   "metadata": {
    "collapsed": false
   },
   "outputs": [
    {
     "name": "stdout",
     "output_type": "stream",
     "text": [
      "SGDClassifier(alpha=0.0001, average=False, class_weight=None, epsilon=0.1,\n",
      "       eta0=0.0, fit_intercept=True, l1_ratio=0.15,\n",
      "       learning_rate='optimal', loss='hinge', n_iter=50, n_jobs=1,\n",
      "       penalty='l2', power_t=0.5, random_state=None, shuffle=True,\n",
      "       verbose=0, warm_start=False)\n"
     ]
    },
    {
     "data": {
      "text/plain": [
       "0.85995492111194594"
      ]
     },
     "execution_count": 52,
     "metadata": {},
     "output_type": "execute_result"
    }
   ],
   "source": [
    "clf8 = SGDClassifier(loss=\"hinge\", penalty=\"l2\",n_iter=50)\n",
    "print(clf8)\n",
    "clf8.fit(train_comments2, train_labels2)\n",
    "clf8.score(test_comments2, test_labels2)"
   ]
  },
  {
   "cell_type": "markdown",
   "metadata": {},
   "source": [
    "When the cv argument is an integer, cross_val_score uses the KFold or StratifiedKFold strategies by default, the latter being used if the estimator derives from ClassifierMixin."
   ]
  },
  {
   "cell_type": "code",
   "execution_count": 53,
   "metadata": {
    "collapsed": false,
    "scrolled": true
   },
   "outputs": [
    {
     "name": "stdout",
     "output_type": "stream",
     "text": [
      "nada a declarar neutro\n",
      "Ok neutro\n",
      "rápido e atencioso elogio\n",
      "fecharam o chamado sem me avisar. absurdo reclamação\n",
      "como sempre, muito lento reclamação\n",
      "não fizeram mais do que o esperado. nem satisfeito nem insatisfeito reclamação\n",
      "depois de 5 dias me retornaram dizendo que não podiam fazer nada pelo problema!!!! reclamação\n"
     ]
    }
   ],
   "source": [
    "docs_new=['nada a declarar','Ok','rápido e atencioso','fecharam o chamado sem me avisar. absurdo','como sempre, muito lento','não fizeram mais do que o esperado. nem satisfeito nem insatisfeito', 'depois de 5 dias me retornaram dizendo que não podiam fazer nada pelo problema!!!!']\n",
    "nota1_new=coo_matrix([5.0,3.0,5.0,2.0,2.0,4.0,1.0])\n",
    "nota2_new=coo_matrix([5.0,5.0,5.0,1.0,5.0,5.0,1.0])\n",
    "#-------------------------------------------------------------------\n",
    "counts_new = count_vect.transform(docs_new)\n",
    "counts_new_tf = tf_transformer.transform(counts_new)\n",
    "\n",
    "counts_new_tf=csr_matrix(hstack([coo_matrix(counts_new_tf),nota1_new.transpose()]))\n",
    "counts_new_tf=csr_matrix(hstack([coo_matrix(counts_new_tf),nota2_new.transpose()]))\n",
    "\n",
    "predicted = clf8.predict(counts_new_tf)\n",
    "\n",
    "for doc,category in zip(docs_new,predicted):\n",
    "    print(doc,category)"
   ]
  },
  {
   "cell_type": "markdown",
   "metadata": {},
   "source": [
    "#### 3.2 - Metrics\n"
   ]
  },
  {
   "cell_type": "code",
   "execution_count": 60,
   "metadata": {
    "collapsed": false
   },
   "outputs": [
    {
     "name": "stdout",
     "output_type": "stream",
     "text": [
      "Naive Bayes   sem features de Nota: 0.812722263962\n"
     ]
    }
   ],
   "source": [
    "#clf = svm.SVC(kernel='linear', C=1)\n",
    "#clf = clf.fit(train_comments,train_labels)\n",
    "predicted5 = clf5.predict(test_comments)\n",
    "print('Naive Bayes   sem features de Nota:',np.mean(predicted5 == test_labels))"
   ]
  },
  {
   "cell_type": "code",
   "execution_count": 61,
   "metadata": {
    "collapsed": false
   },
   "outputs": [
    {
     "name": "stdout",
     "output_type": "stream",
     "text": [
      "             precision    recall  f1-score   support\n",
      "\n",
      "     elogio       0.89      0.98      0.93     13040\n",
      "     neutro       0.62      0.33      0.43      3754\n",
      " reclamação       0.61      0.72      0.66      3171\n",
      "\n",
      "avg / total       0.80      0.81      0.79     19965\n",
      "\n"
     ]
    }
   ],
   "source": [
    "print(metrics.classification_report(test_labels,predicted))"
   ]
  },
  {
   "cell_type": "code",
   "execution_count": 62,
   "metadata": {
    "collapsed": false
   },
   "outputs": [
    {
     "name": "stdout",
     "output_type": "stream",
     "text": [
      "[[12718   176   146]\n",
      " [ 1192  1234  1328]\n",
      " [  311   586  2274]]\n"
     ]
    }
   ],
   "source": [
    "print(metrics.confusion_matrix(test_labels,predicted))"
   ]
  },
  {
   "cell_type": "code",
   "execution_count": 67,
   "metadata": {
    "collapsed": false
   },
   "outputs": [
    {
     "name": "stdout",
     "output_type": "stream",
     "text": [
      "Cross Entropy Log-loss - Naive Bayes   sem features de Nota:0.4149\n"
     ]
    }
   ],
   "source": [
    "predicted_proba5 = clf5.predict_proba(test_comments)\n",
    "print ('Cross Entropy Log-loss - Naive Bayes   sem features de Nota:%.4f' % log_loss(test_labels, predicted_proba5))"
   ]
  },
  {
   "cell_type": "markdown",
   "metadata": {},
   "source": [
    "#### Calculating Log_loss for clf2 - SVM Linear com features de Nota"
   ]
  },
  {
   "cell_type": "code",
   "execution_count": 64,
   "metadata": {
    "collapsed": false
   },
   "outputs": [],
   "source": [
    "clf2_proba = svm.SVC(kernel='linear', C=1,cache_size=1000,probability=True).fit(train_comments2, train_labels2)"
   ]
  },
  {
   "cell_type": "code",
   "execution_count": 65,
   "metadata": {
    "collapsed": true
   },
   "outputs": [],
   "source": [
    "predicted_proba2 = clf2_probaroba.predict_proba(test_comments2)"
   ]
  },
  {
   "cell_type": "code",
   "execution_count": 66,
   "metadata": {
    "collapsed": false
   },
   "outputs": [
    {
     "name": "stdout",
     "output_type": "stream",
     "text": [
      "Cross Entropy Log-loss - SVM Linear   com features de Nota: 0.3128\n"
     ]
    }
   ],
   "source": [
    "print ('Cross Entropy Log-loss - SVM Linear   com features de Nota: %.4f' % log_loss(test_labels2, predicted_proba2))"
   ]
  },
  {
   "cell_type": "markdown",
   "metadata": {},
   "source": [
    "#### 3.3 - Model Persistence\n",
    "Após o treinamento de um modelo scikit-learn, é desejável criar formas de persistir o modelo para uso futuro, sem a necessidade de realizar o treinamento novamente."
   ]
  },
  {
   "cell_type": "code",
   "execution_count": 29,
   "metadata": {
    "collapsed": false
   },
   "outputs": [],
   "source": [
    "def dump_model(estimator,filename):\n",
    "    outputs = './outputs/'\n",
    "    datafile = os.path.join(outputs,filename)\n",
    "    \n",
    "    joblib.dump(estimator, datafile)"
   ]
  },
  {
   "cell_type": "code",
   "execution_count": 30,
   "metadata": {
    "collapsed": true
   },
   "outputs": [],
   "source": [
    "def load_model(filename):\n",
    "    outputs = './outputs/'\n",
    "    datafile = os.path.join(outputs,filename)\n",
    "    \n",
    "    return(joblib.load(datafile))"
   ]
  },
  {
   "cell_type": "code",
   "execution_count": 58,
   "metadata": {
    "collapsed": false
   },
   "outputs": [],
   "source": [
    "dump_model(clf ,'model1a.pk1')\n",
    "dump_model(clf2,'model1b.pk1')\n",
    "dump_model(clf3,'model2a.pk1')\n",
    "dump_model(clf4,'model2b.pk1')\n",
    "dump_model(clf5,'model3a.pk1')\n",
    "dump_model(clf6,'model3b.pk1')\n",
    "dump_model(clf7,'model4a.pk1')\n",
    "dump_model(clf8,'model4b.pk1')\n",
    "\n",
    "dump_model(train_comments,'train_comments.data')\n",
    "dump_model(train_labels,'train_labels.data')\n",
    "dump_model(test_comments,'test_comments.data')\n",
    "dump_model(test_labels,'test_labels.data')\n",
    "\n",
    "dump_model(train_comments2,'train_comments2.data')\n",
    "dump_model(train_labels2,'train_labels2.data')\n",
    "dump_model(test_comments2,'test_comments2.data')\n",
    "dump_model(test_labels2,'test_labels2.data')"
   ]
  },
  {
   "cell_type": "code",
   "execution_count": 59,
   "metadata": {
    "collapsed": false
   },
   "outputs": [],
   "source": [
    "clf  = load_model('model1a.pk1')\n",
    "clf2 = load_model('model1b.pk1')\n",
    "clf3 = load_model('model2a.pk1')\n",
    "clf4 = load_model('model2b.pk1')\n",
    "clf5 = load_model('model3a.pk1')\n",
    "clf6 = load_model('model3b.pk1')\n",
    "clf7 = load_model('model4a.pk1')\n",
    "clf8 = load_model('model4b.pk1')\n",
    "\n",
    "train_comments = load_model('train_comments.data')\n",
    "train_labels   = load_model('train_labels.data')\n",
    "test_comments  = load_model('test_comments.data')\n",
    "test_labels    = load_model('test_labels.data') \n",
    "\n",
    "train_comments2 = load_model('train_comments2.data')\n",
    "train_labels2   = load_model('train_labels2.data')\n",
    "test_comments2  = load_model('test_comments2.data')\n",
    "test_labels2    = load_model('test_labels2.data')"
   ]
  },
  {
   "cell_type": "code",
   "execution_count": 69,
   "metadata": {
    "collapsed": false
   },
   "outputs": [
    {
     "name": "stdout",
     "output_type": "stream",
     "text": [
      "SVM-Linear    sem features de Nota: 0.8501878287\n",
      "SVM-Linear    com features de Nota: 0.8664162284\n",
      "SVM-RBF       sem features de Nota: 0.65314300025\n",
      "SVM-RBF       com features de Nota: 0.777210117706\n"
     ]
    }
   ],
   "source": [
    "print('SVM-Linear    sem features de Nota:',clf.score(test_comments, test_labels))\n",
    "print('SVM-Linear    com features de Nota:',clf2.score(test_comments2, test_labels2))\n",
    "print('SVM-RBF       sem features de Nota:',clf3.score(test_comments, test_labels))\n",
    "print('SVM-RBF       com features de Nota:',clf4.score(test_comments2, test_labels2))"
   ]
  },
  {
   "cell_type": "code",
   "execution_count": 68,
   "metadata": {
    "collapsed": false
   },
   "outputs": [
    {
     "name": "stdout",
     "output_type": "stream",
     "text": [
      "Naive Bayes   sem features de Nota: 0.812722263962\n",
      "Naive Bayes   com features de Nota: 0.810017530679\n",
      "SGD           sem features de Nota: 0.840821437516\n",
      "SGD           com features de Nota: 0.859954921112\n"
     ]
    }
   ],
   "source": [
    "print('Naive Bayes   sem features de Nota:',clf5.score(test_comments, test_labels))\n",
    "print('Naive Bayes   com features de Nota:',clf6.score(test_comments2, test_labels2))\n",
    "print('SGD           sem features de Nota:',clf7.score(test_comments, test_labels))\n",
    "print('SGD           com features de Nota:',clf8.score(test_comments2, test_labels2))"
   ]
  },
  {
   "cell_type": "markdown",
   "metadata": {},
   "source": [
    "#### 3.4 - GridSearch\n"
   ]
  },
  {
   "cell_type": "code",
   "execution_count": 59,
   "metadata": {
    "collapsed": false
   },
   "outputs": [
    {
     "name": "stdout",
     "output_type": "stream",
     "text": [
      "SVM-Linear:  {'random_state': None, 'verbose': False, 'shrinking': True, 'coef0': 0.0, 'decision_function_shape': None, 'C': 1, 'degree': 3, 'cache_size': 1000, 'kernel': 'linear', 'max_iter': -1, 'class_weight': None, 'tol': 0.001, 'gamma': 'auto', 'probability': False}\n",
      "SVM-Gaussian:  {'random_state': None, 'verbose': False, 'shrinking': True, 'coef0': 0.0, 'decision_function_shape': None, 'C': 1, 'degree': 3, 'cache_size': 1000, 'kernel': 'rbf', 'max_iter': -1, 'class_weight': None, 'tol': 0.001, 'gamma': 'auto', 'probability': False}\n",
      "Naive Bayes:  {'alpha': 1.0, 'class_prior': None, 'fit_prior': True}\n",
      "SGD: {'random_state': None, 'n_jobs': 1, 'loss': 'hinge', 'power_t': 0.5, 'l1_ratio': 0.15, 'n_iter': 50, 'fit_intercept': True, 'alpha': 0.0001, 'eta0': 0.0, 'penalty': 'l2', 'average': False, 'class_weight': None, 'learning_rate': 'optimal', 'warm_start': False, 'verbose': 0, 'epsilon': 0.1, 'shuffle': True}\n"
     ]
    }
   ],
   "source": [
    "print('SVM-Linear: ',clf.get_params())\n",
    "print('SVM-Gaussian: ',clf3.get_params())\n",
    "print('Naive Bayes: ',clf5.get_params())\n",
    "print('SGD:',clf7.get_params())"
   ]
  },
  {
   "cell_type": "markdown",
   "metadata": {},
   "source": [
    "#### 3.4.1 - GridSearch for SGD (Stochastic Gradient Descent)\n"
   ]
  },
  {
   "cell_type": "code",
   "execution_count": 79,
   "metadata": {
    "collapsed": true
   },
   "outputs": [],
   "source": [
    "param_grid = {\"n_iter\": [20,100],\n",
    "              \"eta0\": [0, 0.5],\n",
    "              \"alpha\": [0.0001, 0.001],\n",
    "             }"
   ]
  },
  {
   "cell_type": "code",
   "execution_count": 80,
   "metadata": {
    "collapsed": false
   },
   "outputs": [
    {
     "name": "stdout",
     "output_type": "stream",
     "text": [
      "GridSearchCV levou 52.93 segundos para 8 avaliação de parameteros.\n"
     ]
    }
   ],
   "source": [
    "# Executando Grid Search\n",
    "grid_search =  GridSearchCV(clf7, param_grid=param_grid)\n",
    "start = time()\n",
    "grid_search.fit(test_comments, test_labels)\n",
    "\n",
    "print(\"GridSearchCV levou %.2f segundos para %d avaliação de parameteros.\"% (time() - start, len(grid_search.cv_results_['params'])))"
   ]
  },
  {
   "cell_type": "code",
   "execution_count": 84,
   "metadata": {
    "collapsed": false
   },
   "outputs": [
    {
     "name": "stdout",
     "output_type": "stream",
     "text": [
      "{'alpha': 0.0001, 'eta0': 0, 'n_iter': 20}\n",
      "0.840270473328\n"
     ]
    }
   ],
   "source": [
    "print(grid_search.best_params_)\n",
    "print(grid_search.best_score_)"
   ]
  },
  {
   "cell_type": "code",
   "execution_count": 83,
   "metadata": {
    "collapsed": false
   },
   "outputs": [
    {
     "data": {
      "text/plain": [
       "{'mean_fit_time': array([ 0.09957647,  4.04460327,  0.10257347,  3.87995362,  0.09906777,\n",
       "         4.49452209,  0.10841783,  4.48741349]),\n",
       " 'mean_score_time': array([ 0.00688767,  0.00719849,  0.00747856,  0.00687106,  0.00688505,\n",
       "         0.00929991,  0.00764791,  0.00749842]),\n",
       " 'mean_test_score': array([ 0.84027047,  0.83776609,  0.83826697,  0.83776609,  0.79749562,\n",
       "         0.79539194,  0.79699474,  0.79549211]),\n",
       " 'mean_train_score': array([ 0.88868033,  0.88697732,  0.88662668,  0.88695227,  0.81354887,\n",
       "         0.8116205 ,  0.81344868,  0.81174573]),\n",
       " 'param_alpha': masked_array(data = [0.0001 0.0001 0.0001 0.0001 0.001 0.001 0.001 0.001],\n",
       "              mask = [False False False False False False False False],\n",
       "        fill_value = ?),\n",
       " 'param_eta0': masked_array(data = [0 0 0.5 0.5 0 0 0.5 0.5],\n",
       "              mask = [False False False False False False False False],\n",
       "        fill_value = ?),\n",
       " 'param_n_iter': masked_array(data = [20 1000 20 1000 20 1000 20 1000],\n",
       "              mask = [False False False False False False False False],\n",
       "        fill_value = ?),\n",
       " 'params': ({'alpha': 0.0001, 'eta0': 0, 'n_iter': 20},\n",
       "  {'alpha': 0.0001, 'eta0': 0, 'n_iter': 1000},\n",
       "  {'alpha': 0.0001, 'eta0': 0.5, 'n_iter': 20},\n",
       "  {'alpha': 0.0001, 'eta0': 0.5, 'n_iter': 1000},\n",
       "  {'alpha': 0.001, 'eta0': 0, 'n_iter': 20},\n",
       "  {'alpha': 0.001, 'eta0': 0, 'n_iter': 1000},\n",
       "  {'alpha': 0.001, 'eta0': 0.5, 'n_iter': 20},\n",
       "  {'alpha': 0.001, 'eta0': 0.5, 'n_iter': 1000}),\n",
       " 'rank_test_score': array([1, 3, 2, 3, 5, 8, 6, 7], dtype=int32),\n",
       " 'split0_test_score': array([ 0.83698918,  0.83623798,  0.83774038,  0.83623798,  0.80078125,\n",
       "         0.79792668,  0.80018029,  0.79792668]),\n",
       " 'split0_train_score': array([ 0.89014952,  0.88962356,  0.88842137,  0.88962356,  0.81771733,\n",
       "         0.81561349,  0.81719137,  0.81591404]),\n",
       " 'split1_test_score': array([ 0.83561232,  0.83005259,  0.82915101,  0.83005259,  0.79248685,\n",
       "         0.79008264,  0.79203606,  0.79023291]),\n",
       " 'split1_train_score': array([ 0.89120962,  0.88602554,  0.88647633,  0.88587528,  0.81141998,\n",
       "         0.81029301,  0.81172051,  0.81029301]),\n",
       " 'split2_test_score': array([ 0.8482116 ,  0.84700932,  0.84791103,  0.84700932,  0.79921852,\n",
       "         0.79816652,  0.79876766,  0.7983168 ]),\n",
       " 'split2_train_score': array([ 0.88468184,  0.88528285,  0.88498235,  0.88535797,  0.81150928,\n",
       "         0.808955  ,  0.81143415,  0.80903013]),\n",
       " 'std_fit_time': array([ 0.00705697,  0.23754085,  0.0006569 ,  0.02300721,  0.00432104,\n",
       "         0.07379945,  0.0033775 ,  0.07293974]),\n",
       " 'std_score_time': array([  7.24800323e-05,   2.60262562e-04,   1.37669383e-05,\n",
       "          4.99691570e-05,   6.77052796e-05,   2.68003001e-03,\n",
       "          8.31335497e-05,   4.17072371e-04]),\n",
       " 'std_test_score': array([ 0.00564266,  0.00700614,  0.00766751,  0.00700614,  0.00359873,\n",
       "         0.00375551,  0.00355343,  0.00372223]),\n",
       " 'std_train_score': array([ 0.00286029,  0.00189558,  0.00140799,  0.00190066,  0.00294778,\n",
       "         0.00287583,  0.00264907,  0.0029922 ])}"
      ]
     },
     "execution_count": 83,
     "metadata": {},
     "output_type": "execute_result"
    }
   ],
   "source": [
    "grid_search.cv_results_"
   ]
  },
  {
   "cell_type": "markdown",
   "metadata": {},
   "source": [
    "#### 3.X - T-sne / Outlier detection\n"
   ]
  },
  {
   "cell_type": "markdown",
   "metadata": {},
   "source": [
    "TruncatedSVD\n",
    "\n",
    "Dimensionality reduction using truncated SVD (aka LSA).\n",
    "\n",
    "This transformer performs linear dimensionality reduction by means of truncated singular value decomposition (SVD). It is very similar to PCA, but operates on sample vectors directly, instead of on a covariance matrix. This means it can work with scipy.sparse matrices efficiently."
   ]
  },
  {
   "cell_type": "code",
   "execution_count": null,
   "metadata": {
    "collapsed": false
   },
   "outputs": [],
   "source": [
    "print(type(data_features_tf))\n",
    "print((data_features_tf.shape))\n",
    "print(type(train_comments))\n",
    "print((train_comments.shape))\n",
    "print(type(train_labels))\n",
    "print((train_labels.shape))"
   ]
  },
  {
   "cell_type": "code",
   "execution_count": null,
   "metadata": {
    "collapsed": true
   },
   "outputs": [],
   "source": [
    "from sklearn.decomposition import TruncatedSVD"
   ]
  },
  {
   "cell_type": "code",
   "execution_count": null,
   "metadata": {
    "collapsed": false
   },
   "outputs": [],
   "source": [
    "svd = TruncatedSVD(n_components=50, random_state=42)\n",
    "svd.fit(train_comments)"
   ]
  },
  {
   "cell_type": "code",
   "execution_count": null,
   "metadata": {
    "collapsed": false
   },
   "outputs": [],
   "source": [
    "print(svd.explained_variance_ratio_)\n",
    "print(svd.explained_variance_ratio_.sum())"
   ]
  },
  {
   "cell_type": "code",
   "execution_count": null,
   "metadata": {
    "collapsed": true
   },
   "outputs": [],
   "source": [
    "train_SVD=svd.transform(train_comments)"
   ]
  },
  {
   "cell_type": "code",
   "execution_count": null,
   "metadata": {
    "collapsed": false
   },
   "outputs": [],
   "source": [
    "print(train_SVD.shape)\n",
    "print(train_SVD)"
   ]
  },
  {
   "cell_type": "markdown",
   "metadata": {},
   "source": [
    "t-distributed Stochastic Neighbor Embedding.\n",
    "\n",
    "t-SNE [1] is a tool to visualize high-dimensional data. It converts similarities between data points to joint probabilities and tries to minimize the Kullback-Leibler divergence between the joint probabilities of the low-dimensional embedding and the high-dimensional data. t-SNE has a cost function that is not convex, i.e. with different initializations we can get different results.\n",
    "\n",
    "It is highly recommended to use another dimensionality reduction method (e.g. PCA for dense data or TruncatedSVD for sparse data) to reduce the number of dimensions to a reasonable amount (e.g. 50) if the number of features is very high. This will suppress some noise and speed up the computation of pairwise distances between samples. For more tips see Laurens van der Maaten’s FAQ [2]."
   ]
  },
  {
   "cell_type": "code",
   "execution_count": null,
   "metadata": {
    "collapsed": true
   },
   "outputs": [],
   "source": [
    "from sklearn.manifold import TSNE"
   ]
  },
  {
   "cell_type": "markdown",
   "metadata": {},
   "source": [
    "#### 3.X - Voting\n"
   ]
  },
  {
   "cell_type": "code",
   "execution_count": 125,
   "metadata": {
    "collapsed": true
   },
   "outputs": [],
   "source": [
    "from sklearn.ensemble import VotingClassifier\n",
    "\n",
    "from sklearn.linear_model import LogisticRegression\n",
    "from sklearn.ensemble import RandomForestClassifier\n",
    "from sklearn.naive_bayes import GaussianNB\n",
    "\n",
    "clf1 = LogisticRegression(random_state=0)\n",
    "clf2 = RandomForestClassifier(random_state=0)\n",
    "clf3 = GaussianNB()"
   ]
  },
  {
   "cell_type": "code",
   "execution_count": 126,
   "metadata": {
    "collapsed": true
   },
   "outputs": [],
   "source": [
    "train_comments, test_comments, train_labels, test_labels = cross_validation.train_test_split(data_features_tf, df_scikit['label'].values, test_size=0.2, random_state=0)"
   ]
  },
  {
   "cell_type": "code",
   "execution_count": 127,
   "metadata": {
    "collapsed": false
   },
   "outputs": [],
   "source": [
    "eclf1 = VotingClassifier(estimators=[('lr', clf1), ('rf', clf2), ('gnb', clf3)], voting='hard')"
   ]
  },
  {
   "cell_type": "code",
   "execution_count": 128,
   "metadata": {
    "collapsed": false
   },
   "outputs": [
    {
     "ename": "TypeError",
     "evalue": "A sparse matrix was passed, but dense data is required. Use X.toarray() to convert to a dense numpy array.",
     "output_type": "error",
     "traceback": [
      "\u001b[1;31m---------------------------------------------------------------------------\u001b[0m",
      "\u001b[1;31mTypeError\u001b[0m                                 Traceback (most recent call last)",
      "\u001b[1;32m<ipython-input-128-4895c1b2804d>\u001b[0m in \u001b[0;36m<module>\u001b[1;34m()\u001b[0m\n\u001b[1;32m----> 1\u001b[1;33m \u001b[0meclf1\u001b[0m\u001b[1;33m.\u001b[0m\u001b[0mfit\u001b[0m\u001b[1;33m(\u001b[0m\u001b[0mtrain_comments\u001b[0m\u001b[1;33m,\u001b[0m \u001b[0mtrain_labels\u001b[0m\u001b[1;33m)\u001b[0m\u001b[1;33m\u001b[0m\u001b[0m\n\u001b[0m",
      "\u001b[1;32m/home/gus/py3env/lib/python3.4/site-packages/sklearn/ensemble/voting_classifier.py\u001b[0m in \u001b[0;36mfit\u001b[1;34m(self, X, y)\u001b[0m\n\u001b[0;32m    124\u001b[0m \u001b[1;33m\u001b[0m\u001b[0m\n\u001b[0;32m    125\u001b[0m         \u001b[1;32mfor\u001b[0m \u001b[0mname\u001b[0m\u001b[1;33m,\u001b[0m \u001b[0mclf\u001b[0m \u001b[1;32min\u001b[0m \u001b[0mself\u001b[0m\u001b[1;33m.\u001b[0m\u001b[0mestimators\u001b[0m\u001b[1;33m:\u001b[0m\u001b[1;33m\u001b[0m\u001b[0m\n\u001b[1;32m--> 126\u001b[1;33m             \u001b[0mfitted_clf\u001b[0m \u001b[1;33m=\u001b[0m \u001b[0mclone\u001b[0m\u001b[1;33m(\u001b[0m\u001b[0mclf\u001b[0m\u001b[1;33m)\u001b[0m\u001b[1;33m.\u001b[0m\u001b[0mfit\u001b[0m\u001b[1;33m(\u001b[0m\u001b[0mX\u001b[0m\u001b[1;33m,\u001b[0m \u001b[0mself\u001b[0m\u001b[1;33m.\u001b[0m\u001b[0mle_\u001b[0m\u001b[1;33m.\u001b[0m\u001b[0mtransform\u001b[0m\u001b[1;33m(\u001b[0m\u001b[0my\u001b[0m\u001b[1;33m)\u001b[0m\u001b[1;33m)\u001b[0m\u001b[1;33m\u001b[0m\u001b[0m\n\u001b[0m\u001b[0;32m    127\u001b[0m             \u001b[0mself\u001b[0m\u001b[1;33m.\u001b[0m\u001b[0mestimators_\u001b[0m\u001b[1;33m.\u001b[0m\u001b[0mappend\u001b[0m\u001b[1;33m(\u001b[0m\u001b[0mfitted_clf\u001b[0m\u001b[1;33m)\u001b[0m\u001b[1;33m\u001b[0m\u001b[0m\n\u001b[0;32m    128\u001b[0m \u001b[1;33m\u001b[0m\u001b[0m\n",
      "\u001b[1;32m/home/gus/py3env/lib/python3.4/site-packages/sklearn/naive_bayes.py\u001b[0m in \u001b[0;36mfit\u001b[1;34m(self, X, y, sample_weight)\u001b[0m\n\u001b[0;32m    171\u001b[0m             \u001b[0mReturns\u001b[0m \u001b[0mself\u001b[0m\u001b[1;33m.\u001b[0m\u001b[1;33m\u001b[0m\u001b[0m\n\u001b[0;32m    172\u001b[0m         \"\"\"\n\u001b[1;32m--> 173\u001b[1;33m         \u001b[0mX\u001b[0m\u001b[1;33m,\u001b[0m \u001b[0my\u001b[0m \u001b[1;33m=\u001b[0m \u001b[0mcheck_X_y\u001b[0m\u001b[1;33m(\u001b[0m\u001b[0mX\u001b[0m\u001b[1;33m,\u001b[0m \u001b[0my\u001b[0m\u001b[1;33m)\u001b[0m\u001b[1;33m\u001b[0m\u001b[0m\n\u001b[0m\u001b[0;32m    174\u001b[0m         return self._partial_fit(X, y, np.unique(y), _refit=True,\n\u001b[0;32m    175\u001b[0m                                  sample_weight=sample_weight)\n",
      "\u001b[1;32m/home/gus/py3env/lib/python3.4/site-packages/sklearn/utils/validation.py\u001b[0m in \u001b[0;36mcheck_X_y\u001b[1;34m(X, y, accept_sparse, dtype, order, copy, force_all_finite, ensure_2d, allow_nd, multi_output, ensure_min_samples, ensure_min_features, y_numeric, warn_on_dtype, estimator)\u001b[0m\n\u001b[0;32m    508\u001b[0m     X = check_array(X, accept_sparse, dtype, order, copy, force_all_finite,\n\u001b[0;32m    509\u001b[0m                     \u001b[0mensure_2d\u001b[0m\u001b[1;33m,\u001b[0m \u001b[0mallow_nd\u001b[0m\u001b[1;33m,\u001b[0m \u001b[0mensure_min_samples\u001b[0m\u001b[1;33m,\u001b[0m\u001b[1;33m\u001b[0m\u001b[0m\n\u001b[1;32m--> 510\u001b[1;33m                     ensure_min_features, warn_on_dtype, estimator)\n\u001b[0m\u001b[0;32m    511\u001b[0m     \u001b[1;32mif\u001b[0m \u001b[0mmulti_output\u001b[0m\u001b[1;33m:\u001b[0m\u001b[1;33m\u001b[0m\u001b[0m\n\u001b[0;32m    512\u001b[0m         y = check_array(y, 'csr', force_all_finite=True, ensure_2d=False,\n",
      "\u001b[1;32m/home/gus/py3env/lib/python3.4/site-packages/sklearn/utils/validation.py\u001b[0m in \u001b[0;36mcheck_array\u001b[1;34m(array, accept_sparse, dtype, order, copy, force_all_finite, ensure_2d, allow_nd, ensure_min_samples, ensure_min_features, warn_on_dtype, estimator)\u001b[0m\n\u001b[0;32m    369\u001b[0m     \u001b[1;32mif\u001b[0m \u001b[0msp\u001b[0m\u001b[1;33m.\u001b[0m\u001b[0missparse\u001b[0m\u001b[1;33m(\u001b[0m\u001b[0marray\u001b[0m\u001b[1;33m)\u001b[0m\u001b[1;33m:\u001b[0m\u001b[1;33m\u001b[0m\u001b[0m\n\u001b[0;32m    370\u001b[0m         array = _ensure_sparse_format(array, accept_sparse, dtype, copy,\n\u001b[1;32m--> 371\u001b[1;33m                                       force_all_finite)\n\u001b[0m\u001b[0;32m    372\u001b[0m     \u001b[1;32melse\u001b[0m\u001b[1;33m:\u001b[0m\u001b[1;33m\u001b[0m\u001b[0m\n\u001b[0;32m    373\u001b[0m         \u001b[0marray\u001b[0m \u001b[1;33m=\u001b[0m \u001b[0mnp\u001b[0m\u001b[1;33m.\u001b[0m\u001b[0marray\u001b[0m\u001b[1;33m(\u001b[0m\u001b[0marray\u001b[0m\u001b[1;33m,\u001b[0m \u001b[0mdtype\u001b[0m\u001b[1;33m=\u001b[0m\u001b[0mdtype\u001b[0m\u001b[1;33m,\u001b[0m \u001b[0morder\u001b[0m\u001b[1;33m=\u001b[0m\u001b[0morder\u001b[0m\u001b[1;33m,\u001b[0m \u001b[0mcopy\u001b[0m\u001b[1;33m=\u001b[0m\u001b[0mcopy\u001b[0m\u001b[1;33m)\u001b[0m\u001b[1;33m\u001b[0m\u001b[0m\n",
      "\u001b[1;32m/home/gus/py3env/lib/python3.4/site-packages/sklearn/utils/validation.py\u001b[0m in \u001b[0;36m_ensure_sparse_format\u001b[1;34m(spmatrix, accept_sparse, dtype, copy, force_all_finite)\u001b[0m\n\u001b[0;32m    236\u001b[0m     \"\"\"\n\u001b[0;32m    237\u001b[0m     \u001b[1;32mif\u001b[0m \u001b[0maccept_sparse\u001b[0m \u001b[1;32min\u001b[0m \u001b[1;33m[\u001b[0m\u001b[1;32mNone\u001b[0m\u001b[1;33m,\u001b[0m \u001b[1;32mFalse\u001b[0m\u001b[1;33m]\u001b[0m\u001b[1;33m:\u001b[0m\u001b[1;33m\u001b[0m\u001b[0m\n\u001b[1;32m--> 238\u001b[1;33m         raise TypeError('A sparse matrix was passed, but dense '\n\u001b[0m\u001b[0;32m    239\u001b[0m                         \u001b[1;34m'data is required. Use X.toarray() to '\u001b[0m\u001b[1;33m\u001b[0m\u001b[0m\n\u001b[0;32m    240\u001b[0m                         'convert to a dense numpy array.')\n",
      "\u001b[1;31mTypeError\u001b[0m: A sparse matrix was passed, but dense data is required. Use X.toarray() to convert to a dense numpy array."
     ]
    }
   ],
   "source": [
    "eclf1.fit(train_comments, train_labels)"
   ]
  },
  {
   "cell_type": "code",
   "execution_count": null,
   "metadata": {
    "collapsed": true
   },
   "outputs": [],
   "source": [
    "eclf1.score(test_comments, test_labels)"
   ]
  },
  {
   "cell_type": "markdown",
   "metadata": {},
   "source": [
    "#### 3.X - Hot Test\n"
   ]
  },
  {
   "cell_type": "code",
   "execution_count": 90,
   "metadata": {
    "collapsed": false
   },
   "outputs": [
    {
     "data": {
      "text/plain": [
       "'\\npredicted = clf.predict(data_features_tf[:,:])\\ndf_scikit[\"predicted\"]=predicted\\n\\nwriter = pd.ExcelWriter(\\'output.xlsx\\')\\ndf_scikit.to_excel(writer,\\'Sheet1\\')\\nwriter.save()\\n'"
      ]
     },
     "execution_count": 90,
     "metadata": {},
     "output_type": "execute_result"
    }
   ],
   "source": [
    "\"\"\"\n",
    "predicted = clf.predict(data_features_tf[:,:])\n",
    "df_scikit[\"predicted\"]=predicted\n",
    "\n",
    "writer = pd.ExcelWriter('output.xlsx')\n",
    "df_scikit.to_excel(writer,'Sheet1')\n",
    "writer.save()\n",
    "\"\"\""
   ]
  },
  {
   "cell_type": "markdown",
   "metadata": {},
   "source": [
    "#### Oversampling"
   ]
  },
  {
   "cell_type": "code",
   "execution_count": null,
   "metadata": {
    "collapsed": true
   },
   "outputs": [],
   "source": [
    "#INSERT DATA IN TABLE PESQUISA\n",
    "def Insertdata2(first_row_ID,dict1):\n",
    "    db = sqlite3.connect('projeto.db')\n",
    "    cursor = db.cursor()\n",
    "    i=first_row_ID+1\n",
    "    for com,cat,n1,n2 in map(lambda *a: a,*zip(*itertools.zip_longest(dict1.get('Comentário'),dict1.get('Manifestação ao Atendimento'),dict1.get('Nota Questão 1'),dict1.get('Nota Questão 2')))):\n",
    "        cursor.execute(\"INSERT INTO TESTE (ID,COMENTARIO,NOTA1,NOTA2,MANIFESTACAO) VALUES (?,?,?,?,?)\",(i, com, n1, n2, cat))\n",
    "        i=i+1\n",
    "    db.commit()\n",
    "\n",
    "    #LAST ROW ID\n",
    "    last_row_ID = cursor.lastrowid\n",
    "\n",
    "    db.close()\n",
    "    \n",
    "    return(last_row_ID)"
   ]
  },
  {
   "cell_type": "code",
   "execution_count": null,
   "metadata": {
    "collapsed": false
   },
   "outputs": [],
   "source": [
    "#DROP\n",
    "db = sqlite3.connect('projeto.db')\n",
    "querySQL = db.execute(\"DROP TABLE TESTE\")\n",
    "db.commit()\n",
    "db.close()"
   ]
  },
  {
   "cell_type": "code",
   "execution_count": null,
   "metadata": {
    "collapsed": true
   },
   "outputs": [],
   "source": [
    "#CREATE TABLE\n",
    "#Comando para criar a tabela no banco de dados. Só precisa ser executada uma única vez\n",
    "\n",
    "db = sqlite3.connect('projeto.db')\n",
    "db.execute('''CREATE TABLE TESTE\n",
    "       (ID INT PRIMARY KEY    NOT NULL,\n",
    "       COMENTARIO      TEXT,\n",
    "       NOTA1           FLOAT,\n",
    "       NOTA2           FLOAT,\n",
    "       MANIFESTACAO    CHAR(20));''')\n",
    "db.close()"
   ]
  },
  {
   "cell_type": "code",
   "execution_count": null,
   "metadata": {
    "collapsed": false
   },
   "outputs": [],
   "source": [
    "#MaxID\n",
    "db = sqlite3.connect('projeto.db')\n",
    "cursor = db.execute('SELECT max(ID) FROM TESTE')\n",
    "MaxID = cursor.fetchone()[0]\n",
    "\n",
    "try:\n",
    "    val = int(MaxID)\n",
    "except:\n",
    "    MaxID=0\n",
    "    \n",
    "print(MaxID)\n",
    "db.close()"
   ]
  },
  {
   "cell_type": "code",
   "execution_count": null,
   "metadata": {
    "collapsed": false
   },
   "outputs": [],
   "source": [
    "lista_csv2=['2016.05.csv']\n",
    "for doc in lista_csv2:\n",
    "    dict2=Createdict(doc)\n",
    "    MaxID=Insertdata2(MaxID,dict2)\n",
    "    print(MaxID)"
   ]
  },
  {
   "cell_type": "code",
   "execution_count": null,
   "metadata": {
    "collapsed": false
   },
   "outputs": [],
   "source": [
    "#RETRIEVING DATA FROM THE DATABASE\n",
    "\n",
    "dict3=defaultdict(list)\n",
    "\n",
    "db = sqlite3.connect('projeto.db')\n",
    "db.row_factory = sqlite3.Row\n",
    "cursor =db.cursor()\n",
    "\n",
    "querySQL = cursor.execute(\"SELECT ID,COMENTARIO,NOTA1,NOTA2,MANIFESTACAO from TESTE\")\n",
    "\n",
    "for row in querySQL:\n",
    "    dict3['ID'].append(row[0])\n",
    "    dict3['Comentário'].append(row[1])\n",
    "    dict3['Nota Questão 1'].append(row[2])\n",
    "    dict3['Nota Questão 2'].append(row[3])\n",
    "    dict3['Manifestação ao Atendimento'].append(row[4])\n",
    "    \n",
    "db.close()"
   ]
  },
  {
   "cell_type": "code",
   "execution_count": null,
   "metadata": {
    "collapsed": true
   },
   "outputs": [],
   "source": [
    "words3 = [(i.strip('.,').lower().split(),category,n1,n2 )\n",
    "for i,category,n1,n2 in map(lambda *a: a,*zip(*itertools.zip_longest(dict3.get('Comentário'),dict3.get('Manifestação ao Atendimento'),dict3.get('Nota Questão 1'),dict3.get('Nota Questão 2'))))]\n"
   ]
  },
  {
   "cell_type": "code",
   "execution_count": null,
   "metadata": {
    "collapsed": true
   },
   "outputs": [],
   "source": [
    "rows=[]\n",
    "\n",
    "for item in words3:\n",
    "    rows.append({'text':\" \".join(item[0]),'label':item[1],'nota1':item[2],'nota2':item[3]})\n",
    "df_minority=pd.DataFrame(rows)"
   ]
  },
  {
   "cell_type": "code",
   "execution_count": null,
   "metadata": {
    "collapsed": true
   },
   "outputs": [],
   "source": [
    "#alterar para jogar nota=3 no caso de nao respondido ao inves de nota=0\n",
    "df_minority['nota1']=(df_minority.fillna(value=3)['nota1'].astype(np.float))\n",
    "df_minority['nota2']=(df_minority.fillna(value=1)['nota2'].astype(np.float))"
   ]
  },
  {
   "cell_type": "code",
   "execution_count": null,
   "metadata": {
    "collapsed": false
   },
   "outputs": [],
   "source": [
    "#bag of words features\n",
    "\n",
    "data = count_vect.transform(df_minority['text'].values)\n",
    "\n",
    "#term frequency features\n",
    "tf_transformer = TfidfTransformer(use_idf=False).fit(data)\n",
    "data_features_tf = tf_transformer.transform(data)"
   ]
  },
  {
   "cell_type": "code",
   "execution_count": null,
   "metadata": {
    "collapsed": false
   },
   "outputs": [],
   "source": [
    "n1=coo_matrix(df_minority['nota1'].values)\n",
    "n2=coo_matrix(df_minority['nota2'].values)\n",
    "print(data_features_tf.shape)\n",
    "\n",
    "data_features_tf=csr_matrix(hstack([coo_matrix(data_features_tf),n1.transpose()]))\n",
    "data_features_tf=csr_matrix(hstack([coo_matrix(data_features_tf),n2.transpose()]))\n",
    "\n",
    "\n",
    "print(n1.transpose().shape)\n",
    "print(n2.transpose().shape)\n",
    "print(data_features_tf.shape)"
   ]
  },
  {
   "cell_type": "code",
   "execution_count": null,
   "metadata": {
    "collapsed": false
   },
   "outputs": [],
   "source": [
    "predicted = clf.predict(data_features_tf[:,:])\n",
    "print(np.mean(predicted == df_minority['label'][:].values))"
   ]
  },
  {
   "cell_type": "code",
   "execution_count": null,
   "metadata": {
    "collapsed": false
   },
   "outputs": [],
   "source": [
    "print(metrics.confusion_matrix(df_minority['label'][:].values,predicted))"
   ]
  },
  {
   "cell_type": "code",
   "execution_count": null,
   "metadata": {
    "collapsed": false
   },
   "outputs": [],
   "source": [
    "df_minority[\"predicted\"]=predicted\n",
    "df_minority = df_minority[['label','predicted', 'nota1', 'nota2', 'text']]\n",
    "df_minority.columns=['Manifestação ao Atendimento','predicted', 'Nota Questão 1', 'Nota Questão 2', 'Comentário']\n",
    "writer = pd.ExcelWriter('output.xlsx')\n",
    "df_minority.to_excel(writer,'Sheet1')\n",
    "writer.save()"
   ]
  }
 ],
 "metadata": {
  "kernelspec": {
   "display_name": "Python 3",
   "language": "python",
   "name": "python3"
  },
  "language_info": {
   "codemirror_mode": {
    "name": "ipython",
    "version": 3
   },
   "file_extension": ".py",
   "mimetype": "text/x-python",
   "name": "python",
   "nbconvert_exporter": "python",
   "pygments_lexer": "ipython3",
   "version": "3.4.2"
  }
 },
 "nbformat": 4,
 "nbformat_minor": 0
}
