{
 "cells": [
  {
   "cell_type": "markdown",
   "metadata": {},
   "source": [
    "### 1 - Importing packages"
   ]
  },
  {
   "cell_type": "code",
   "execution_count": 1,
   "metadata": {
    "collapsed": false
   },
   "outputs": [
    {
     "name": "stderr",
     "output_type": "stream",
     "text": [
      "/home/gus/py3env/lib/python3.4/site-packages/sklearn/cross_validation.py:44: DeprecationWarning: This module was deprecated in version 0.18 in favor of the model_selection module into which all the refactored classes and functions are moved. Also note that the interface of the new CV iterators are different from that of this module. This module will be removed in 0.20.\n",
      "  \"This module will be removed in 0.20.\", DeprecationWarning)\n"
     ]
    }
   ],
   "source": [
    "#Pacotes Básicos Python\n",
    "import os\n",
    "import string\n",
    "import itertools\n",
    "from collections import defaultdict, Counter\n",
    "\n",
    "#Banco de Dados sqlite3\n",
    "import sqlite3\n",
    "\n",
    "#NLTK - Natural Languange Toolkit\n",
    "import nltk\n",
    "\n",
    "#Pacotes de Suporte - pandas e numpy\n",
    "import pandas as pd\n",
    "import numpy as np\n",
    "\n",
    "#Machine Learning\n",
    "from scipy.sparse import csr_matrix,coo_matrix,hstack\n",
    "from sklearn.feature_extraction.text import CountVectorizer,TfidfTransformer\n",
    "from sklearn import metrics\n",
    "from sklearn.metrics import log_loss\n",
    "from sklearn import preprocessing #normalização dos dados\n",
    "from sklearn.model_selection import GridSearchCV\n",
    "from sklearn.ensemble import VotingClassifier\n",
    "import xgboost as xgb\n",
    "from sklearn.metrics import roc_curve,auc\n",
    "from sklearn.metrics import roc_auc_score\n",
    "from sklearn import cross_validation\n",
    "\n",
    "#Machine Learning - estimators\n",
    "from sklearn import svm\n",
    "from sklearn.naive_bayes import MultinomialNB\n",
    "from sklearn.linear_model import SGDClassifier\n",
    "\n",
    "#Visualização de dados\n",
    "import matplotlib.pyplot as plt\n",
    "\n",
    "#Enchant - Correção Ortográfica\n",
    "import enchant\n",
    "from enchant import DictWithPWL\n",
    "from enchant.checker import SpellChecker\n",
    "\n",
    "#Persistência de Modelo\n",
    "from sklearn.externals import joblib\n",
    "\n",
    "#Contagem de tempo de processamento\n",
    "from time import time"
   ]
  },
  {
   "cell_type": "markdown",
   "metadata": {},
   "source": [
    "### 2 - Pré-Processamento"
   ]
  },
  {
   "cell_type": "code",
   "execution_count": 5,
   "metadata": {
    "collapsed": false
   },
   "outputs": [],
   "source": [
    "#DROP\n",
    "db = sqlite3.connect('projeto.db')\n",
    "querySQL = db.execute(\"DROP TABLE PESQUISA\")\n",
    "db.commit()\n",
    "db.close()"
   ]
  },
  {
   "cell_type": "code",
   "execution_count": 6,
   "metadata": {
    "collapsed": false
   },
   "outputs": [],
   "source": [
    "#CREATE TABLE\n",
    "#Comando para criar a tabela no banco de dados. Só precisa ser executada uma única vez\n",
    "\n",
    "db = sqlite3.connect('projeto.db')\n",
    "db.execute('''CREATE TABLE PESQUISA\n",
    "       (ID INT PRIMARY KEY    NOT NULL,\n",
    "       IDINC           CHAR(20),\n",
    "       DATA            DATE,\n",
    "       COMENTARIO      TEXT,\n",
    "       NOTA1           FLOAT,\n",
    "       NOTA2           FLOAT,\n",
    "       NIVEL1          TEXT,\n",
    "       MANIFESTACAO    CHAR(20),\n",
    "       MANIFATEN       CHAR(20),\n",
    "       MANIFSERV       CHAR(20));''')\n",
    "db.close()"
   ]
  },
  {
   "cell_type": "code",
   "execution_count": 2,
   "metadata": {
    "collapsed": false
   },
   "outputs": [
    {
     "name": "stdout",
     "output_type": "stream",
     "text": [
      "99825\n"
     ]
    }
   ],
   "source": [
    "#MaxID\n",
    "db = sqlite3.connect('projeto.db')\n",
    "cursor = db.execute('SELECT max(ID) FROM PESQUISA')\n",
    "MaxID = cursor.fetchone()[0]\n",
    "\n",
    "try:\n",
    "    val = int(MaxID)\n",
    "except:\n",
    "    MaxID=0\n",
    "    \n",
    "print(MaxID)\n",
    "db.close()"
   ]
  },
  {
   "cell_type": "code",
   "execution_count": 3,
   "metadata": {
    "collapsed": true
   },
   "outputs": [],
   "source": [
    "#Função para identificar o idioma da pesquisa de satisfação, baseada no idioma da Questão1\n",
    "#Input : dataframe e Questão1 \n",
    "#Output: inteiro com a codificação do idioma. 1-Portugês, 2-Espanhol, 3-Inglês ou outros\n",
    "def setidioma (DF,Q):\n",
    "    if Q == \"Qual o seu nível de satisfação com esse atendimento?\":\n",
    "        return 1\n",
    "    elif Q == \"¿Cuál es su grado de satisfacción con este servicio?\":\n",
    "        return 2\n",
    "    else:\n",
    "        return 3"
   ]
  },
  {
   "cell_type": "code",
   "execution_count": 4,
   "metadata": {
    "collapsed": false
   },
   "outputs": [],
   "source": [
    "#Função para normalizar o campo 'Manifestação' em: elogio, neutro e reclamação.\n",
    "#Input : dataframe e campos de MANIFESTAÇÃO AO ATENDIMENTO e MANIFESTAÇÃO AO SERVIÇO \n",
    "#Output: MANIFESTAÇÃO normalizada\n",
    "def setmanifestacao (DF,ATEN,SERV):\n",
    "    positivo=[\"elogio\",\"agradecimento\"]\n",
    "    neutro  =[\"neutro\",\"sugestão\"]\n",
    "    negativo=[\"reclamação\",\"insatisfeito\",\"não-resolvido\"]\n",
    "    valido=positivo+neutro+negativo\n",
    "\n",
    "    if   (str.lower(ATEN) in negativo) or (str.lower(SERV) in negativo):\n",
    "        return \"reclamação\"\n",
    "    elif (str.lower(ATEN) in positivo) or (str.lower(SERV) in positivo):\n",
    "        return \"elogio\"\n",
    "    elif (str.lower(ATEN) in neutro) and (str.lower(SERV) in neutro):\n",
    "        return \"neutro\"\n",
    "    elif (str.lower(ATEN) not in valido) or (str.lower(SERV) not in valido):\n",
    "        return \"invalido\"\n",
    "    else:\n",
    "        return \"erro\""
   ]
  },
  {
   "cell_type": "code",
   "execution_count": 5,
   "metadata": {
    "collapsed": false
   },
   "outputs": [],
   "source": [
    "#Função para normalizar o campo 'Manifestação ao Atendimento' e 'Manifestação ao Serviço' em: elogio, neutro e reclamação.\n",
    "#Input : dataframe e campo X a ser normalizado\n",
    "#Output: MANIFESTAÇÃO normalizada\n",
    "def setmanifestacao2 (DF,X):\n",
    "    positivo=[\"elogio\",\"agradecimento\"]\n",
    "    neutro  =[\"neutro\",\"sugestão\"]\n",
    "    negativo=[\"reclamação\",\"insatisfeito\",\"não-resolvido\"]\n",
    "    valido=positivo+neutro+negativo\n",
    "\n",
    "    if   (str.lower(X) in negativo):\n",
    "        return \"reclamação\"\n",
    "    elif (str.lower(X) in positivo):\n",
    "        return \"elogio\"\n",
    "    elif (str.lower(X) in neutro):\n",
    "        return \"neutro\"\n",
    "    elif (str.lower(X) not in valido):\n",
    "        return \"invalido\"\n",
    "    else:\n",
    "        return \"erro\""
   ]
  },
  {
   "cell_type": "code",
   "execution_count": 6,
   "metadata": {
    "collapsed": true
   },
   "outputs": [],
   "source": [
    "#Função para INSERT na tabela PESQUISA do banco de dados\n",
    "#Input : Ponteiro first_row_ID, indicando onde deve ser feito o INSERT na tabela PESQUISA e dicionário a ser inserido\n",
    "#Output: Ponteiro com a nova posição após o último INSERT\n",
    "\n",
    "def Insertdata(first_row_ID,dict1):\n",
    "    db = sqlite3.connect('projeto.db')\n",
    "    cursor = db.cursor()\n",
    "    i=first_row_ID+1\n",
    "    for com,id_inc,data,cat,n1,n2,nivel1,aten,serv in map(lambda *a: a,*zip(*itertools.zip_longest(dict1.get('Comentário'),dict1.get('Número do Incidente'),dict1.get('Data da Resposta'),dict1.get('Manifestação Ajustada'),dict1.get('Nota Questão 1'),dict1.get('Nota Questão 2'),dict1.get('Nível 1'),dict1.get('Manifestação ao Atendimento'),dict1.get('Manifestação ao Serviço')))):\n",
    "        cursor.execute(\"INSERT INTO PESQUISA (ID,IDINC,DATA,COMENTARIO,NOTA1,NOTA2,NIVEL1,MANIFESTACAO,MANIFATEN,MANIFSERV) VALUES (?,?,?,?,?,?,?,?,?,?)\",(i, id_inc,data, com, n1, n2, nivel1, cat,aten,serv))\n",
    "        i=i+1\n",
    "    db.commit()\n",
    "\n",
    "    #LAST ROW ID\n",
    "    last_row_ID = cursor.lastrowid\n",
    "\n",
    "    db.close()\n",
    "    \n",
    "    return(last_row_ID)"
   ]
  },
  {
   "cell_type": "code",
   "execution_count": 7,
   "metadata": {
    "collapsed": true
   },
   "outputs": [],
   "source": [
    "#Função para leitura do arquivo .csv\n",
    "#Input : arquivo .csv \n",
    "#Output: Dicionário (dict)\n",
    "\n",
    "def Createdict(csvfile):\n",
    "    #Especificando os paths relativos para a leitura do arquivo .csv\n",
    "    datapath = './datasets/'\n",
    "    outputs = './outputs/'\n",
    "    datafile = os.path.join(datapath, csvfile)\n",
    "    \n",
    "    #Armazenando todos os campos do arquivo .csv em um Pandas Dataframe\n",
    "    df = pd.read_csv(datafile,dtype={'Nota Questão 1':float,'Nota Questão 2':float,'Número do Incidente':object,'Status':object,'Organização de Suporte':object,'Data da Resposta':object,'Grupo Designado':object,'Nível 1':object,'Nível 2':object,'Nível 3':object,'Questão 1':object,'Questão 2':object,'Questão 3':object,'Organização':object,'Localização no Trabalho':object,'Departamento':object,'Comentário':object,'P1 (Satisfação)':object,'P2 (Resolução)':object,'Manifestação ao Atendimento':object,'Manifestação ao Serviço':object,'Ações':object,'Novo Registro (caso Reabertura)':object,'Data corrigida':object})\n",
    "\n",
    "    #Insere o valor \"0\" nas células que possuem Na/NaN das colunas selecionadas\n",
    "    df['Comentário']=df.fillna(value=\"0\")['Comentário']\n",
    "    df['Manifestação ao Atendimento']=df.fillna(value=\"0\")['Manifestação ao Atendimento']\n",
    "    df['Manifestação ao Serviço']=df.fillna(value=\"0\")['Manifestação ao Serviço']\n",
    "    df['Ações']=df.fillna(value=\"0\")['Ações']\n",
    "\n",
    "    #Criando uma nova coluna \"Idioma\", com o objetivo de segregar as pesquisas de satisfação por idioma.\n",
    "    df[\"Idioma\"]=df.apply(lambda row: setidioma(df,row[\"Questão 1\"]), axis=1)\n",
    "\n",
    "    #Criando um Dataframe apenas com as perguntas em portugês - df_pt\n",
    "    df_pt=df.copy()\n",
    "    df_pt=df_pt[df_pt.Idioma == 1]\n",
    "\n",
    "    #Removendo pesquisas que não possuem nenhum comentário, ou nenhuma manifestação preenchida manualmente\n",
    "    df_pt = df_pt[df_pt['Comentário'] != '0']\n",
    "    df_pt = df_pt[df_pt['Manifestação ao Atendimento'] != '0']\n",
    "    df_pt = df_pt[df_pt['Manifestação ao Serviço'] != '0']\n",
    "    \n",
    "    #Normalizando o campo MANIFESTÇÃO AO ATENDIMENTO, através da criação do campo MANIFESTAÇÃO AJUSTADA\n",
    "    df_pt[\"Manifestação Ajustada\"]=df_pt.apply(lambda row: setmanifestacao(df_pt,row[\"Manifestação ao Atendimento\"],row[\"Manifestação ao Serviço\"]), axis=1)\n",
    "    \n",
    "    #Criando um Dicionário a partir do pandas Dataframe\n",
    "    dict1 = {}\n",
    "    dict1['Nota Questão 1']=df_pt['Nota Questão 1']\n",
    "    dict1['Nota Questão 2']=df_pt['Nota Questão 2']\n",
    "    dict1['Comentário']= df_pt['Comentário']\n",
    "    dict1['Manifestação ao Atendimento']=df_pt['Manifestação ao Atendimento']\n",
    "    dict1['Manifestação ao Serviço']=df_pt['Manifestação ao Serviço']\n",
    "    dict1['Manifestação Ajustada']=df_pt['Manifestação Ajustada']\n",
    "    dict1['Data da Resposta']=df_pt['Data da Resposta']\n",
    "    dict1['Número do Incidente']=df_pt['Número do Incidente']\n",
    "    dict1['Nível 1']=df_pt['Nível 1']\n",
    "    \n",
    "    return(dict1)"
   ]
  },
  {
   "cell_type": "code",
   "execution_count": 13,
   "metadata": {
    "collapsed": false
   },
   "outputs": [
    {
     "name": "stdout",
     "output_type": "stream",
     "text": [
      "4963\n",
      "9787\n",
      "15662\n",
      "20768\n",
      "25580\n",
      "30583\n",
      "35431\n",
      "39800\n",
      "45497\n",
      "51417\n",
      "57512\n",
      "63833\n",
      "69771\n",
      "75435\n",
      "81534\n",
      "88491\n",
      "93364\n",
      "99825\n"
     ]
    }
   ],
   "source": [
    "#Populando o banco de dados\n",
    "\n",
    "#oversample2015-JANaJUL.csv'\n",
    "#lista_csv=['2016.05.csv']\n",
    "lista_csv=['2016.01.csv','2016.02.csv','2016.03.csv','2016.04.csv','2016.05.csv','2016.06.csv','2015.12.csv','2015.11.csv','2015.10.csv','2015.09.csv','2015.08.csv','2015.07.csv','2015.06.csv','2015.05.csv','2015.04.csv','2015.03.csv','2015.02.csv','2015.01.csv']\n",
    "           \n",
    "for doc in lista_csv:\n",
    "    dict2=Createdict(doc)\n",
    "    MaxID=Insertdata(MaxID,dict2)\n",
    "    print(MaxID)"
   ]
  },
  {
   "cell_type": "code",
   "execution_count": 8,
   "metadata": {
    "collapsed": false
   },
   "outputs": [],
   "source": [
    "#Recuperando dados do banco de dados através do comando SELECT e armazenando em um Dictionary\n",
    "\n",
    "dict3=defaultdict(list)\n",
    "\n",
    "db = sqlite3.connect('projeto.db')\n",
    "db.row_factory = sqlite3.Row\n",
    "cursor =db.cursor()\n",
    "\n",
    "querySQL = cursor.execute(\"SELECT ID,IDINC,DATA,COMENTARIO,NOTA1,NOTA2,MANIFESTACAO,MANIFATEN,MANIFSERV,NIVEL1 from PESQUISA\")\n",
    "\n",
    "for row in querySQL:\n",
    "    dict3['ID'].append(row[0])\n",
    "    dict3['Número do Incidente'].append(row[1])\n",
    "    dict3['Data'].append(row[2])\n",
    "    dict3['Comentário'].append(row[3])\n",
    "    dict3['Nota Questão 1'].append(row[4])\n",
    "    dict3['Nota Questão 2'].append(row[5])\n",
    "    dict3['Manifestação Ajustada'].append(row[6])\n",
    "    dict3['Manifestação ao Atendimento'].append(row[7])\n",
    "    dict3['Manifestação ao Serviço'].append(row[8])\n",
    "    dict3['Nível 1'].append(row[9])\n",
    "    \n",
    "db.close()"
   ]
  },
  {
   "cell_type": "code",
   "execution_count": 9,
   "metadata": {
    "collapsed": true
   },
   "outputs": [],
   "source": [
    "#Processamento - STRIP-remove caracteres, LOWER-transforma caracteres em minúsculo e SPLIT-Separa as palavras no \"Comentário\"\n",
    "words3 = [(i.strip('.,').lower().split(),category,n1,n2,m1,m2,ID,data,id_inc,nivel1)\n",
    "for i,category,n1,n2,m1,m2,ID,data,id_inc,nivel1 in map(lambda *a: a,*zip(*itertools.zip_longest(dict3.get('Comentário'),dict3.get('Manifestação Ajustada'),dict3.get('Nota Questão 1'),dict3.get('Nota Questão 2'),dict3.get('Manifestação ao Atendimento'),dict3.get('Manifestação ao Serviço'),dict3.get('ID'),dict3.get('Data'),dict3.get('Número do Incidente'),dict3.get('Nível 1'))))]\n"
   ]
  },
  {
   "cell_type": "code",
   "execution_count": 10,
   "metadata": {
    "collapsed": true
   },
   "outputs": [],
   "source": [
    "#Transformando DE: Dictionary --> PARA: pandas Dataframe\n",
    "rows=[]\n",
    "\n",
    "for item in words3:\n",
    "    rows.append({'text':\" \".join(item[0]),'label':item[1],'nota1':item[2],'nota2':item[3],'Manif-ATEN':item[4],'Manif-SERV':item[5],'ID':item[6],'Data':item[7],'Número do Incidente':item[8],'Nível 1':item[9]})\n",
    "df_scikit=pd.DataFrame(rows)"
   ]
  },
  {
   "cell_type": "code",
   "execution_count": 11,
   "metadata": {
    "collapsed": false,
    "scrolled": true
   },
   "outputs": [
    {
     "name": "stdout",
     "output_type": "stream",
     "text": [
      "Total:        99825\n",
      "elogio        65404\n",
      "neutro        18756\n",
      "reclamação    15665\n",
      "Name: label, dtype: int64\n"
     ]
    }
   ],
   "source": [
    "print(\"Total:       \",len(df_scikit.index))\n",
    "print(df_scikit['label'].value_counts())"
   ]
  },
  {
   "cell_type": "code",
   "execution_count": 12,
   "metadata": {
    "collapsed": false
   },
   "outputs": [],
   "source": [
    "#Tratando pesquisas de satisfação com campos não preenchidos. alterar para nota=3 ou nota=1 no caso de nao respondido\n",
    "df_scikit['nota1']=(df_scikit.fillna(value=3)['nota1'].astype(np.float))\n",
    "df_scikit['nota2']=(df_scikit.fillna(value=1)['nota2'].astype(np.float))"
   ]
  },
  {
   "cell_type": "code",
   "execution_count": 13,
   "metadata": {
    "collapsed": false
   },
   "outputs": [],
   "source": [
    "df_scikit[\"Manif-ATEN2\"]=df_scikit.apply(lambda row: setmanifestacao2(df_scikit,row[\"Manif-ATEN\"]), axis=1)\n",
    "df_scikit[\"Manif-SERV2\"]=df_scikit.apply(lambda row: setmanifestacao2(df_scikit,row[\"Manif-SERV\"]), axis=1)"
   ]
  },
  {
   "cell_type": "code",
   "execution_count": 14,
   "metadata": {
    "collapsed": false
   },
   "outputs": [
    {
     "name": "stdout",
     "output_type": "stream",
     "text": [
      "99825\n",
      "             Data  ID Manif-ATEN Manif-SERV                      Nível 1  \\\n",
      "0  1/1/2016 13:19   1     Elogio     Neutro              MICROCOMPUTADOR   \n",
      "1  1/2/2016 13:58   2     Elogio     Neutro              MICROCOMPUTADOR   \n",
      "2  1/2/2016 11:00   3     Elogio     Neutro              MICROCOMPUTADOR   \n",
      "3  1/2/2016 18:11   4     Neutro     Neutro           CORREIO ELETRONICO   \n",
      "4   1/2/2016 3:05   5     Neutro     Neutro  DISPOSITIVOS ESPECIALIZADOS   \n",
      "\n",
      "  Número do Incidente   label  nota1  nota2  \\\n",
      "0     INC000025025391  elogio    5.0    5.0   \n",
      "1     INC000025121685  elogio    5.0    5.0   \n",
      "2     INC000025155695  elogio    5.0    5.0   \n",
      "3     INC000025158329  neutro    4.0    5.0   \n",
      "4     INC000025159046  neutro    2.0    1.0   \n",
      "\n",
      "                                                text Manif-ATEN2 Manif-SERV2  \n",
      "0  o atendimento foi ótimo. o funcionário merece ...      elogio      neutro  \n",
      "1                       muito bom o serviço prestado      elogio      neutro  \n",
      "2                            muito bom o atendimento      elogio      neutro  \n",
      "3  devido estarmos em área remota. demorou mais d...      neutro      neutro  \n",
      "4  o chamado foi resolvido momentaneamente apenas...      neutro      neutro  \n"
     ]
    }
   ],
   "source": [
    "print(len(df_scikit.index))\n",
    "print(df_scikit.head())"
   ]
  },
  {
   "cell_type": "markdown",
   "metadata": {},
   "source": [
    "#### 2.1 - Enchant\n"
   ]
  },
  {
   "cell_type": "code",
   "execution_count": 15,
   "metadata": {
    "collapsed": false
   },
   "outputs": [],
   "source": [
    "d = DictWithPWL(\"pt_BR\", \"enchant-personal_word_list.txt\")\n",
    "chkr = SpellChecker(d)"
   ]
  },
  {
   "cell_type": "code",
   "execution_count": 16,
   "metadata": {
    "collapsed": false
   },
   "outputs": [],
   "source": [
    "lines = [line.rstrip('\\n') for line in open('enchant-correction_word_list.txt')]"
   ]
  },
  {
   "cell_type": "code",
   "execution_count": 17,
   "metadata": {
    "collapsed": false
   },
   "outputs": [],
   "source": [
    "dict_enchant = dict((k.strip(), v.strip()) for k,v in \n",
    "              (item.split(';') for item in lines))"
   ]
  },
  {
   "cell_type": "code",
   "execution_count": 18,
   "metadata": {
    "collapsed": false
   },
   "outputs": [],
   "source": [
    "def enchant_correct(DF,survey):\n",
    "    chkr.set_text(survey)\n",
    "    for err in chkr:\n",
    "        if err.word in dict_enchant.keys():\n",
    "            survey=survey.replace(err.word, dict_enchant[err.word])\n",
    "    return(survey)"
   ]
  },
  {
   "cell_type": "code",
   "execution_count": 19,
   "metadata": {
    "collapsed": false
   },
   "outputs": [],
   "source": [
    "#corrige o dataframe fazendo as correções necessárias como acentuação, palavras erradas, etc\n",
    "df_scikit[\"text\"]=df_scikit.apply(lambda row: enchant_correct(df_scikit,row[\"text\"]), axis=1)"
   ]
  },
  {
   "cell_type": "code",
   "execution_count": 20,
   "metadata": {
    "collapsed": false
   },
   "outputs": [
    {
     "data": {
      "text/plain": [
       "0    o atendimento foi ótimo. o funcionário merece ...\n",
       "1                         muito bom o serviço prestado\n",
       "2                              muito bom o atendimento\n",
       "3    devido estarmos em área remota. demorou mais d...\n",
       "4    o chamado foi resolvido momentaneamente apenas...\n",
       "Name: text, dtype: object"
      ]
     },
     "execution_count": 20,
     "metadata": {},
     "output_type": "execute_result"
    }
   ],
   "source": [
    "df_scikit['text'][0:5]"
   ]
  },
  {
   "cell_type": "code",
   "execution_count": 21,
   "metadata": {
    "collapsed": false
   },
   "outputs": [
    {
     "data": {
      "text/plain": [
       "'\\nchkr.set_text(\"atendimeto tic foi dip SAP otimo. o funcinoário merece umm elogio\")\\nfor err in chkr:\\n    print (\"ERROR:\", err.word,\" - Sugestão:\", d.suggest(err.word)[0])\\n    \\nlista_erro=[]\\nfor survey in df_scikit[\\'text\\']:\\n    chkr.set_text(survey)\\n    for err in chkr:\\n        lista_erro.append(err.word)\\n\\nprint(len(lista_erro))\\nprint(len(set(lista_erro)))\\nfrom collections import Counter\\nfor item in Counter(lista_erro).most_common(200):\\n    print (item,d.suggest(item[0]))\\n'"
      ]
     },
     "execution_count": 21,
     "metadata": {},
     "output_type": "execute_result"
    }
   ],
   "source": [
    "\"\"\"\n",
    "chkr.set_text(\"atendimeto tic foi dip SAP otimo. o funcinoário merece umm elogio\")\n",
    "for err in chkr:\n",
    "    print (\"ERROR:\", err.word,\" - Sugestão:\", d.suggest(err.word)[0])\n",
    "    \n",
    "lista_erro=[]\n",
    "for survey in df_scikit['text']:\n",
    "    chkr.set_text(survey)\n",
    "    for err in chkr:\n",
    "        lista_erro.append(err.word)\n",
    "\n",
    "print(len(lista_erro))\n",
    "print(len(set(lista_erro)))\n",
    "from collections import Counter\n",
    "for item in Counter(lista_erro).most_common(200):\n",
    "    print (item,d.suggest(item[0]))\n",
    "\"\"\"\n"
   ]
  },
  {
   "cell_type": "markdown",
   "metadata": {},
   "source": [
    "#### 2.2 - Matplotlib - Summary\n"
   ]
  },
  {
   "cell_type": "code",
   "execution_count": 22,
   "metadata": {
    "collapsed": false
   },
   "outputs": [
    {
     "data": {
      "text/plain": [
       "<matplotlib.axes._subplots.AxesSubplot at 0x7fe4ae6037b8>"
      ]
     },
     "execution_count": 22,
     "metadata": {},
     "output_type": "execute_result"
    },
    {
     "data": {
      "image/png": "[encoded data removed]",
      "text/plain": [
       "<matplotlib.figure.Figure at 0x7fe4ae56ce48>"
      ]
     },
     "metadata": {},
     "output_type": "display_data"
    }
   ],
   "source": [
    "%matplotlib inline\n",
    "plt.ylabel('Quantidade')\n",
    "plt.title('Manifestação ao Atendimento')\n",
    "(df_scikit['Manif-ATEN2'].value_counts()).plot(kind='bar',color='g',alpha=0.6,figsize=(6, 4))"
   ]
  },
  {
   "cell_type": "code",
   "execution_count": 23,
   "metadata": {
    "collapsed": false
   },
   "outputs": [
    {
     "data": {
      "text/plain": [
       "<matplotlib.axes._subplots.AxesSubplot at 0x7fe4ae5d9b00>"
      ]
     },
     "execution_count": 23,
     "metadata": {},
     "output_type": "execute_result"
    },
    {
     "data": {
      "image/png": "[encoded data removed]",
      "text/plain": [
       "<matplotlib.figure.Figure at 0x7fe4ae8e7358>"
      ]
     },
     "metadata": {},
     "output_type": "display_data"
    }
   ],
   "source": [
    "plt.ylabel('Quantidade')\n",
    "plt.title('Manifestação ao Serviço')\n",
    "(df_scikit['Manif-SERV2'].value_counts()).plot(kind='bar',color='y',alpha=0.6,figsize=(6, 4))"
   ]
  },
  {
   "cell_type": "code",
   "execution_count": 24,
   "metadata": {
    "collapsed": false
   },
   "outputs": [
    {
     "data": {
      "text/plain": [
       "<matplotlib.axes._subplots.AxesSubplot at 0x7fe4aeb6e9b0>"
      ]
     },
     "execution_count": 24,
     "metadata": {},
     "output_type": "execute_result"
    },
    {
     "data": {
      "image/png": "[encoded data removed]",
      "text/plain": [
       "<matplotlib.figure.Figure at 0x7fe4aeb730f0>"
      ]
     },
     "metadata": {},
     "output_type": "display_data"
    }
   ],
   "source": [
    "plt.ylabel('Quantidade')\n",
    "plt.title('Manifestação Geral')\n",
    "(df_scikit['label'].value_counts()).plot(kind='bar',alpha=0.6,figsize=(6, 4))"
   ]
  },
  {
   "cell_type": "markdown",
   "metadata": {},
   "source": [
    "#### 2.3 - Standardization, or mean removal and variance scaling"
   ]
  },
  {
   "cell_type": "code",
   "execution_count": 25,
   "metadata": {
    "collapsed": false
   },
   "outputs": [
    {
     "name": "stdout",
     "output_type": "stream",
     "text": [
      "5.0    76621\n",
      "1.0     8847\n",
      "4.0     6468\n",
      "3.0     5215\n",
      "2.0     2674\n",
      "Name: nota1, dtype: int64\n",
      "5.0    81058\n",
      "1.0    18767\n",
      "Name: nota2, dtype: int64\n"
     ]
    }
   ],
   "source": [
    "print(df_scikit['nota1'].value_counts())\n",
    "print(df_scikit['nota2'].value_counts())"
   ]
  },
  {
   "cell_type": "code",
   "execution_count": 26,
   "metadata": {
    "collapsed": false
   },
   "outputs": [],
   "source": [
    "n1=(df_scikit['nota1'].values)\n",
    "n2=(df_scikit['nota2'].values)\n",
    "\n",
    "n1_scaled=n1.reshape(-1,1)\n",
    "n2_scaled=n2.reshape(-1,1)"
   ]
  },
  {
   "cell_type": "code",
   "execution_count": 27,
   "metadata": {
    "collapsed": false
   },
   "outputs": [
    {
     "data": {
      "text/plain": [
       "'\\nmin_max_scaler = preprocessing.MinMaxScaler()\\nn1_scaled = min_max_scaler.fit_transform(n1.reshape(-1,1))\\nn2_scaled = min_max_scaler.fit_transform(n2.reshape(-1,1))\\n'"
      ]
     },
     "execution_count": 27,
     "metadata": {},
     "output_type": "execute_result"
    }
   ],
   "source": [
    "\"\"\"\n",
    "min_max_scaler = preprocessing.MinMaxScaler()\n",
    "n1_scaled = min_max_scaler.fit_transform(n1.reshape(-1,1))\n",
    "n2_scaled = min_max_scaler.fit_transform(n2.reshape(-1,1))\n",
    "\"\"\""
   ]
  },
  {
   "cell_type": "code",
   "execution_count": 28,
   "metadata": {
    "collapsed": false
   },
   "outputs": [
    {
     "name": "stdout",
     "output_type": "stream",
     "text": [
      "[[  1.00000000e+00   8.84700000e+03]\n",
      " [  2.00000000e+00   2.67400000e+03]\n",
      " [  3.00000000e+00   5.21500000e+03]\n",
      " [  4.00000000e+00   6.46800000e+03]\n",
      " [  5.00000000e+00   7.66210000e+04]]\n",
      "[[  1.00000000e+00   1.87670000e+04]\n",
      " [  5.00000000e+00   8.10580000e+04]]\n",
      "(99825, 1)    -     (99825, 1)\n"
     ]
    }
   ],
   "source": [
    "unique, counts = np.unique(n1_scaled, return_counts=True)\n",
    "print (np.asarray((unique, counts)).T)\n",
    "unique, counts = np.unique(n2_scaled, return_counts=True)\n",
    "print (np.asarray((unique, counts)).T)\n",
    "print(n1_scaled.shape,\"   -    \",n2_scaled.shape)"
   ]
  },
  {
   "cell_type": "markdown",
   "metadata": {},
   "source": [
    "### 3 - Processamento - Scikit Learn"
   ]
  },
  {
   "cell_type": "markdown",
   "metadata": {},
   "source": [
    "### 3.0 - CountVectorizer e TfidfTransformer - 4 cenários"
   ]
  },
  {
   "cell_type": "code",
   "execution_count": 38,
   "metadata": {
    "collapsed": false
   },
   "outputs": [],
   "source": [
    "#Binary features\n",
    "count_vect = CountVectorizer(binary=True)\n",
    "count_vect.fit(df_scikit['text'].values)\n",
    "data1 = count_vect.transform(df_scikit['text'].values)\n",
    "\n",
    "#bag of words features\n",
    "count_vect = CountVectorizer(binary=False)\n",
    "count_vect.fit(df_scikit['text'].values)\n",
    "data2 = count_vect.transform(df_scikit['text'].values)\n",
    "\n",
    "#tf features\n",
    "count_vect = CountVectorizer(binary=False)\n",
    "count_vect.fit(df_scikit['text'].values)\n",
    "data = count_vect.transform(df_scikit['text'].values)\n",
    "tf_transformer = TfidfTransformer(use_idf=False).fit(data)\n",
    "data3 = tf_transformer.transform(data)\n",
    "\n",
    "#tfidf features\n",
    "count_vect = CountVectorizer(binary=False)\n",
    "count_vect.fit(df_scikit['text'].values)\n",
    "data = count_vect.transform(df_scikit['text'].values)\n",
    "tf_transformer = TfidfTransformer(use_idf=True).fit(data)\n",
    "data4 = tf_transformer.transform(data)\n"
   ]
  },
  {
   "cell_type": "code",
   "execution_count": 39,
   "metadata": {
    "collapsed": false
   },
   "outputs": [],
   "source": [
    "train_comments1, test_comments1, train_labels1, test_labels1 = cross_validation.train_test_split(data1, df_scikit['label'].values, test_size=0.2, random_state=0)\n",
    "train_comments2, test_comments2, train_labels2, test_labels2 = cross_validation.train_test_split(data2, df_scikit['label'].values, test_size=0.2, random_state=0)\n",
    "train_comments3, test_comments3, train_labels3, test_labels3 = cross_validation.train_test_split(data3, df_scikit['label'].values, test_size=0.2, random_state=0)\n",
    "train_comments4, test_comments4, train_labels4, test_labels4 = cross_validation.train_test_split(data4, df_scikit['label'].values, test_size=0.2, random_state=0)"
   ]
  },
  {
   "cell_type": "code",
   "execution_count": 40,
   "metadata": {
    "collapsed": false
   },
   "outputs": [
    {
     "name": "stdout",
     "output_type": "stream",
     "text": [
      "Naive Bayes - Binario     : 0.816478837966\n",
      "Naive Bayes - Bag of Words: 0.816028049086\n",
      "Naive Bayes - TF          : 0.812722263962\n",
      "Naive Bayes - TFIDF       : 0.814124718257\n"
     ]
    }
   ],
   "source": [
    "#Naive Bayes\n",
    "clf_NB = MultinomialNB().fit(train_comments1, train_labels1)\n",
    "print(\"Naive Bayes - Binario     :\",clf_NB.score(test_comments1, test_labels1))\n",
    "clf_NB = MultinomialNB().fit(train_comments2, train_labels2)\n",
    "print(\"Naive Bayes - Bag of Words:\",clf_NB.score(test_comments2, test_labels2))\n",
    "clf_NB = MultinomialNB().fit(train_comments3, train_labels3)\n",
    "print(\"Naive Bayes - TF          :\",clf_NB.score(test_comments3, test_labels3))\n",
    "clf_NB = MultinomialNB().fit(train_comments4, train_labels4)\n",
    "print(\"Naive Bayes - TFIDF       :\",clf_NB.score(test_comments4, test_labels4))"
   ]
  },
  {
   "cell_type": "code",
   "execution_count": 41,
   "metadata": {
    "collapsed": false
   },
   "outputs": [
    {
     "name": "stdout",
     "output_type": "stream",
     "text": [
      "SGD - Binario     : 0.847282744803\n",
      "SGD - Bag of Words: 0.847633358377\n",
      "SGD - TF          : 0.840921612822\n",
      "SGD - TFIDF       : 0.844928625094\n"
     ]
    }
   ],
   "source": [
    "#SGD\n",
    "clf_SGD = SGDClassifier(loss=\"hinge\", penalty=\"l2\",n_iter=50)\n",
    "\n",
    "clf_SGD.fit(train_comments1, train_labels1)\n",
    "print(\"SGD - Binario     :\",clf_SGD.score(test_comments1, test_labels1))\n",
    "clf_SGD.fit(train_comments2, train_labels2)\n",
    "print(\"SGD - Bag of Words:\",clf_SGD.score(test_comments2, test_labels2))\n",
    "clf_SGD.fit(train_comments3, train_labels3)\n",
    "print(\"SGD - TF          :\",clf_SGD.score(test_comments3, test_labels3))\n",
    "clf_SGD.fit(train_comments4, train_labels4)\n",
    "print(\"SGD - TFIDF       :\",clf_SGD.score(test_comments4, test_labels4))"
   ]
  },
  {
   "cell_type": "code",
   "execution_count": 42,
   "metadata": {
    "collapsed": false
   },
   "outputs": [
    {
     "name": "stdout",
     "output_type": "stream",
     "text": [
      "XGB - Binario     : 0.788179313799\n",
      "XGB - Bag of Words: 0.788980716253\n",
      "XGB - TF          : 0.795241672928\n",
      "XGB - TFIDF       : 0.795141497621\n"
     ]
    }
   ],
   "source": [
    "clf_XGB=xgb.XGBClassifier(max_depth=5, learning_rate=0.05, n_estimators=100)\n",
    "\n",
    "clf_XGB.fit(train_comments1, train_labels1)\n",
    "print(\"XGB - Binario     :\",clf_XGB.score(test_comments1, test_labels1))\n",
    "clf_XGB.fit(train_comments2, train_labels2)\n",
    "print(\"XGB - Bag of Words:\",clf_XGB.score(test_comments2, test_labels2))\n",
    "clf_XGB.fit(train_comments3, train_labels3)\n",
    "print(\"XGB - TF          :\",clf_XGB.score(test_comments3, test_labels3))\n",
    "clf_XGB.fit(train_comments4, train_labels4)\n",
    "print(\"XGB - TFIDF       :\",clf_XGB.score(test_comments4, test_labels4))"
   ]
  },
  {
   "cell_type": "code",
   "execution_count": 43,
   "metadata": {
    "collapsed": false
   },
   "outputs": [
    {
     "name": "stdout",
     "output_type": "stream",
     "text": [
      "SVM - Binario     : 0.838868019033\n",
      "SVM - Bag of Words: 0.841121963436\n",
      "SVM - TF          : 0.8501878287\n",
      "SVM - TFIDF       : 0.846230904082\n"
     ]
    }
   ],
   "source": [
    "clf_SVM = svm.SVC(kernel='linear', C=1,cache_size=1000).fit(train_comments1, train_labels1)\n",
    "print(\"SVM - Binario     :\",clf_SVM.score(test_comments1, test_labels1))\n",
    "clf_SVM = svm.SVC(kernel='linear', C=1,cache_size=1000).fit(train_comments2, train_labels2)\n",
    "print(\"SVM - Bag of Words:\",clf_SVM.score(test_comments2, test_labels2))\n",
    "clf_SVM = svm.SVC(kernel='linear', C=1,cache_size=1000).fit(train_comments3, train_labels3)\n",
    "print(\"SVM - TF          :\",clf_SVM.score(test_comments3, test_labels3))\n",
    "clf_SVM = svm.SVC(kernel='linear', C=1,cache_size=1000).fit(train_comments4, train_labels4)\n",
    "print(\"SVM - TFIDF       :\",clf_SVM.score(test_comments4, test_labels4))"
   ]
  },
  {
   "cell_type": "markdown",
   "metadata": {},
   "source": [
    "### 3.1 - Models - Cross Validation & Stratified KFold"
   ]
  },
  {
   "cell_type": "code",
   "execution_count": 133,
   "metadata": {
    "collapsed": false
   },
   "outputs": [],
   "source": [
    "count_vect = CountVectorizer()\n",
    "count_vect.fit(df_scikit['text'].values)\n",
    "data = count_vect.transform(df_scikit['text'].values)\n",
    "\n",
    "#term frequency features\n",
    "tf_transformer = TfidfTransformer(use_idf=False).fit(data)\n",
    "data_features_tf = tf_transformer.transform(data)"
   ]
  },
  {
   "cell_type": "code",
   "execution_count": 134,
   "metadata": {
    "collapsed": false,
    "scrolled": true
   },
   "outputs": [],
   "source": [
    "train_comments, test_comments, train_labels, test_labels = cross_validation.train_test_split(data_features_tf, df_scikit['label'].values, test_size=0.2, random_state=0)"
   ]
  },
  {
   "cell_type": "markdown",
   "metadata": {},
   "source": [
    "#### Incluindo informações adicionais de Nota1 e Nota2 como features do modelo"
   ]
  },
  {
   "cell_type": "code",
   "execution_count": 135,
   "metadata": {
    "collapsed": false
   },
   "outputs": [
    {
     "name": "stdout",
     "output_type": "stream",
     "text": [
      "(99825, 27385)\n",
      "(99825, 1)\n",
      "(99825, 1)\n",
      "(99825, 27387)\n"
     ]
    }
   ],
   "source": [
    "#n1=coo_matrix(df_scikit['nota1'].values)\n",
    "#n2=coo_matrix(df_scikit['nota2'].values)\n",
    "#n1=coo_matrix(n1)\n",
    "#n2=coo_matrix(n2)\n",
    "print(data_features_tf.shape)\n",
    "\n",
    "data_features_tf2=csr_matrix(hstack([coo_matrix(data_features_tf),coo_matrix(n1_scaled)]))\n",
    "data_features_tf2=csr_matrix(hstack([coo_matrix(data_features_tf2),coo_matrix(n2_scaled)]))\n",
    "\n",
    "print(n1_scaled.shape)\n",
    "print(n2_scaled.shape)\n",
    "print(data_features_tf2.shape)"
   ]
  },
  {
   "cell_type": "code",
   "execution_count": 136,
   "metadata": {
    "collapsed": true
   },
   "outputs": [],
   "source": [
    "from sklearn import cross_validation\n",
    "train_comments2, test_comments2, train_labels2, test_labels2 = cross_validation.train_test_split(data_features_tf2, df_scikit['label'].values, test_size=0.2, random_state=0)"
   ]
  },
  {
   "cell_type": "markdown",
   "metadata": {},
   "source": [
    "#### 3.1.1 - Model 1 - SVM (kernel=linear)\n"
   ]
  },
  {
   "cell_type": "code",
   "execution_count": 89,
   "metadata": {
    "collapsed": false
   },
   "outputs": [],
   "source": [
    "clf = svm.SVC(kernel='linear', C=1,cache_size=1000).fit(train_comments, train_labels)\n",
    "#clf.score(test_comments, test_labels)"
   ]
  },
  {
   "cell_type": "code",
   "execution_count": 90,
   "metadata": {
    "collapsed": false
   },
   "outputs": [],
   "source": [
    "clf2 = svm.SVC(kernel='linear', C=1,cache_size=1000).fit(train_comments2, train_labels2)\n",
    "#clf2.score(test_comments2, test_labels2)"
   ]
  },
  {
   "cell_type": "markdown",
   "metadata": {},
   "source": [
    "When the cv argument is an integer, cross_val_score uses the KFold or StratifiedKFold strategies by default, the latter being used if the estimator derives from ClassifierMixin."
   ]
  },
  {
   "cell_type": "code",
   "execution_count": 103,
   "metadata": {
    "collapsed": false
   },
   "outputs": [],
   "source": [
    "n_samples=data_features_tf.shape[0]\n",
    "cv = cross_validation.ShuffleSplit(n_samples, n_iter=5, test_size=0.2, random_state=23)\n",
    "scores_SVM = cross_validation.cross_val_score(clf, data_features_tf, df_scikit['label'].values , cv=cv)"
   ]
  },
  {
   "cell_type": "code",
   "execution_count": 104,
   "metadata": {
    "collapsed": false,
    "scrolled": true
   },
   "outputs": [
    {
     "name": "stdout",
     "output_type": "stream",
     "text": [
      "Accuracy: 0.851 (+/- 0.004)\n",
      "[ 0.84998748  0.85369396  0.84968695  0.84883546  0.85359379]\n"
     ]
    }
   ],
   "source": [
    "print(\"Accuracy: %0.3f (+/- %0.3f)\" % (scores_SVM.mean(), scores_SVM.std() * 2))\n",
    "print(scores_SVM)"
   ]
  },
  {
   "cell_type": "code",
   "execution_count": 76,
   "metadata": {
    "collapsed": false
   },
   "outputs": [],
   "source": [
    "n_samples=data_features_tf2.shape[0]\n",
    "cv = cross_validation.ShuffleSplit(n_samples, n_iter=5, test_size=0.2, random_state=23)\n",
    "scores_SVM2 = cross_validation.cross_val_score(clf2, data_features_tf2, df_scikit['label'].values , cv=cv)"
   ]
  },
  {
   "cell_type": "code",
   "execution_count": 102,
   "metadata": {
    "collapsed": false
   },
   "outputs": [
    {
     "name": "stdout",
     "output_type": "stream",
     "text": [
      "Accuracy: 0.868 (+/- 0.004)\n",
      "[ 0.86566491  0.86947158  0.86731781  0.86751816  0.87087403]\n"
     ]
    }
   ],
   "source": [
    "print(\"Accuracy: %0.3f (+/- %0.3f)\" % (scores_SVM2.mean(), scores_SVM2.std() * 2))\n",
    "print(scores_SVM2)"
   ]
  },
  {
   "cell_type": "code",
   "execution_count": 78,
   "metadata": {
    "collapsed": false,
    "scrolled": true
   },
   "outputs": [
    {
     "name": "stdout",
     "output_type": "stream",
     "text": [
      "nada a declarar neutro\n",
      "Ok neutro\n",
      "rápido e atencioso elogio\n",
      "fecharam o chamado sem me avisar. absurdo reclamação\n",
      "como sempre, muito lento reclamação\n",
      "não fizeram mais do que o esperado. nem satisfeito nem insatisfeito neutro\n",
      "depois de 5 dias me retornaram dizendo que não podiam fazer nada pelo problema!!!! reclamação\n"
     ]
    }
   ],
   "source": [
    "docs_new=['nada a declarar','Ok','rápido e atencioso','fecharam o chamado sem me avisar. absurdo','como sempre, muito lento','não fizeram mais do que o esperado. nem satisfeito nem insatisfeito', 'depois de 5 dias me retornaram dizendo que não podiam fazer nada pelo problema!!!!']\n",
    "nota1_new=coo_matrix([5.0,3.0,5.0,2.0,2.0,4.0,1.0])\n",
    "nota2_new=coo_matrix([5.0,5.0,5.0,1.0,5.0,5.0,1.0])\n",
    "#-------------------------------------------------------------------\n",
    "counts_new = count_vect.transform(docs_new)\n",
    "counts_new_tf = tf_transformer.transform(counts_new)\n",
    "\n",
    "counts_new_tf=csr_matrix(hstack([coo_matrix(counts_new_tf),nota1_new.transpose()]))\n",
    "counts_new_tf=csr_matrix(hstack([coo_matrix(counts_new_tf),nota2_new.transpose()]))\n",
    "\n",
    "predicted = clf2.predict(counts_new_tf)\n",
    "\n",
    "for doc,category in zip(docs_new,predicted):\n",
    "    print(doc,category)"
   ]
  },
  {
   "cell_type": "markdown",
   "metadata": {},
   "source": [
    "#### 3.1.2 - Model 2 - SVM (kernel=Gaussian RBF)\n"
   ]
  },
  {
   "cell_type": "code",
   "execution_count": 86,
   "metadata": {
    "collapsed": false
   },
   "outputs": [],
   "source": [
    "clf3 = svm.SVC(kernel='rbf', C=1,cache_size=1000).fit(train_comments, train_labels)\n",
    "#clf3.score(test_comments, test_labels)"
   ]
  },
  {
   "cell_type": "code",
   "execution_count": 87,
   "metadata": {
    "collapsed": false
   },
   "outputs": [],
   "source": [
    "clf4 = svm.SVC(kernel='rbf', C=1,cache_size=1000).fit(train_comments2, train_labels2)\n",
    "#clf4.score(test_comments2, test_labels2)"
   ]
  },
  {
   "cell_type": "code",
   "execution_count": 96,
   "metadata": {
    "collapsed": false
   },
   "outputs": [],
   "source": [
    "n_samples=data_features_tf.shape[0]\n",
    "cv = cross_validation.ShuffleSplit(n_samples, n_iter=5, test_size=0.2, random_state=23)\n",
    "scores_SVM3 = cross_validation.cross_val_score(clf3, data_features_tf, df_scikit['label'].values , cv=cv)"
   ]
  },
  {
   "cell_type": "code",
   "execution_count": 100,
   "metadata": {
    "collapsed": false,
    "scrolled": true
   },
   "outputs": [
    {
     "name": "stdout",
     "output_type": "stream",
     "text": [
      "Accuracy: 0.654 (+/- 0.002)\n",
      "[ 0.6539444   0.65609817  0.65369396  0.6539444   0.65299274]\n"
     ]
    }
   ],
   "source": [
    "print(\"Accuracy: %0.3f (+/- %0.3f)\" % (scores_SVM3.mean(), scores_SVM3.std() * 2))\n",
    "print(scores_SVM3)"
   ]
  },
  {
   "cell_type": "code",
   "execution_count": 98,
   "metadata": {
    "collapsed": false
   },
   "outputs": [],
   "source": [
    "n_samples=data_features_tf2.shape[0]\n",
    "cv = cross_validation.ShuffleSplit(n_samples, n_iter=5, test_size=0.2, random_state=23)\n",
    "scores_SVM4 = cross_validation.cross_val_score(clf4, data_features_tf2, df_scikit['label'].values , cv=cv)"
   ]
  },
  {
   "cell_type": "code",
   "execution_count": 99,
   "metadata": {
    "collapsed": false
   },
   "outputs": [
    {
     "name": "stdout",
     "output_type": "stream",
     "text": [
      "Accuracy: 0.781 (+/- 0.002)\n",
      "[ 0.7805159   0.78292011  0.77946406  0.78161783  0.78026546]\n"
     ]
    }
   ],
   "source": [
    "print(\"Accuracy: %0.3f (+/- %0.3f)\" % (scores_SVM4.mean(), scores_SVM4.std() * 2))\n",
    "print(scores_SVM4)"
   ]
  },
  {
   "cell_type": "markdown",
   "metadata": {},
   "source": [
    "When the cv argument is an integer, cross_val_score uses the KFold or StratifiedKFold strategies by default, the latter being used if the estimator derives from ClassifierMixin."
   ]
  },
  {
   "cell_type": "code",
   "execution_count": 47,
   "metadata": {
    "collapsed": false,
    "scrolled": true
   },
   "outputs": [
    {
     "name": "stdout",
     "output_type": "stream",
     "text": [
      "nada a declarar elogio\n",
      "Ok elogio\n",
      "rápido e atencioso elogio\n",
      "fecharam o chamado sem me avisar. absurdo reclamação\n",
      "como sempre, muito lento reclamação\n",
      "não fizeram mais do que o esperado. nem satisfeito nem insatisfeito elogio\n",
      "depois de 5 dias me retornaram dizendo que não podiam fazer nada pelo problema!!!! reclamação\n"
     ]
    }
   ],
   "source": [
    "docs_new=['nada a declarar','Ok','rápido e atencioso','fecharam o chamado sem me avisar. absurdo','como sempre, muito lento','não fizeram mais do que o esperado. nem satisfeito nem insatisfeito', 'depois de 5 dias me retornaram dizendo que não podiam fazer nada pelo problema!!!!']\n",
    "nota1_new=coo_matrix([5.0,3.0,5.0,2.0,2.0,4.0,1.0])\n",
    "nota2_new=coo_matrix([5.0,5.0,5.0,1.0,5.0,5.0,1.0])\n",
    "#-------------------------------------------------------------------\n",
    "counts_new = count_vect.transform(docs_new)\n",
    "counts_new_tf = tf_transformer.transform(counts_new)\n",
    "\n",
    "counts_new_tf=csr_matrix(hstack([coo_matrix(counts_new_tf),nota1_new.transpose()]))\n",
    "counts_new_tf=csr_matrix(hstack([coo_matrix(counts_new_tf),nota2_new.transpose()]))\n",
    "\n",
    "predicted = clf4.predict(counts_new_tf)\n",
    "\n",
    "for doc,category in zip(docs_new,predicted):\n",
    "    print(doc,category)"
   ]
  },
  {
   "cell_type": "markdown",
   "metadata": {},
   "source": [
    "#### 3.1.3 - Model 3 - Naive Bayes (Multinomial Naive Bayes)\n"
   ]
  },
  {
   "cell_type": "code",
   "execution_count": 48,
   "metadata": {
    "collapsed": false
   },
   "outputs": [],
   "source": [
    "clf5 = MultinomialNB().fit(train_comments, train_labels)\n",
    "#clf5.score(test_comments, test_labels)"
   ]
  },
  {
   "cell_type": "code",
   "execution_count": 84,
   "metadata": {
    "collapsed": false,
    "scrolled": true
   },
   "outputs": [],
   "source": [
    "clf6 = MultinomialNB().fit(train_comments2, train_labels2)\n",
    "#clf6.score(test_comments2, test_labels2)"
   ]
  },
  {
   "cell_type": "code",
   "execution_count": 85,
   "metadata": {
    "collapsed": false
   },
   "outputs": [
    {
     "name": "stdout",
     "output_type": "stream",
     "text": [
      "Accuracy: 0.814 (+/- 0.003)\n",
      "[ 0.81187077  0.81372402  0.81442524  0.81437516  0.81672928]\n"
     ]
    }
   ],
   "source": [
    "n_samples=data_features_tf.shape[0]\n",
    "cv = cross_validation.ShuffleSplit(n_samples, n_iter=5, test_size=0.2, random_state=23)\n",
    "scores_NB1 = cross_validation.cross_val_score(teste, data_features_tf, df_scikit['label'].values , cv=cv)\n",
    "print(\"Accuracy: %0.3f (+/- %0.3f)\" % (scores_NB1.mean(), scores_NB1.std() * 2))\n",
    "print(scores_NB1)"
   ]
  },
  {
   "cell_type": "code",
   "execution_count": 64,
   "metadata": {
    "collapsed": false
   },
   "outputs": [
    {
     "name": "stdout",
     "output_type": "stream",
     "text": [
      "Accuracy: 0.813 (+/- 0.003)\n",
      "[ 0.81262209  0.81432507  0.81101928  0.81537691  0.81402454]\n"
     ]
    }
   ],
   "source": [
    "n_samples=data_features_tf2.shape[0]\n",
    "cv = cross_validation.ShuffleSplit(n_samples, n_iter=5, test_size=0.2, random_state=23)\n",
    "scores_NB2 = cross_validation.cross_val_score(clf6, data_features_tf2, df_scikit['label'].values , cv=cv)\n",
    "print(\"Accuracy: %0.3f (+/- %0.3f)\" % (scores_NB2.mean(), scores_NB2.std() * 2))\n",
    "print(scores_NB2)"
   ]
  },
  {
   "cell_type": "code",
   "execution_count": 57,
   "metadata": {
    "collapsed": false,
    "scrolled": true
   },
   "outputs": [
    {
     "name": "stdout",
     "output_type": "stream",
     "text": [
      "nada a declarar neutro\n",
      "Ok elogio\n",
      "rápido e atencioso elogio\n",
      "fecharam o chamado sem me avisar. absurdo reclamação\n",
      "como sempre, muito lento elogio\n",
      "não fizeram mais do que o esperado. nem satisfeito nem insatisfeito neutro\n",
      "depois de 5 dias me retornaram dizendo que não podiam fazer nada pelo problema!!!! reclamação\n"
     ]
    }
   ],
   "source": [
    "docs_new=['nada a declarar','Ok','rápido e atencioso','fecharam o chamado sem me avisar. absurdo','como sempre, muito lento','não fizeram mais do que o esperado. nem satisfeito nem insatisfeito', 'depois de 5 dias me retornaram dizendo que não podiam fazer nada pelo problema!!!!']\n",
    "nota1_new=coo_matrix([5.0,3.0,5.0,2.0,2.0,4.0,1.0])\n",
    "nota2_new=coo_matrix([5.0,5.0,5.0,1.0,5.0,5.0,1.0])\n",
    "#-------------------------------------------------------------------\n",
    "counts_new = count_vect.transform(docs_new)\n",
    "counts_new_tf = tf_transformer.transform(counts_new)\n",
    "\n",
    "counts_new_tf=csr_matrix(hstack([coo_matrix(counts_new_tf),nota1_new.transpose()]))\n",
    "counts_new_tf=csr_matrix(hstack([coo_matrix(counts_new_tf),nota2_new.transpose()]))\n",
    "\n",
    "predicted = clf6.predict(counts_new_tf)\n",
    "\n",
    "for doc,category in zip(docs_new,predicted):\n",
    "    print(doc,category)"
   ]
  },
  {
   "cell_type": "markdown",
   "metadata": {},
   "source": [
    "#### 3.1.4 - Model 4 - SGD (Stochastic Gradient Descent)\n"
   ]
  },
  {
   "cell_type": "code",
   "execution_count": 91,
   "metadata": {
    "collapsed": false
   },
   "outputs": [],
   "source": [
    "clf7 = SGDClassifier(loss=\"hinge\", penalty=\"l2\",n_iter=50)\n",
    "clf7.fit(train_comments, train_labels)"
   ]
  },
  {
   "cell_type": "code",
   "execution_count": 92,
   "metadata": {
    "collapsed": false,
    "scrolled": true
   },
   "outputs": [],
   "source": [
    "clf8 = SGDClassifier(loss=\"hinge\", penalty=\"l2\",n_iter=50)\n",
    "clf8.fit(train_comments2, train_labels2)"
   ]
  },
  {
   "cell_type": "code",
   "execution_count": 93,
   "metadata": {
    "collapsed": false
   },
   "outputs": [
    {
     "name": "stdout",
     "output_type": "stream",
     "text": [
      "Accuracy: 0.842 (+/- 0.004)\n",
      "[ 0.84007012  0.84277486  0.83931881  0.84167293  0.84452792]\n"
     ]
    }
   ],
   "source": [
    "n_samples=data_features_tf.shape[0]\n",
    "cv = cross_validation.ShuffleSplit(n_samples, n_iter=5, test_size=0.2, random_state=23)\n",
    "scores_SGD1 = cross_validation.cross_val_score(clf7, data_features_tf, df_scikit['label'].values , cv=cv)\n",
    "print(\"Accuracy: %0.3f (+/- %0.3f)\" % (scores_SGD1.mean(), scores_SGD1.std() * 2))\n",
    "print(scores_SGD1)"
   ]
  },
  {
   "cell_type": "code",
   "execution_count": 66,
   "metadata": {
    "collapsed": false
   },
   "outputs": [
    {
     "name": "stdout",
     "output_type": "stream",
     "text": [
      "Accuracy: 0.861 (+/- 0.004)\n",
      "[ 0.85950413  0.8612572   0.85920361  0.86225895  0.86506386]\n"
     ]
    }
   ],
   "source": [
    "n_samples=data_features_tf2.shape[0]\n",
    "cv = cross_validation.ShuffleSplit(n_samples, n_iter=5, test_size=0.2, random_state=23)\n",
    "scores_SGD2 = cross_validation.cross_val_score(clf8, data_features_tf2, df_scikit['label'].values , cv=cv)\n",
    "print(\"Accuracy: %0.3f (+/- %0.3f)\" % (scores_SGD2.mean(), scores_SGD2.std() * 2))\n",
    "print(scores_SGD2)"
   ]
  },
  {
   "cell_type": "code",
   "execution_count": 67,
   "metadata": {
    "collapsed": false,
    "scrolled": true
   },
   "outputs": [
    {
     "name": "stdout",
     "output_type": "stream",
     "text": [
      "nada a declarar neutro\n",
      "Ok neutro\n",
      "rápido e atencioso elogio\n",
      "fecharam o chamado sem me avisar. absurdo reclamação\n",
      "como sempre, muito lento reclamação\n",
      "não fizeram mais do que o esperado. nem satisfeito nem insatisfeito neutro\n",
      "depois de 5 dias me retornaram dizendo que não podiam fazer nada pelo problema!!!! reclamação\n"
     ]
    }
   ],
   "source": [
    "docs_new=['nada a declarar','Ok','rápido e atencioso','fecharam o chamado sem me avisar. absurdo','como sempre, muito lento','não fizeram mais do que o esperado. nem satisfeito nem insatisfeito', 'depois de 5 dias me retornaram dizendo que não podiam fazer nada pelo problema!!!!']\n",
    "nota1_new=coo_matrix([5.0,3.0,5.0,2.0,2.0,4.0,1.0])\n",
    "nota2_new=coo_matrix([5.0,5.0,5.0,1.0,5.0,5.0,1.0])\n",
    "#-------------------------------------------------------------------\n",
    "counts_new = count_vect.transform(docs_new)\n",
    "counts_new_tf = tf_transformer.transform(counts_new)\n",
    "\n",
    "counts_new_tf=csr_matrix(hstack([coo_matrix(counts_new_tf),nota1_new.transpose()]))\n",
    "counts_new_tf=csr_matrix(hstack([coo_matrix(counts_new_tf),nota2_new.transpose()]))\n",
    "\n",
    "predicted = clf8.predict(counts_new_tf)\n",
    "\n",
    "for doc,category in zip(docs_new,predicted):\n",
    "    print(doc,category)"
   ]
  },
  {
   "cell_type": "markdown",
   "metadata": {},
   "source": [
    "#### 3.1.5 - XGBoost (Extreme Gradient Boosting)\n",
    "XGBoost is short for “Extreme Gradient Boosting”, where the term “Gradient Boosting” is proposed in the paper Greedy Function Approximation: A Gradient Boosting Machine, by Friedman. XGBoost is based on this original model. This is a tutorial on gradient boosted trees, and most of the content is based on these slides by the author of xgboost.\n",
    "\n",
    "The GBM (boosted trees) has been around for really a while, and there are a lot of materials on the topic. This tutorial tries to explain boosted trees in a self-contained and principled way using the elements of supervised learning. We think this explanation is cleaner, more formal, and motivates the variant used in xgboost."
   ]
  },
  {
   "cell_type": "code",
   "execution_count": 186,
   "metadata": {
    "collapsed": false,
    "scrolled": true
   },
   "outputs": [
    {
     "data": {
      "text/plain": [
       "XGBClassifier(base_score=0.5, colsample_bylevel=1, colsample_bytree=1,\n",
       "       gamma=0, learning_rate=0.05, max_delta_step=0, max_depth=5,\n",
       "       min_child_weight=1, missing=None, n_estimators=100, nthread=-1,\n",
       "       objective='multi:softprob', reg_alpha=0, reg_lambda=1,\n",
       "       scale_pos_weight=1, seed=0, silent=True, subsample=1)"
      ]
     },
     "execution_count": 186,
     "metadata": {},
     "output_type": "execute_result"
    }
   ],
   "source": [
    "clf9=xgb.XGBClassifier(max_depth=5, learning_rate=0.05, n_estimators=100)\n",
    "clf9.fit(train_comments, train_labels)"
   ]
  },
  {
   "cell_type": "code",
   "execution_count": 95,
   "metadata": {
    "collapsed": false,
    "scrolled": true
   },
   "outputs": [],
   "source": [
    "clf10=xgb.XGBClassifier(max_depth=5, learning_rate=0.05, n_estimators=100)\n",
    "clf10.fit(train_comments2, train_labels2)"
   ]
  },
  {
   "cell_type": "code",
   "execution_count": 187,
   "metadata": {
    "collapsed": false,
    "scrolled": true
   },
   "outputs": [
    {
     "name": "stdout",
     "output_type": "stream",
     "text": [
      "Accuracy: 0.792 (+/- 0.002)\n",
      "[ 0.79283747  0.79128475  0.79058352  0.79278738  0.79233659]\n"
     ]
    }
   ],
   "source": [
    "n_samples=data_features_tf.shape[0]\n",
    "cv = cross_validation.ShuffleSplit(n_samples, n_iter=5, test_size=0.2, random_state=23)\n",
    "scores_XGB1 = cross_validation.cross_val_score(clf9, data_features_tf, df_scikit['label'].values , cv=cv)\n",
    "print(\"Accuracy: %0.3f (+/- %0.3f)\" % (scores_XGB1.mean(), scores_XGB1.std() * 2))\n",
    "print(scores_XGB1)"
   ]
  },
  {
   "cell_type": "code",
   "execution_count": 71,
   "metadata": {
    "collapsed": false,
    "scrolled": true
   },
   "outputs": [
    {
     "name": "stdout",
     "output_type": "stream",
     "text": [
      "Accuracy: 0.838 (+/- 0.004)\n",
      "[ 0.83991986  0.84127223  0.83701478  0.83506136  0.83741548]\n"
     ]
    }
   ],
   "source": [
    "n_samples=data_features_tf2.shape[0]\n",
    "cv = cross_validation.ShuffleSplit(n_samples, n_iter=5, test_size=0.2, random_state=23)\n",
    "scores_XGB2 = cross_validation.cross_val_score(clf10, data_features_tf2, df_scikit['label'].values , cv=cv)\n",
    "print(\"Accuracy: %0.3f (+/- %0.3f)\" % (scores_XGB2.mean(), scores_XGB2.std() * 2))\n",
    "print(scores_XGB2)"
   ]
  },
  {
   "cell_type": "code",
   "execution_count": 72,
   "metadata": {
    "collapsed": false,
    "scrolled": true
   },
   "outputs": [
    {
     "name": "stdout",
     "output_type": "stream",
     "text": [
      "nada a declarar elogio\n",
      "Ok neutro\n",
      "rápido e atencioso elogio\n",
      "fecharam o chamado sem me avisar. absurdo reclamação\n",
      "como sempre, muito lento reclamação\n",
      "não fizeram mais do que o esperado. nem satisfeito nem insatisfeito neutro\n",
      "depois de 5 dias me retornaram dizendo que não podiam fazer nada pelo problema!!!! reclamação\n"
     ]
    }
   ],
   "source": [
    "docs_new=['nada a declarar','Ok','rápido e atencioso','fecharam o chamado sem me avisar. absurdo','como sempre, muito lento','não fizeram mais do que o esperado. nem satisfeito nem insatisfeito', 'depois de 5 dias me retornaram dizendo que não podiam fazer nada pelo problema!!!!']\n",
    "nota1_new=coo_matrix([5.0,3.0,5.0,2.0,2.0,4.0,1.0])\n",
    "nota2_new=coo_matrix([5.0,5.0,5.0,1.0,5.0,5.0,1.0])\n",
    "#-------------------------------------------------------------------\n",
    "counts_new = count_vect.transform(docs_new)\n",
    "counts_new_tf = tf_transformer.transform(counts_new)\n",
    "\n",
    "counts_new_tf=csr_matrix(hstack([coo_matrix(counts_new_tf),nota1_new.transpose()]))\n",
    "counts_new_tf=csr_matrix(hstack([coo_matrix(counts_new_tf),nota2_new.transpose()]))\n",
    "\n",
    "predicted = clf10.predict(counts_new_tf)\n",
    "\n",
    "for doc,category in zip(docs_new,predicted):\n",
    "    print(doc,category)"
   ]
  },
  {
   "cell_type": "markdown",
   "metadata": {},
   "source": [
    "#### 3.2 - Metrics\n"
   ]
  },
  {
   "cell_type": "code",
   "execution_count": 60,
   "metadata": {
    "collapsed": false
   },
   "outputs": [
    {
     "name": "stdout",
     "output_type": "stream",
     "text": [
      "Naive Bayes   sem features de Nota: 0.812722263962\n"
     ]
    }
   ],
   "source": [
    "#clf = svm.SVC(kernel='linear', C=1)\n",
    "#clf = clf.fit(train_comments,train_labels)\n",
    "predicted5 = clf5.predict(test_comments)\n",
    "print('Naive Bayes   sem features de Nota:',np.mean(predicted5 == test_labels))"
   ]
  },
  {
   "cell_type": "code",
   "execution_count": 61,
   "metadata": {
    "collapsed": false
   },
   "outputs": [
    {
     "name": "stdout",
     "output_type": "stream",
     "text": [
      "             precision    recall  f1-score   support\n",
      "\n",
      "     elogio       0.89      0.98      0.93     13040\n",
      "     neutro       0.62      0.33      0.43      3754\n",
      " reclamação       0.61      0.72      0.66      3171\n",
      "\n",
      "avg / total       0.80      0.81      0.79     19965\n",
      "\n"
     ]
    }
   ],
   "source": [
    "print(metrics.classification_report(test_labels,predicted))"
   ]
  },
  {
   "cell_type": "code",
   "execution_count": 62,
   "metadata": {
    "collapsed": false,
    "scrolled": true
   },
   "outputs": [
    {
     "name": "stdout",
     "output_type": "stream",
     "text": [
      "[[12718   176   146]\n",
      " [ 1192  1234  1328]\n",
      " [  311   586  2274]]\n"
     ]
    }
   ],
   "source": [
    "print(metrics.confusion_matrix(test_labels,predicted))"
   ]
  },
  {
   "cell_type": "code",
   "execution_count": 67,
   "metadata": {
    "collapsed": false
   },
   "outputs": [
    {
     "name": "stdout",
     "output_type": "stream",
     "text": [
      "Cross Entropy Log-loss - Naive Bayes   sem features de Nota:0.4149\n"
     ]
    }
   ],
   "source": [
    "predicted_proba5 = clf5.predict_proba(test_comments)\n",
    "print ('Cross Entropy Log-loss - Naive Bayes   sem features de Nota:%.4f' % log_loss(test_labels, predicted_proba5))"
   ]
  },
  {
   "cell_type": "markdown",
   "metadata": {},
   "source": [
    "#### Calculating Log_loss for clf2 - SVM Linear com features de Nota"
   ]
  },
  {
   "cell_type": "code",
   "execution_count": 64,
   "metadata": {
    "collapsed": false
   },
   "outputs": [],
   "source": [
    "clf2_proba = svm.SVC(kernel='linear', C=1,cache_size=1000,probability=True).fit(train_comments2, train_labels2)"
   ]
  },
  {
   "cell_type": "code",
   "execution_count": 65,
   "metadata": {
    "collapsed": true
   },
   "outputs": [],
   "source": [
    "predicted_proba2 = clf2_probaroba.predict_proba(test_comments2)"
   ]
  },
  {
   "cell_type": "code",
   "execution_count": 66,
   "metadata": {
    "collapsed": false
   },
   "outputs": [
    {
     "name": "stdout",
     "output_type": "stream",
     "text": [
      "Cross Entropy Log-loss - SVM Linear   com features de Nota: 0.3128\n"
     ]
    }
   ],
   "source": [
    "print ('Cross Entropy Log-loss - SVM Linear   com features de Nota: %.4f' % log_loss(test_labels2, predicted_proba2))"
   ]
  },
  {
   "cell_type": "markdown",
   "metadata": {},
   "source": [
    "#### 3.3 - Model Persistence\n",
    "Após o treinamento de um modelo scikit-learn, é desejável criar formas de persistir o modelo para uso futuro, sem a necessidade de realizar o treinamento novamente."
   ]
  },
  {
   "cell_type": "code",
   "execution_count": 29,
   "metadata": {
    "collapsed": false
   },
   "outputs": [],
   "source": [
    "def dump_model(estimator,filename):\n",
    "    outputs = './outputs/'\n",
    "    datafile = os.path.join(outputs,filename)\n",
    "    \n",
    "    joblib.dump(estimator, datafile)"
   ]
  },
  {
   "cell_type": "code",
   "execution_count": 30,
   "metadata": {
    "collapsed": true
   },
   "outputs": [],
   "source": [
    "def load_model(filename):\n",
    "    outputs = './outputs/'\n",
    "    datafile = os.path.join(outputs,filename)\n",
    "    \n",
    "    return(joblib.load(datafile))"
   ]
  },
  {
   "cell_type": "code",
   "execution_count": 33,
   "metadata": {
    "collapsed": false
   },
   "outputs": [],
   "source": [
    "dump_model(clf ,'model1a.pk1')\n",
    "dump_model(clf2,'model1b.pk1')\n",
    "dump_model(clf3,'model2a.pk1')\n",
    "dump_model(clf4,'model2b.pk1')\n",
    "dump_model(clf5,'model3a.pk1')\n",
    "dump_model(clf6,'model3b.pk1')\n",
    "dump_model(clf7,'model4a.pk1')\n",
    "dump_model(clf8,'model4b.pk1')\n",
    "dump_model(clf9, 'model5a.pk1')\n",
    "dump_model(clf10,'model5b.pk1')\n",
    "\n",
    "dump_model(train_comments,'train_comments.data')\n",
    "dump_model(train_labels,'train_labels.data')\n",
    "dump_model(test_comments,'test_comments.data')\n",
    "dump_model(test_labels,'test_labels.data')\n",
    "\n",
    "dump_model(train_comments2,'train_comments2.data')\n",
    "dump_model(train_labels2,'train_labels2.data')\n",
    "dump_model(test_comments2,'test_comments2.data')\n",
    "dump_model(test_labels2,'test_labels2.data')"
   ]
  },
  {
   "cell_type": "code",
   "execution_count": 31,
   "metadata": {
    "collapsed": false
   },
   "outputs": [],
   "source": [
    "clf  = load_model('model1a.pk1')\n",
    "clf2 = load_model('model1b.pk1')\n",
    "clf3 = load_model('model2a.pk1')\n",
    "clf4 = load_model('model2b.pk1')\n",
    "clf5 = load_model('model3a.pk1')\n",
    "clf6 = load_model('model3b.pk1')\n",
    "clf7 = load_model('model4a.pk1')\n",
    "clf8 = load_model('model4b.pk1')\n",
    "clf9 = load_model('model5a.pk1')\n",
    "clf10= load_model('model5b.pk1')\n",
    "\n",
    "train_comments = load_model('train_comments.data')\n",
    "train_labels   = load_model('train_labels.data')\n",
    "test_comments  = load_model('test_comments.data')\n",
    "test_labels    = load_model('test_labels.data') \n",
    "\n",
    "train_comments2 = load_model('train_comments2.data')\n",
    "train_labels2   = load_model('train_labels2.data')\n",
    "test_comments2  = load_model('test_comments2.data')\n",
    "test_labels2    = load_model('test_labels2.data')"
   ]
  },
  {
   "cell_type": "code",
   "execution_count": 69,
   "metadata": {
    "collapsed": false
   },
   "outputs": [
    {
     "name": "stdout",
     "output_type": "stream",
     "text": [
      "SVM-Linear    sem features de Nota: 0.8501878287\n",
      "SVM-Linear    com features de Nota: 0.8664162284\n",
      "SVM-RBF       sem features de Nota: 0.65314300025\n",
      "SVM-RBF       com features de Nota: 0.777210117706\n"
     ]
    }
   ],
   "source": [
    "print('SVM-Linear    sem features de Nota:',clf.score(test_comments, test_labels))\n",
    "print('SVM-Linear    com features de Nota:',clf2.score(test_comments2, test_labels2))\n",
    "print('SVM-RBF       sem features de Nota:',clf3.score(test_comments, test_labels))\n",
    "print('SVM-RBF       com features de Nota:',clf4.score(test_comments2, test_labels2))"
   ]
  },
  {
   "cell_type": "code",
   "execution_count": 34,
   "metadata": {
    "collapsed": false
   },
   "outputs": [
    {
     "name": "stdout",
     "output_type": "stream",
     "text": [
      "Naive Bayes   sem features de Nota: 0.812722263962\n",
      "Naive Bayes   com features de Nota: 0.810017530679\n",
      "SGD           sem features de Nota: 0.840821437516\n",
      "SGD           com features de Nota: 0.859954921112\n",
      "XGB           sem features de Nota: 0.795241672928\n",
      "XGB           com features de Nota: 0.83851740546\n"
     ]
    }
   ],
   "source": [
    "print('Naive Bayes   sem features de Nota:', clf5.score(test_comments, test_labels))\n",
    "print('Naive Bayes   com features de Nota:', clf6.score(test_comments2, test_labels2))\n",
    "print('SGD           sem features de Nota:', clf7.score(test_comments, test_labels))\n",
    "print('SGD           com features de Nota:', clf8.score(test_comments2, test_labels2))\n",
    "print('XGB           sem features de Nota:', clf9.score(test_comments, test_labels))\n",
    "print('XGB           com features de Nota:',clf10.score(test_comments2, test_labels2))"
   ]
  },
  {
   "cell_type": "markdown",
   "metadata": {},
   "source": [
    "#### 3.4 - GridSearch\n"
   ]
  },
  {
   "cell_type": "code",
   "execution_count": 105,
   "metadata": {
    "collapsed": false
   },
   "outputs": [
    {
     "name": "stdout",
     "output_type": "stream",
     "text": [
      "SVM-Linear:  {'C': 1, 'tol': 0.001, 'verbose': False, 'kernel': 'linear', 'shrinking': True, 'class_weight': None, 'probability': False, 'coef0': 0.0, 'random_state': None, 'decision_function_shape': None, 'max_iter': -1, 'cache_size': 1000, 'degree': 3, 'gamma': 'auto'}\n",
      "SVM-Gaussian:  {'C': 1, 'tol': 0.001, 'verbose': False, 'kernel': 'rbf', 'shrinking': True, 'class_weight': None, 'probability': False, 'coef0': 0.0, 'random_state': None, 'decision_function_shape': None, 'max_iter': -1, 'cache_size': 1000, 'degree': 3, 'gamma': 'auto'}\n",
      "Naive Bayes:  {'class_prior': None, 'fit_prior': True, 'alpha': 1.0}\n",
      "SGD: {'n_iter': 50, 'shuffle': True, 'epsilon': 0.1, 'power_t': 0.5, 'alpha': 0.0001, 'learning_rate': 'optimal', 'eta0': 0.0, 'class_weight': None, 'l1_ratio': 0.15, 'fit_intercept': True, 'random_state': None, 'penalty': 'l2', 'n_jobs': 1, 'average': False, 'warm_start': False, 'loss': 'hinge', 'verbose': 0}\n"
     ]
    }
   ],
   "source": [
    "print('SVM-Linear: ',clf.get_params())\n",
    "print('SVM-Gaussian: ',clf3.get_params())\n",
    "print('Naive Bayes: ',clf5.get_params())\n",
    "print('SGD:',clf7.get_params())"
   ]
  },
  {
   "cell_type": "markdown",
   "metadata": {},
   "source": [
    "#### 3.4.1 - GridSearch for SVM"
   ]
  },
  {
   "cell_type": "code",
   "execution_count": 16,
   "metadata": {
    "collapsed": true
   },
   "outputs": [],
   "source": [
    "param_grid = {\"C\": [0.5,1,2]\n",
    "             }"
   ]
  },
  {
   "cell_type": "code",
   "execution_count": 17,
   "metadata": {
    "collapsed": false
   },
   "outputs": [
    {
     "name": "stdout",
     "output_type": "stream",
     "text": [
      "GridSearchCV levou 165.16 segundos para 3 avaliação de parameteros.\n"
     ]
    }
   ],
   "source": [
    "# Executando Grid Search\n",
    "grid_search =  GridSearchCV(clf2, param_grid=param_grid)\n",
    "start = time()\n",
    "grid_search.fit(test_comments2, test_labels2)\n",
    "\n",
    "print(\"GridSearchCV levou %.2f segundos para %d avaliação de parameteros.\"% (time() - start, len(grid_search.cv_results_['params'])))"
   ]
  },
  {
   "cell_type": "code",
   "execution_count": 18,
   "metadata": {
    "collapsed": false
   },
   "outputs": [
    {
     "name": "stdout",
     "output_type": "stream",
     "text": [
      "{'C': 0.5}\n",
      "0.861157024793\n"
     ]
    }
   ],
   "source": [
    "print(grid_search.best_params_)\n",
    "print(grid_search.best_score_)"
   ]
  },
  {
   "cell_type": "code",
   "execution_count": 19,
   "metadata": {
    "collapsed": false
   },
   "outputs": [
    {
     "data": {
      "text/plain": [
       "{'mean_fit_time': array([ 7.0697155 ,  7.29463903,  7.92234945]),\n",
       " 'mean_score_time': array([ 2.96941312,  3.05672073,  3.06332405]),\n",
       " 'mean_test_score': array([ 0.86115702,  0.86100676,  0.85860255]),\n",
       " 'mean_train_score': array([ 0.88572512,  0.90057614,  0.92053603]),\n",
       " 'param_C': masked_array(data = [0.5 1 2],\n",
       "              mask = [False False False],\n",
       "        fill_value = ?),\n",
       " 'params': ({'C': 0.5}, {'C': 1}, {'C': 2}),\n",
       " 'rank_test_score': array([1, 2, 3], dtype=int32),\n",
       " 'split0_test_score': array([ 0.85892428,  0.85922476,  0.85772236]),\n",
       " 'split0_train_score': array([ 0.88789541,  0.90277256,  0.92298445]),\n",
       " 'split1_test_score': array([ 0.86160781,  0.85890308,  0.85544703]),\n",
       " 'split1_train_score': array([ 0.88557476,  0.90150263,  0.91923366]),\n",
       " 'split2_test_score': array([ 0.86293959,  0.8648933 ,  0.86263901]),\n",
       " 'split2_train_score': array([ 0.88370521,  0.89745323,  0.91938998]),\n",
       " 'std_fit_time': array([ 0.2329311 ,  0.36997462,  0.16246126]),\n",
       " 'std_score_time': array([ 0.07142669,  0.10609824,  0.08140141]),\n",
       " 'std_test_score': array([ 0.00166995,  0.00275102,  0.00300126]),\n",
       " 'std_train_score': array([ 0.00171394,  0.00226827,  0.00173247])}"
      ]
     },
     "execution_count": 19,
     "metadata": {},
     "output_type": "execute_result"
    }
   ],
   "source": [
    "grid_search.cv_results_"
   ]
  },
  {
   "cell_type": "markdown",
   "metadata": {},
   "source": [
    "#### 3.5 - Voting\n"
   ]
  },
  {
   "cell_type": "code",
   "execution_count": 40,
   "metadata": {
    "collapsed": false
   },
   "outputs": [],
   "source": [
    "clf_voting = VotingClassifier(estimators=[('SVM-Linear', clf2), ('SGD', clf8), ('XGB', clf10)], voting='hard')"
   ]
  },
  {
   "cell_type": "code",
   "execution_count": 41,
   "metadata": {
    "collapsed": false
   },
   "outputs": [
    {
     "data": {
      "text/plain": [
       "VotingClassifier(estimators=[('SVM-Linear', SVC(C=1, cache_size=1000, class_weight=None, coef0=0.0,\n",
       "  decision_function_shape=None, degree=3, gamma='auto', kernel='linear',\n",
       "  max_iter=-1, probability=False, random_state=None, shrinking=True,\n",
       "  tol=0.001, verbose=False)), ('SGD', SGDClassifier(alpha=0.0001, average=F...softprob', reg_alpha=0, reg_lambda=1,\n",
       "       scale_pos_weight=1, seed=0, silent=True, subsample=1))],\n",
       "         n_jobs=1, voting='hard', weights=None)"
      ]
     },
     "execution_count": 41,
     "metadata": {},
     "output_type": "execute_result"
    }
   ],
   "source": [
    "clf_voting.fit(train_comments2, train_labels2)"
   ]
  },
  {
   "cell_type": "code",
   "execution_count": 42,
   "metadata": {
    "collapsed": false,
    "scrolled": true
   },
   "outputs": [
    {
     "data": {
      "text/plain": [
       "0.86942148760330573"
      ]
     },
     "execution_count": 42,
     "metadata": {},
     "output_type": "execute_result"
    }
   ],
   "source": [
    "clf_voting.score(test_comments2, test_labels2)"
   ]
  },
  {
   "cell_type": "markdown",
   "metadata": {},
   "source": [
    "#### 3.6 - Trabalhando os Dados -  Remoção de stopwords , Noise Removal, Bigrams and Ngrams\n"
   ]
  },
  {
   "cell_type": "code",
   "execution_count": 30,
   "metadata": {
    "collapsed": false
   },
   "outputs": [],
   "source": [
    "#Creating Commentary Text and Commentary text list from the pandas dataframe\n",
    "list1 = df_scikit['text']\n",
    "list1=list1.str.lower()\n",
    "raw_texts=''\n",
    "for i in list1:\n",
    "    raw_texts += u'\\n'+ i"
   ]
  },
  {
   "cell_type": "code",
   "execution_count": 31,
   "metadata": {
    "collapsed": false
   },
   "outputs": [
    {
     "name": "stdout",
     "output_type": "stream",
     "text": [
      "total textos: 99825\n",
      "total chars : 7210752\n"
     ]
    }
   ],
   "source": [
    "print('total textos:',len(list1))\n",
    "print('total chars :',len(raw_texts))"
   ]
  },
  {
   "cell_type": "code",
   "execution_count": 32,
   "metadata": {
    "collapsed": true
   },
   "outputs": [],
   "source": [
    "def ocorrencias_palavra(expressao):\n",
    "    pos = 0 \n",
    "    positions = []\n",
    "    while pos != -1:\n",
    "        position = raw_texts.find(expressao,pos+1)\n",
    "        pos = position\n",
    "        positions.append(position)\n",
    "    positions.pop()\n",
    "    print(u'A expressão buscada ocorre {} vezes'.format(len(positions)))"
   ]
  },
  {
   "cell_type": "code",
   "execution_count": 33,
   "metadata": {
    "collapsed": false
   },
   "outputs": [
    {
     "name": "stdout",
     "output_type": "stream",
     "text": [
      "A expressão buscada ocorre 19183 vezes\n",
      "A expressão buscada ocorre 696284 vezes\n"
     ]
    }
   ],
   "source": [
    "ocorrencias_palavra('muito')\n",
    "ocorrencias_palavra('o')"
   ]
  },
  {
   "cell_type": "code",
   "execution_count": 79,
   "metadata": {
    "collapsed": false
   },
   "outputs": [
    {
     "name": "stdout",
     "output_type": "stream",
     "text": [
      "203\n",
      "<class 'list'>\n"
     ]
    }
   ],
   "source": [
    "#Lista de Ignore words para idioma português\n",
    "stop = nltk.corpus.stopwords.words('portuguese')\n",
    "print(len(stop))\n",
    "print(type(stop))"
   ]
  },
  {
   "cell_type": "code",
   "execution_count": 118,
   "metadata": {
    "collapsed": false
   },
   "outputs": [],
   "source": [
    "df_scikit['text_limpo'] = df_scikit['text']\n",
    "df_scikit['text_limpo'] = df_scikit['text_limpo'].str.lower().str.split()\n",
    "df_scikit['text_limpo']= df_scikit['text_limpo'].apply(lambda x: [item for item in x if item not in stop])"
   ]
  },
  {
   "cell_type": "code",
   "execution_count": 119,
   "metadata": {
    "collapsed": false
   },
   "outputs": [
    {
     "name": "stdout",
     "output_type": "stream",
     "text": [
      "o atendimento foi ótimo. o funcionário merece um elogio\n",
      "['atendimento', 'ótimo.', 'funcionário', 'merece', 'elogio']\n"
     ]
    }
   ],
   "source": [
    "print(df_scikit['text'][0])\n",
    "print(df_scikit['text_limpo'][0])"
   ]
  },
  {
   "cell_type": "code",
   "execution_count": 120,
   "metadata": {
    "collapsed": false
   },
   "outputs": [],
   "source": [
    "df_scikit['text_limpo']=df_scikit['text_limpo'].apply(lambda x: (' '.join(x)).replace('.','').replace(',',''))"
   ]
  },
  {
   "cell_type": "code",
   "execution_count": 122,
   "metadata": {
    "collapsed": false
   },
   "outputs": [
    {
     "name": "stdout",
     "output_type": "stream",
     "text": [
      "o atendimento foi ótimo. o funcionário merece um elogio\n",
      "atendimento ótimo funcionário merece elogio\n"
     ]
    }
   ],
   "source": [
    "print(df_scikit['text'][0])\n",
    "print(df_scikit['text_limpo'][0])"
   ]
  },
  {
   "cell_type": "markdown",
   "metadata": {},
   "source": [
    "##### 3.6.1 - Testando após a remoção de stopwords\n"
   ]
  },
  {
   "cell_type": "code",
   "execution_count": 124,
   "metadata": {
    "collapsed": false
   },
   "outputs": [],
   "source": [
    "#bag of words features\n",
    "count_vect = CountVectorizer()\n",
    "count_vect.fit(df_scikit['text_limpo'].values)\n",
    "data = count_vect.transform(df_scikit['text_limpo'].values)\n",
    "\n",
    "#term frequency features\n",
    "tf_transformer = TfidfTransformer(use_idf=False).fit(data)\n",
    "data_features_tf = tf_transformer.transform(data)"
   ]
  },
  {
   "cell_type": "code",
   "execution_count": 125,
   "metadata": {
    "collapsed": false
   },
   "outputs": [],
   "source": [
    "from sklearn import cross_validation\n",
    "train_comments, test_comments, train_labels, test_labels = cross_validation.train_test_split(data_features_tf, df_scikit['label'].values, test_size=0.2, random_state=0)"
   ]
  },
  {
   "cell_type": "markdown",
   "metadata": {},
   "source": [
    "#### Incluindo informações adicionais de Nota1 e Nota2 como features do modelo"
   ]
  },
  {
   "cell_type": "code",
   "execution_count": 127,
   "metadata": {
    "collapsed": false
   },
   "outputs": [],
   "source": [
    "n1=(df_scikit['nota1'].values)\n",
    "n2=(df_scikit['nota2'].values)\n",
    "\n",
    "n1_scaled=n1.reshape(-1,1)\n",
    "n2_scaled=n2.reshape(-1,1)"
   ]
  },
  {
   "cell_type": "code",
   "execution_count": 128,
   "metadata": {
    "collapsed": false
   },
   "outputs": [
    {
     "name": "stdout",
     "output_type": "stream",
     "text": [
      "(99825, 28595)\n",
      "(99825, 1)\n",
      "(99825, 1)\n",
      "(99825, 28597)\n"
     ]
    }
   ],
   "source": [
    "#n1=coo_matrix(df_scikit['nota1'].values)\n",
    "#n2=coo_matrix(df_scikit['nota2'].values)\n",
    "#n1=coo_matrix(n1)\n",
    "#n2=coo_matrix(n2)\n",
    "print(data_features_tf.shape)\n",
    "\n",
    "data_features_tf2=csr_matrix(hstack([coo_matrix(data_features_tf),coo_matrix(n1_scaled)]))\n",
    "data_features_tf2=csr_matrix(hstack([coo_matrix(data_features_tf2),coo_matrix(n2_scaled)]))\n",
    "\n",
    "print(n1_scaled.shape)\n",
    "print(n2_scaled.shape)\n",
    "print(data_features_tf2.shape)"
   ]
  },
  {
   "cell_type": "code",
   "execution_count": 129,
   "metadata": {
    "collapsed": true
   },
   "outputs": [],
   "source": [
    "from sklearn import cross_validation\n",
    "train_comments2, test_comments2, train_labels2, test_labels2 = cross_validation.train_test_split(data_features_tf2, df_scikit['label'].values, test_size=0.2, random_state=0)"
   ]
  },
  {
   "cell_type": "code",
   "execution_count": 136,
   "metadata": {
    "collapsed": false
   },
   "outputs": [
    {
     "data": {
      "text/plain": [
       "0.8434760831455046"
      ]
     },
     "execution_count": 136,
     "metadata": {},
     "output_type": "execute_result"
    }
   ],
   "source": [
    "clf = svm.SVC(kernel='linear', C=1,cache_size=1000).fit(train_comments, train_labels)\n",
    "clf.score(test_comments, test_labels)\n",
    "#0.8501878287"
   ]
  },
  {
   "cell_type": "code",
   "execution_count": 137,
   "metadata": {
    "collapsed": false
   },
   "outputs": [
    {
     "data": {
      "text/plain": [
       "0.86446280991735536"
      ]
     },
     "execution_count": 137,
     "metadata": {},
     "output_type": "execute_result"
    }
   ],
   "source": [
    "clf2 = svm.SVC(kernel='linear', C=1,cache_size=1000).fit(train_comments2, train_labels2)\n",
    "clf2.score(test_comments2, test_labels2)\n",
    "#0.8664162284"
   ]
  },
  {
   "cell_type": "code",
   "execution_count": 138,
   "metadata": {
    "collapsed": false
   },
   "outputs": [
    {
     "data": {
      "text/plain": [
       "0.65314300025043825"
      ]
     },
     "execution_count": 138,
     "metadata": {},
     "output_type": "execute_result"
    }
   ],
   "source": [
    "clf3 = svm.SVC(kernel='rbf', C=1,cache_size=1000).fit(train_comments, train_labels)\n",
    "clf3.score(test_comments, test_labels)\n",
    "#0.65314300025"
   ]
  },
  {
   "cell_type": "code",
   "execution_count": 139,
   "metadata": {
    "collapsed": false
   },
   "outputs": [
    {
     "data": {
      "text/plain": [
       "0.77721011770598547"
      ]
     },
     "execution_count": 139,
     "metadata": {},
     "output_type": "execute_result"
    }
   ],
   "source": [
    "clf4 = svm.SVC(kernel='rbf', C=1,cache_size=1000).fit(train_comments2, train_labels2)\n",
    "clf4.score(test_comments2, test_labels2)\n",
    "#0.777210117706"
   ]
  },
  {
   "cell_type": "code",
   "execution_count": 130,
   "metadata": {
    "collapsed": false
   },
   "outputs": [
    {
     "data": {
      "text/plain": [
       "0.81031805659904832"
      ]
     },
     "execution_count": 130,
     "metadata": {},
     "output_type": "execute_result"
    }
   ],
   "source": [
    "clf5 = MultinomialNB().fit(train_comments, train_labels)\n",
    "clf5.score(test_comments, test_labels)\n",
    "#0.81272226396193337"
   ]
  },
  {
   "cell_type": "code",
   "execution_count": 131,
   "metadata": {
    "collapsed": false
   },
   "outputs": [
    {
     "data": {
      "text/plain": [
       "0.80721262208865519"
      ]
     },
     "execution_count": 131,
     "metadata": {},
     "output_type": "execute_result"
    }
   ],
   "source": [
    "clf6 = MultinomialNB().fit(train_comments2, train_labels2)\n",
    "clf6.score(test_comments2, test_labels2)\n",
    "#0.81001753067868776"
   ]
  },
  {
   "cell_type": "code",
   "execution_count": 132,
   "metadata": {
    "collapsed": false
   },
   "outputs": [
    {
     "data": {
      "text/plain": [
       "0.83951915852742298"
      ]
     },
     "execution_count": 132,
     "metadata": {},
     "output_type": "execute_result"
    }
   ],
   "source": [
    "clf7 = SGDClassifier(loss=\"hinge\", penalty=\"l2\",n_iter=50)\n",
    "clf7.fit(train_comments, train_labels)\n",
    "clf7.score(test_comments, test_labels)\n",
    "#0.84082143751565241"
   ]
  },
  {
   "cell_type": "code",
   "execution_count": 133,
   "metadata": {
    "collapsed": false,
    "scrolled": true
   },
   "outputs": [
    {
     "data": {
      "text/plain": [
       "0.86195842724768346"
      ]
     },
     "execution_count": 133,
     "metadata": {},
     "output_type": "execute_result"
    }
   ],
   "source": [
    "clf8 = SGDClassifier(loss=\"hinge\", penalty=\"l2\",n_iter=50)\n",
    "clf8.fit(train_comments2, train_labels2)\n",
    "clf8.score(test_comments2, test_labels2)\n",
    "#0.85995492111194594"
   ]
  },
  {
   "cell_type": "code",
   "execution_count": 134,
   "metadata": {
    "collapsed": false,
    "scrolled": true
   },
   "outputs": [
    {
     "data": {
      "text/plain": [
       "0.79599298772852489"
      ]
     },
     "execution_count": 134,
     "metadata": {},
     "output_type": "execute_result"
    }
   ],
   "source": [
    "clf9=xgb.XGBClassifier(max_depth=5, learning_rate=0.05, n_estimators=100)\n",
    "clf9.fit(train_comments, train_labels)\n",
    "clf9.score(test_comments, test_labels)\n",
    "#0.79524167292762338"
   ]
  },
  {
   "cell_type": "code",
   "execution_count": 135,
   "metadata": {
    "collapsed": false,
    "scrolled": true
   },
   "outputs": [
    {
     "data": {
      "text/plain": [
       "0.83185574755822689"
      ]
     },
     "execution_count": 135,
     "metadata": {},
     "output_type": "execute_result"
    }
   ],
   "source": [
    "clf10=xgb.XGBClassifier(max_depth=5, learning_rate=0.05, n_estimators=100)\n",
    "clf10.fit(train_comments2, train_labels2)\n",
    "clf10.score(test_comments2, test_labels2)\n",
    "#0.83851740545955422"
   ]
  },
  {
   "cell_type": "markdown",
   "metadata": {},
   "source": [
    "##### 3.6.2 - Testando unigrams / bigrams\n"
   ]
  },
  {
   "cell_type": "code",
   "execution_count": 142,
   "metadata": {
    "collapsed": false
   },
   "outputs": [],
   "source": [
    "#bag of words features\n",
    "count_vect = CountVectorizer(ngram_range=(1, 2),stop_words=stop)\n",
    "count_vect.fit(df_scikit['text'].values)\n",
    "data = count_vect.transform(df_scikit['text'].values)\n",
    "\n",
    "#term frequency features\n",
    "tf_transformer = TfidfTransformer(use_idf=False).fit(data)\n",
    "data_features_tf = tf_transformer.transform(data)"
   ]
  },
  {
   "cell_type": "code",
   "execution_count": 143,
   "metadata": {
    "collapsed": false
   },
   "outputs": [],
   "source": [
    "from sklearn import cross_validation\n",
    "train_comments, test_comments, train_labels, test_labels = cross_validation.train_test_split(data_features_tf, df_scikit['label'].values, test_size=0.2, random_state=0)"
   ]
  },
  {
   "cell_type": "markdown",
   "metadata": {},
   "source": [
    "#### Incluindo informações adicionais de Nota1 e Nota2 como features do modelo"
   ]
  },
  {
   "cell_type": "code",
   "execution_count": 144,
   "metadata": {
    "collapsed": false
   },
   "outputs": [],
   "source": [
    "n1=(df_scikit['nota1'].values)\n",
    "n2=(df_scikit['nota2'].values)\n",
    "\n",
    "n1_scaled=n1.reshape(-1,1)\n",
    "n2_scaled=n2.reshape(-1,1)"
   ]
  },
  {
   "cell_type": "code",
   "execution_count": 145,
   "metadata": {
    "collapsed": false
   },
   "outputs": [
    {
     "name": "stdout",
     "output_type": "stream",
     "text": [
      "(99825, 295596)\n",
      "(99825, 1)\n",
      "(99825, 1)\n",
      "(99825, 295598)\n"
     ]
    }
   ],
   "source": [
    "#n1=coo_matrix(df_scikit['nota1'].values)\n",
    "#n2=coo_matrix(df_scikit['nota2'].values)\n",
    "#n1=coo_matrix(n1)\n",
    "#n2=coo_matrix(n2)\n",
    "print(data_features_tf.shape)\n",
    "\n",
    "data_features_tf2=csr_matrix(hstack([coo_matrix(data_features_tf),coo_matrix(n1_scaled)]))\n",
    "data_features_tf2=csr_matrix(hstack([coo_matrix(data_features_tf2),coo_matrix(n2_scaled)]))\n",
    "\n",
    "print(n1_scaled.shape)\n",
    "print(n2_scaled.shape)\n",
    "print(data_features_tf2.shape)"
   ]
  },
  {
   "cell_type": "code",
   "execution_count": 129,
   "metadata": {
    "collapsed": true
   },
   "outputs": [],
   "source": [
    "from sklearn import cross_validation\n",
    "train_comments2, test_comments2, train_labels2, test_labels2 = cross_validation.train_test_split(data_features_tf2, df_scikit['label'].values, test_size=0.2, random_state=0)"
   ]
  },
  {
   "cell_type": "code",
   "execution_count": 146,
   "metadata": {
    "collapsed": false
   },
   "outputs": [
    {
     "data": {
      "text/plain": [
       "0.80075131480090156"
      ]
     },
     "execution_count": 146,
     "metadata": {},
     "output_type": "execute_result"
    }
   ],
   "source": [
    "clf5 = MultinomialNB().fit(train_comments, train_labels)\n",
    "clf5.score(test_comments, test_labels)\n",
    "#0.81272226396193337"
   ]
  },
  {
   "cell_type": "code",
   "execution_count": 147,
   "metadata": {
    "collapsed": false
   },
   "outputs": [
    {
     "data": {
      "text/plain": [
       "0.80721262208865519"
      ]
     },
     "execution_count": 147,
     "metadata": {},
     "output_type": "execute_result"
    }
   ],
   "source": [
    "clf6 = MultinomialNB().fit(train_comments2, train_labels2)\n",
    "clf6.score(test_comments2, test_labels2)\n",
    "#0.81001753067868776"
   ]
  },
  {
   "cell_type": "code",
   "execution_count": 148,
   "metadata": {
    "collapsed": false
   },
   "outputs": [
    {
     "data": {
      "text/plain": [
       "0.84057099924868517"
      ]
     },
     "execution_count": 148,
     "metadata": {},
     "output_type": "execute_result"
    }
   ],
   "source": [
    "clf7 = SGDClassifier(loss=\"hinge\", penalty=\"l2\",n_iter=50)\n",
    "clf7.fit(train_comments, train_labels)\n",
    "clf7.score(test_comments, test_labels)\n",
    "#0.84082143751565241"
   ]
  },
  {
   "cell_type": "code",
   "execution_count": 149,
   "metadata": {
    "collapsed": false,
    "scrolled": true
   },
   "outputs": [
    {
     "data": {
      "text/plain": [
       "0.86235912847483098"
      ]
     },
     "execution_count": 149,
     "metadata": {},
     "output_type": "execute_result"
    }
   ],
   "source": [
    "clf8 = SGDClassifier(loss=\"hinge\", penalty=\"l2\",n_iter=50)\n",
    "clf8.fit(train_comments2, train_labels2)\n",
    "clf8.score(test_comments2, test_labels2)\n",
    "#0.85995492111194594"
   ]
  },
  {
   "cell_type": "code",
   "execution_count": 150,
   "metadata": {
    "collapsed": false,
    "scrolled": true
   },
   "outputs": [
    {
     "data": {
      "text/plain": [
       "0.79479088404708242"
      ]
     },
     "execution_count": 150,
     "metadata": {},
     "output_type": "execute_result"
    }
   ],
   "source": [
    "clf9=xgb.XGBClassifier(max_depth=5, learning_rate=0.05, n_estimators=100)\n",
    "clf9.fit(train_comments, train_labels)\n",
    "clf9.score(test_comments, test_labels)\n",
    "#0.79524167292762338"
   ]
  },
  {
   "cell_type": "code",
   "execution_count": 151,
   "metadata": {
    "collapsed": false,
    "scrolled": true
   },
   "outputs": [
    {
     "data": {
      "text/plain": [
       "0.83185574755822689"
      ]
     },
     "execution_count": 151,
     "metadata": {},
     "output_type": "execute_result"
    }
   ],
   "source": [
    "clf10=xgb.XGBClassifier(max_depth=5, learning_rate=0.05, n_estimators=100)\n",
    "clf10.fit(train_comments2, train_labels2)\n",
    "clf10.score(test_comments2, test_labels2)\n",
    "#0.83851740545955422"
   ]
  },
  {
   "cell_type": "markdown",
   "metadata": {},
   "source": [
    "### 4 - Ocorrência de palavras (com objetivo de Visualização de dados)"
   ]
  },
  {
   "cell_type": "code",
   "execution_count": 71,
   "metadata": {
    "collapsed": true
   },
   "outputs": [],
   "source": [
    "df_scikit_pos = df_scikit[df_scikit['label'] == 'elogio']\n",
    "df_scikit_neu = df_scikit[df_scikit['label'] == 'neutro']\n",
    "df_scikit_neg = df_scikit[df_scikit['label'] == 'reclamação']"
   ]
  },
  {
   "cell_type": "code",
   "execution_count": 83,
   "metadata": {
    "collapsed": false
   },
   "outputs": [
    {
     "name": "stdout",
     "output_type": "stream",
     "text": [
      "65404\n",
      "muito bom o serviço prestado\n",
      "18756\n",
      "o chamado foi resolvido momentaneamente apenas. no dia seguinte o problema voltou\n",
      "15665\n",
      "acredito que a equipe de apoio devesse dar mais apoio, e buscar com mais insistência uma solução\n"
     ]
    }
   ],
   "source": [
    "list_pos=df_scikit_pos['text'].tolist()\n",
    "print(len(list_pos))\n",
    "print(list_pos[1])\n",
    "\n",
    "list_neu=df_scikit_neu['text'].tolist()\n",
    "print(len(list_neu))\n",
    "print(list_neu[1])\n",
    "\n",
    "list_neg=df_scikit_neg['text'].tolist()\n",
    "print(len(list_neg))\n",
    "print(list_neg[1])"
   ]
  },
  {
   "cell_type": "code",
   "execution_count": 93,
   "metadata": {
    "collapsed": false
   },
   "outputs": [],
   "source": [
    "def trata_texto(texto):\n",
    "    stop = nltk.corpus.stopwords.words('portuguese')\n",
    "    raw_texts=''\n",
    "    \n",
    "    for i in texto:\n",
    "        raw_texts += u'\\n'+ i\n",
    "    \n",
    "    texto_tratado = [w.strip(string.punctuation) for w in raw_texts.split() if w.strip(string.punctuation) not in stop]\n",
    "    \n",
    "    freq_words=Counter(texto_tratado)\n",
    "    \n",
    "    df_freq_words = pd.DataFrame(list(freq_words.items()))\n",
    "    df_freq_words.index.name = u'Id'\n",
    "    df_freq_words.columns= ['palavra','count']\n",
    "    df_freq_words = df_freq_words.sort_values(by=u'count', ascending=False)\n",
    "    \n",
    "    return (df_freq_words)"
   ]
  },
  {
   "cell_type": "code",
   "execution_count": 98,
   "metadata": {
    "collapsed": false
   },
   "outputs": [],
   "source": [
    "df_freq_words_pos=trata_texto(list_pos)\n",
    "df_freq_words_neu=trata_texto(list_neu)\n",
    "df_freq_words_neg=trata_texto(list_neg)"
   ]
  },
  {
   "cell_type": "code",
   "execution_count": 107,
   "metadata": {
    "collapsed": false
   },
   "outputs": [
    {
     "name": "stdout",
     "output_type": "stream",
     "text": [
      "          palavra  count\n",
      "Id                      \n",
      "6630  atendimento  36179\n",
      "1028    excelente  17181\n",
      "2987        ótimo   7459\n",
      "5792       rápido   7165\n",
      "5388     parabéns   6807\n",
      "           palavra  count\n",
      "Id                       \n",
      "11621     problema   3432\n",
      "3124     resolvido   2093\n",
      "7735   atendimento   2033\n",
      "5134       chamado   1934\n",
      "5612             é   1390\n",
      "           palavra  count\n",
      "Id                       \n",
      "15327     problema   5073\n",
      "10132  atendimento   3738\n",
      "6755       chamado   3504\n",
      "7342             é   2465\n",
      "18539    atendente   2296\n"
     ]
    }
   ],
   "source": [
    "print(df_freq_words_pos[0:5])\n",
    "print(df_freq_words_neu[0:5])\n",
    "print(df_freq_words_neg[0:5])"
   ]
  },
  {
   "cell_type": "code",
   "execution_count": 112,
   "metadata": {
    "collapsed": false
   },
   "outputs": [
    {
     "name": "stdout",
     "output_type": "stream",
     "text": [
      "Corpus com 32119 palavras polarizadas\n"
     ]
    },
    {
     "name": "stderr",
     "output_type": "stream",
     "text": [
      "/usr/local/lib/python3.4/dist-packages/ipykernel/__main__.py:6: FutureWarning: the take_last=False keyword is deprecated, use keep='first' instead\n"
     ]
    }
   ],
   "source": [
    "datapath = './datasets/'\n",
    "outputs = './outputs/'\n",
    "oplexicon = './oplexicon_v3.0/lexico_v3.0.txt'    #lexico gerado pela PUC-RS\n",
    "\n",
    "df_o = pd.read_csv(os.path.join(datapath,oplexicon), header=None, encoding='utf-8', usecols=[0,2], names=[u'palavra',u'polaridade'])\n",
    "df_o.drop_duplicates(subset=[u'palavra'], take_last=False, inplace=True)\n",
    "df_o = df_o.set_index(u'palavra')\n",
    "print(u'Corpus com {} palavras polarizadas'.format(len(df_o)))"
   ]
  },
  {
   "cell_type": "code",
   "execution_count": 114,
   "metadata": {
    "collapsed": false
   },
   "outputs": [],
   "source": [
    "writer = pd.ExcelWriter('freq_words.xlsx')\n",
    "df_freq_words_pos[0:50].to_excel(writer,'POS')\n",
    "df_freq_words_neu[0:50].to_excel(writer,'NEU')\n",
    "df_freq_words_neg[0:50].to_excel(writer,'NEG')\n",
    "df_o.to_excel(writer,'lexico')\n",
    "writer.save()"
   ]
  },
  {
   "cell_type": "markdown",
   "metadata": {},
   "source": [
    "### 5 - Modelo binário de classificação - Elogio x Neutro/Reclamação\n",
    "Se tivessemos apenas 2 classes no modelo: elogio e não-elogio"
   ]
  },
  {
   "cell_type": "code",
   "execution_count": 140,
   "metadata": {
    "collapsed": false
   },
   "outputs": [],
   "source": [
    "#Função para separar os registros em: elogio e não-elogio\n",
    "#Input : dataframe e campo 'label'\n",
    "#Output: label tratado\n",
    "def setmanifestacao_binario (DF,X):\n",
    "    positivo=[\"elogio\",\"agradecimento\"]\n",
    "    neutro  =[\"neutro\",\"sugestão\"]\n",
    "    negativo=[\"reclamação\",\"insatisfeito\",\"não-resolvido\"]\n",
    "    valido=positivo+neutro+negativo\n",
    "\n",
    "    if   (str.lower(X) in negativo):\n",
    "        return \"não-elogio\"\n",
    "    elif (str.lower(X) in positivo):\n",
    "        return \"elogio\"\n",
    "    elif (str.lower(X) in neutro):\n",
    "        return \"não-elogio\"\n",
    "    elif (str.lower(X) not in valido):\n",
    "        return \"invalido\"\n",
    "    else:\n",
    "        return \"erro\""
   ]
  },
  {
   "cell_type": "code",
   "execution_count": 141,
   "metadata": {
    "collapsed": true
   },
   "outputs": [],
   "source": [
    "df_scikit[\"label_binario\"]=df_scikit.apply(lambda row: setmanifestacao_binario(df_scikit,row[\"label\"]), axis=1)"
   ]
  },
  {
   "cell_type": "code",
   "execution_count": 142,
   "metadata": {
    "collapsed": false
   },
   "outputs": [
    {
     "data": {
      "text/plain": [
       "<matplotlib.axes._subplots.AxesSubplot at 0x7f87cd532278>"
      ]
     },
     "execution_count": 142,
     "metadata": {},
     "output_type": "execute_result"
    },
    {
     "data": {
      "image/png": "[encoded data removed]",
      "text/plain": [
       "<matplotlib.figure.Figure at 0x7f87d2453908>"
      ]
     },
     "metadata": {},
     "output_type": "display_data"
    }
   ],
   "source": [
    "plt.ylabel('Quantidade')\n",
    "plt.title('Manifestação Geral')\n",
    "(df_scikit['label_binario'].value_counts()).plot(kind='bar',color='gray',alpha=0.6,figsize=(6, 4))"
   ]
  },
  {
   "cell_type": "markdown",
   "metadata": {},
   "source": [
    "#### 5.1 - Processamento - Scikit Learn"
   ]
  },
  {
   "cell_type": "code",
   "execution_count": 143,
   "metadata": {
    "collapsed": false
   },
   "outputs": [],
   "source": [
    "#bag of words features\n",
    "count_vect = CountVectorizer()\n",
    "count_vect.fit(df_scikit['text'].values)\n",
    "data = count_vect.transform(df_scikit['text'].values)\n",
    "\n",
    "#term frequency features\n",
    "tf_transformer = TfidfTransformer(use_idf=False).fit(data)\n",
    "data_features_tf = tf_transformer.transform(data)"
   ]
  },
  {
   "cell_type": "code",
   "execution_count": 144,
   "metadata": {
    "collapsed": false
   },
   "outputs": [],
   "source": [
    "from sklearn import cross_validation\n",
    "train_comments_bin, test_comments_bin, train_labels_bin, test_labels_bin = cross_validation.train_test_split(data_features_tf, df_scikit['label_binario'].values, test_size=0.2, random_state=0)"
   ]
  },
  {
   "cell_type": "markdown",
   "metadata": {},
   "source": [
    "#### Incluindo informações adicionais de Nota1 e Nota2 como features do modelo"
   ]
  },
  {
   "cell_type": "code",
   "execution_count": 145,
   "metadata": {
    "collapsed": false
   },
   "outputs": [
    {
     "name": "stdout",
     "output_type": "stream",
     "text": [
      "(99825, 27385)\n",
      "(99825, 1)\n",
      "(99825, 1)\n",
      "(99825, 27387)\n"
     ]
    }
   ],
   "source": [
    "#n1=coo_matrix(df_scikit['nota1'].values)\n",
    "#n2=coo_matrix(df_scikit['nota2'].values)\n",
    "#n1=coo_matrix(n1)\n",
    "#n2=coo_matrix(n2)\n",
    "print(data_features_tf.shape)\n",
    "\n",
    "data_features_tf2=csr_matrix(hstack([coo_matrix(data_features_tf),coo_matrix(n1_scaled)]))\n",
    "data_features_tf2=csr_matrix(hstack([coo_matrix(data_features_tf2),coo_matrix(n2_scaled)]))\n",
    "\n",
    "print(n1_scaled.shape)\n",
    "print(n2_scaled.shape)\n",
    "print(data_features_tf2.shape)"
   ]
  },
  {
   "cell_type": "code",
   "execution_count": 146,
   "metadata": {
    "collapsed": true
   },
   "outputs": [],
   "source": [
    "from sklearn import cross_validation\n",
    "train_comments2_bin, test_comments2_bin, train_labels2_bin, test_labels2_bin = cross_validation.train_test_split(data_features_tf2, df_scikit['label_binario'].values, test_size=0.2, random_state=0)"
   ]
  },
  {
   "cell_type": "markdown",
   "metadata": {},
   "source": [
    "#### 5.1.1 - Model 1 - SVM (kernel=linear)\n"
   ]
  },
  {
   "cell_type": "code",
   "execution_count": 140,
   "metadata": {
    "collapsed": false
   },
   "outputs": [
    {
     "data": {
      "text/plain": [
       "0.93979464062108686"
      ]
     },
     "execution_count": 140,
     "metadata": {},
     "output_type": "execute_result"
    }
   ],
   "source": [
    "clf_bin = svm.SVC(kernel='linear', C=1,cache_size=1000).fit(train_comments_bin, train_labels_bin)\n",
    "clf_bin.score(test_comments_bin, test_labels_bin)"
   ]
  },
  {
   "cell_type": "code",
   "execution_count": 141,
   "metadata": {
    "collapsed": false
   },
   "outputs": [
    {
     "data": {
      "text/plain": [
       "0.94375156523916859"
      ]
     },
     "execution_count": 141,
     "metadata": {},
     "output_type": "execute_result"
    }
   ],
   "source": [
    "clf2_bin = svm.SVC(kernel='linear', C=1,cache_size=1000).fit(train_comments2_bin, train_labels2_bin)\n",
    "clf2_bin.score(test_comments2_bin, test_labels2_bin)"
   ]
  },
  {
   "cell_type": "code",
   "execution_count": 220,
   "metadata": {
    "collapsed": false
   },
   "outputs": [],
   "source": [
    "clf_bin = svm.SVC(kernel='linear', C=1,cache_size=1000)\n",
    "n_samples=data_features_tf.shape[0]\n",
    "cv = cross_validation.ShuffleSplit(n_samples, n_iter=5, test_size=0.2, random_state=23)\n",
    "scores_SVM = cross_validation.cross_val_score(clf_bin, data_features_tf, df_scikit['label_binario'].values , cv=cv)"
   ]
  },
  {
   "cell_type": "code",
   "execution_count": 221,
   "metadata": {
    "collapsed": false,
    "scrolled": true
   },
   "outputs": [
    {
     "name": "stdout",
     "output_type": "stream",
     "text": [
      "Accuracy: 0.941 (+/- 0.004)\n",
      "[ 0.94134736  0.94059604  0.93784122  0.94039569  0.94340095]\n"
     ]
    }
   ],
   "source": [
    "print(\"Accuracy: %0.3f (+/- %0.3f)\" % (scores_SVM.mean(), scores_SVM.std() * 2))\n",
    "print(scores_SVM)"
   ]
  },
  {
   "cell_type": "code",
   "execution_count": 222,
   "metadata": {
    "collapsed": true
   },
   "outputs": [],
   "source": [
    "clf_bin = svm.SVC(kernel='linear', C=1,cache_size=1000)\n",
    "n_samples=data_features_tf2.shape[0]\n",
    "cv = cross_validation.ShuffleSplit(n_samples, n_iter=5, test_size=0.2, random_state=23)\n",
    "scores_SVM2 = cross_validation.cross_val_score(clf_bin, data_features_tf2, df_scikit['label_binario'].values , cv=cv)"
   ]
  },
  {
   "cell_type": "code",
   "execution_count": 223,
   "metadata": {
    "collapsed": false
   },
   "outputs": [
    {
     "name": "stdout",
     "output_type": "stream",
     "text": [
      "Accuracy: 0.945 (+/- 0.003)\n",
      "[ 0.94525419  0.94420235  0.94295016  0.94435262  0.94680691]\n"
     ]
    }
   ],
   "source": [
    "print(\"Accuracy: %0.3f (+/- %0.3f)\" % (scores_SVM2.mean(), scores_SVM2.std() * 2))\n",
    "print(scores_SVM2)"
   ]
  },
  {
   "cell_type": "markdown",
   "metadata": {},
   "source": [
    "#### 5.1.2 - Model 2 - SVM (kernel=Gaussian RBF)\n"
   ]
  },
  {
   "cell_type": "code",
   "execution_count": 142,
   "metadata": {
    "collapsed": false
   },
   "outputs": [
    {
     "data": {
      "text/plain": [
       "0.65314300025043825"
      ]
     },
     "execution_count": 142,
     "metadata": {},
     "output_type": "execute_result"
    }
   ],
   "source": [
    "clf3_bin = svm.SVC(kernel='rbf', C=1,cache_size=1000).fit(train_comments_bin, train_labels_bin)\n",
    "clf3_bin.score(test_comments_bin, test_labels_bin)"
   ]
  },
  {
   "cell_type": "code",
   "execution_count": 143,
   "metadata": {
    "collapsed": false
   },
   "outputs": [
    {
     "data": {
      "text/plain": [
       "0.86190833959429003"
      ]
     },
     "execution_count": 143,
     "metadata": {},
     "output_type": "execute_result"
    }
   ],
   "source": [
    "clf4_bin = svm.SVC(kernel='rbf', C=1,cache_size=1000).fit(train_comments2_bin, train_labels2_bin)\n",
    "clf4_bin.score(test_comments2_bin, test_labels2_bin)"
   ]
  },
  {
   "cell_type": "code",
   "execution_count": 231,
   "metadata": {
    "collapsed": false
   },
   "outputs": [],
   "source": [
    "clf3_bin = svm.SVC(kernel='rbf', C=1,cache_size=1000)\n",
    "n_samples=data_features_tf.shape[0]\n",
    "cv = cross_validation.ShuffleSplit(n_samples, n_iter=5, test_size=0.2, random_state=23)\n",
    "scores_SVM3 = cross_validation.cross_val_score(clf3_bin, data_features_tf, df_scikit['label_binario'].values , cv=cv)"
   ]
  },
  {
   "cell_type": "code",
   "execution_count": null,
   "metadata": {
    "collapsed": false,
    "scrolled": true
   },
   "outputs": [],
   "source": [
    "print(\"Accuracy: %0.3f (+/- %0.3f)\" % (scores_SVM3.mean(), scores_SVM3.std() * 2))\n",
    "print(scores_SVM3)"
   ]
  },
  {
   "cell_type": "code",
   "execution_count": 233,
   "metadata": {
    "collapsed": false
   },
   "outputs": [
    {
     "ename": "KeyboardInterrupt",
     "evalue": "",
     "output_type": "error",
     "traceback": [
      "\u001b[1;31m---------------------------------------------------------------------------\u001b[0m",
      "\u001b[1;31mKeyboardInterrupt\u001b[0m                         Traceback (most recent call last)",
      "\u001b[1;32m<ipython-input-233-1288094417dd>\u001b[0m in \u001b[0;36m<module>\u001b[1;34m()\u001b[0m\n\u001b[0;32m      2\u001b[0m \u001b[0mn_samples\u001b[0m\u001b[1;33m=\u001b[0m\u001b[0mdata_features_tf2\u001b[0m\u001b[1;33m.\u001b[0m\u001b[0mshape\u001b[0m\u001b[1;33m[\u001b[0m\u001b[1;36m0\u001b[0m\u001b[1;33m]\u001b[0m\u001b[1;33m\u001b[0m\u001b[0m\n\u001b[0;32m      3\u001b[0m \u001b[0mcv\u001b[0m \u001b[1;33m=\u001b[0m \u001b[0mcross_validation\u001b[0m\u001b[1;33m.\u001b[0m\u001b[0mShuffleSplit\u001b[0m\u001b[1;33m(\u001b[0m\u001b[0mn_samples\u001b[0m\u001b[1;33m,\u001b[0m \u001b[0mn_iter\u001b[0m\u001b[1;33m=\u001b[0m\u001b[1;36m5\u001b[0m\u001b[1;33m,\u001b[0m \u001b[0mtest_size\u001b[0m\u001b[1;33m=\u001b[0m\u001b[1;36m0.2\u001b[0m\u001b[1;33m,\u001b[0m \u001b[0mrandom_state\u001b[0m\u001b[1;33m=\u001b[0m\u001b[1;36m23\u001b[0m\u001b[1;33m)\u001b[0m\u001b[1;33m\u001b[0m\u001b[0m\n\u001b[1;32m----> 4\u001b[1;33m \u001b[0mscores_SVM4\u001b[0m\u001b[1;33m=\u001b[0m \u001b[0mcross_validation\u001b[0m\u001b[1;33m.\u001b[0m\u001b[0mcross_val_score\u001b[0m\u001b[1;33m(\u001b[0m\u001b[0mclf3_bin\u001b[0m\u001b[1;33m,\u001b[0m \u001b[0mdata_features_tf2\u001b[0m\u001b[1;33m,\u001b[0m \u001b[0mdf_scikit\u001b[0m\u001b[1;33m[\u001b[0m\u001b[1;34m'label_binario'\u001b[0m\u001b[1;33m]\u001b[0m\u001b[1;33m.\u001b[0m\u001b[0mvalues\u001b[0m \u001b[1;33m,\u001b[0m \u001b[0mcv\u001b[0m\u001b[1;33m=\u001b[0m\u001b[0mcv\u001b[0m\u001b[1;33m)\u001b[0m\u001b[1;33m\u001b[0m\u001b[0m\n\u001b[0m",
      "\u001b[1;32m/home/gus/py3env/lib/python3.4/site-packages/sklearn/cross_validation.py\u001b[0m in \u001b[0;36mcross_val_score\u001b[1;34m(estimator, X, y, scoring, cv, n_jobs, verbose, fit_params, pre_dispatch)\u001b[0m\n\u001b[0;32m   1517\u001b[0m                                               \u001b[0mtrain\u001b[0m\u001b[1;33m,\u001b[0m \u001b[0mtest\u001b[0m\u001b[1;33m,\u001b[0m \u001b[0mverbose\u001b[0m\u001b[1;33m,\u001b[0m \u001b[1;32mNone\u001b[0m\u001b[1;33m,\u001b[0m\u001b[1;33m\u001b[0m\u001b[0m\n\u001b[0;32m   1518\u001b[0m                                               fit_params)\n\u001b[1;32m-> 1519\u001b[1;33m                       for train, test in cv)\n\u001b[0m\u001b[0;32m   1520\u001b[0m     \u001b[1;32mreturn\u001b[0m \u001b[0mnp\u001b[0m\u001b[1;33m.\u001b[0m\u001b[0marray\u001b[0m\u001b[1;33m(\u001b[0m\u001b[0mscores\u001b[0m\u001b[1;33m)\u001b[0m\u001b[1;33m[\u001b[0m\u001b[1;33m:\u001b[0m\u001b[1;33m,\u001b[0m \u001b[1;36m0\u001b[0m\u001b[1;33m]\u001b[0m\u001b[1;33m\u001b[0m\u001b[0m\n\u001b[0;32m   1521\u001b[0m \u001b[1;33m\u001b[0m\u001b[0m\n",
      "\u001b[1;32m/home/gus/py3env/lib/python3.4/site-packages/sklearn/externals/joblib/parallel.py\u001b[0m in \u001b[0;36m__call__\u001b[1;34m(self, iterable)\u001b[0m\n\u001b[0;32m    756\u001b[0m             \u001b[1;31m# was dispatched. In particular this covers the edge\u001b[0m\u001b[1;33m\u001b[0m\u001b[1;33m\u001b[0m\u001b[0m\n\u001b[0;32m    757\u001b[0m             \u001b[1;31m# case of Parallel used with an exhausted iterator.\u001b[0m\u001b[1;33m\u001b[0m\u001b[1;33m\u001b[0m\u001b[0m\n\u001b[1;32m--> 758\u001b[1;33m             \u001b[1;32mwhile\u001b[0m \u001b[0mself\u001b[0m\u001b[1;33m.\u001b[0m\u001b[0mdispatch_one_batch\u001b[0m\u001b[1;33m(\u001b[0m\u001b[0miterator\u001b[0m\u001b[1;33m)\u001b[0m\u001b[1;33m:\u001b[0m\u001b[1;33m\u001b[0m\u001b[0m\n\u001b[0m\u001b[0;32m    759\u001b[0m                 \u001b[0mself\u001b[0m\u001b[1;33m.\u001b[0m\u001b[0m_iterating\u001b[0m \u001b[1;33m=\u001b[0m \u001b[1;32mTrue\u001b[0m\u001b[1;33m\u001b[0m\u001b[0m\n\u001b[0;32m    760\u001b[0m             \u001b[1;32melse\u001b[0m\u001b[1;33m:\u001b[0m\u001b[1;33m\u001b[0m\u001b[0m\n",
      "\u001b[1;32m/home/gus/py3env/lib/python3.4/site-packages/sklearn/externals/joblib/parallel.py\u001b[0m in \u001b[0;36mdispatch_one_batch\u001b[1;34m(self, iterator)\u001b[0m\n\u001b[0;32m    606\u001b[0m                 \u001b[1;32mreturn\u001b[0m \u001b[1;32mFalse\u001b[0m\u001b[1;33m\u001b[0m\u001b[0m\n\u001b[0;32m    607\u001b[0m             \u001b[1;32melse\u001b[0m\u001b[1;33m:\u001b[0m\u001b[1;33m\u001b[0m\u001b[0m\n\u001b[1;32m--> 608\u001b[1;33m                 \u001b[0mself\u001b[0m\u001b[1;33m.\u001b[0m\u001b[0m_dispatch\u001b[0m\u001b[1;33m(\u001b[0m\u001b[0mtasks\u001b[0m\u001b[1;33m)\u001b[0m\u001b[1;33m\u001b[0m\u001b[0m\n\u001b[0m\u001b[0;32m    609\u001b[0m                 \u001b[1;32mreturn\u001b[0m \u001b[1;32mTrue\u001b[0m\u001b[1;33m\u001b[0m\u001b[0m\n\u001b[0;32m    610\u001b[0m \u001b[1;33m\u001b[0m\u001b[0m\n",
      "\u001b[1;32m/home/gus/py3env/lib/python3.4/site-packages/sklearn/externals/joblib/parallel.py\u001b[0m in \u001b[0;36m_dispatch\u001b[1;34m(self, batch)\u001b[0m\n\u001b[0;32m    569\u001b[0m         \u001b[0mdispatch_timestamp\u001b[0m \u001b[1;33m=\u001b[0m \u001b[0mtime\u001b[0m\u001b[1;33m.\u001b[0m\u001b[0mtime\u001b[0m\u001b[1;33m(\u001b[0m\u001b[1;33m)\u001b[0m\u001b[1;33m\u001b[0m\u001b[0m\n\u001b[0;32m    570\u001b[0m         \u001b[0mcb\u001b[0m \u001b[1;33m=\u001b[0m \u001b[0mBatchCompletionCallBack\u001b[0m\u001b[1;33m(\u001b[0m\u001b[0mdispatch_timestamp\u001b[0m\u001b[1;33m,\u001b[0m \u001b[0mlen\u001b[0m\u001b[1;33m(\u001b[0m\u001b[0mbatch\u001b[0m\u001b[1;33m)\u001b[0m\u001b[1;33m,\u001b[0m \u001b[0mself\u001b[0m\u001b[1;33m)\u001b[0m\u001b[1;33m\u001b[0m\u001b[0m\n\u001b[1;32m--> 571\u001b[1;33m         \u001b[0mjob\u001b[0m \u001b[1;33m=\u001b[0m \u001b[0mself\u001b[0m\u001b[1;33m.\u001b[0m\u001b[0m_backend\u001b[0m\u001b[1;33m.\u001b[0m\u001b[0mapply_async\u001b[0m\u001b[1;33m(\u001b[0m\u001b[0mbatch\u001b[0m\u001b[1;33m,\u001b[0m \u001b[0mcallback\u001b[0m\u001b[1;33m=\u001b[0m\u001b[0mcb\u001b[0m\u001b[1;33m)\u001b[0m\u001b[1;33m\u001b[0m\u001b[0m\n\u001b[0m\u001b[0;32m    572\u001b[0m         \u001b[0mself\u001b[0m\u001b[1;33m.\u001b[0m\u001b[0m_jobs\u001b[0m\u001b[1;33m.\u001b[0m\u001b[0mappend\u001b[0m\u001b[1;33m(\u001b[0m\u001b[0mjob\u001b[0m\u001b[1;33m)\u001b[0m\u001b[1;33m\u001b[0m\u001b[0m\n\u001b[0;32m    573\u001b[0m \u001b[1;33m\u001b[0m\u001b[0m\n",
      "\u001b[1;32m/home/gus/py3env/lib/python3.4/site-packages/sklearn/externals/joblib/_parallel_backends.py\u001b[0m in \u001b[0;36mapply_async\u001b[1;34m(self, func, callback)\u001b[0m\n\u001b[0;32m    107\u001b[0m     \u001b[1;32mdef\u001b[0m \u001b[0mapply_async\u001b[0m\u001b[1;33m(\u001b[0m\u001b[0mself\u001b[0m\u001b[1;33m,\u001b[0m \u001b[0mfunc\u001b[0m\u001b[1;33m,\u001b[0m \u001b[0mcallback\u001b[0m\u001b[1;33m=\u001b[0m\u001b[1;32mNone\u001b[0m\u001b[1;33m)\u001b[0m\u001b[1;33m:\u001b[0m\u001b[1;33m\u001b[0m\u001b[0m\n\u001b[0;32m    108\u001b[0m         \u001b[1;34m\"\"\"Schedule a func to be run\"\"\"\u001b[0m\u001b[1;33m\u001b[0m\u001b[0m\n\u001b[1;32m--> 109\u001b[1;33m         \u001b[0mresult\u001b[0m \u001b[1;33m=\u001b[0m \u001b[0mImmediateResult\u001b[0m\u001b[1;33m(\u001b[0m\u001b[0mfunc\u001b[0m\u001b[1;33m)\u001b[0m\u001b[1;33m\u001b[0m\u001b[0m\n\u001b[0m\u001b[0;32m    110\u001b[0m         \u001b[1;32mif\u001b[0m \u001b[0mcallback\u001b[0m\u001b[1;33m:\u001b[0m\u001b[1;33m\u001b[0m\u001b[0m\n\u001b[0;32m    111\u001b[0m             \u001b[0mcallback\u001b[0m\u001b[1;33m(\u001b[0m\u001b[0mresult\u001b[0m\u001b[1;33m)\u001b[0m\u001b[1;33m\u001b[0m\u001b[0m\n",
      "\u001b[1;32m/home/gus/py3env/lib/python3.4/site-packages/sklearn/externals/joblib/_parallel_backends.py\u001b[0m in \u001b[0;36m__init__\u001b[1;34m(self, batch)\u001b[0m\n\u001b[0;32m    320\u001b[0m         \u001b[1;31m# Don't delay the application, to avoid keeping the input\u001b[0m\u001b[1;33m\u001b[0m\u001b[1;33m\u001b[0m\u001b[0m\n\u001b[0;32m    321\u001b[0m         \u001b[1;31m# arguments in memory\u001b[0m\u001b[1;33m\u001b[0m\u001b[1;33m\u001b[0m\u001b[0m\n\u001b[1;32m--> 322\u001b[1;33m         \u001b[0mself\u001b[0m\u001b[1;33m.\u001b[0m\u001b[0mresults\u001b[0m \u001b[1;33m=\u001b[0m \u001b[0mbatch\u001b[0m\u001b[1;33m(\u001b[0m\u001b[1;33m)\u001b[0m\u001b[1;33m\u001b[0m\u001b[0m\n\u001b[0m\u001b[0;32m    323\u001b[0m \u001b[1;33m\u001b[0m\u001b[0m\n\u001b[0;32m    324\u001b[0m     \u001b[1;32mdef\u001b[0m \u001b[0mget\u001b[0m\u001b[1;33m(\u001b[0m\u001b[0mself\u001b[0m\u001b[1;33m)\u001b[0m\u001b[1;33m:\u001b[0m\u001b[1;33m\u001b[0m\u001b[0m\n",
      "\u001b[1;32m/home/gus/py3env/lib/python3.4/site-packages/sklearn/externals/joblib/parallel.py\u001b[0m in \u001b[0;36m__call__\u001b[1;34m(self)\u001b[0m\n\u001b[0;32m    129\u001b[0m \u001b[1;33m\u001b[0m\u001b[0m\n\u001b[0;32m    130\u001b[0m     \u001b[1;32mdef\u001b[0m \u001b[0m__call__\u001b[0m\u001b[1;33m(\u001b[0m\u001b[0mself\u001b[0m\u001b[1;33m)\u001b[0m\u001b[1;33m:\u001b[0m\u001b[1;33m\u001b[0m\u001b[0m\n\u001b[1;32m--> 131\u001b[1;33m         \u001b[1;32mreturn\u001b[0m \u001b[1;33m[\u001b[0m\u001b[0mfunc\u001b[0m\u001b[1;33m(\u001b[0m\u001b[1;33m*\u001b[0m\u001b[0margs\u001b[0m\u001b[1;33m,\u001b[0m \u001b[1;33m**\u001b[0m\u001b[0mkwargs\u001b[0m\u001b[1;33m)\u001b[0m \u001b[1;32mfor\u001b[0m \u001b[0mfunc\u001b[0m\u001b[1;33m,\u001b[0m \u001b[0margs\u001b[0m\u001b[1;33m,\u001b[0m \u001b[0mkwargs\u001b[0m \u001b[1;32min\u001b[0m \u001b[0mself\u001b[0m\u001b[1;33m.\u001b[0m\u001b[0mitems\u001b[0m\u001b[1;33m]\u001b[0m\u001b[1;33m\u001b[0m\u001b[0m\n\u001b[0m\u001b[0;32m    132\u001b[0m \u001b[1;33m\u001b[0m\u001b[0m\n\u001b[0;32m    133\u001b[0m     \u001b[1;32mdef\u001b[0m \u001b[0m__len__\u001b[0m\u001b[1;33m(\u001b[0m\u001b[0mself\u001b[0m\u001b[1;33m)\u001b[0m\u001b[1;33m:\u001b[0m\u001b[1;33m\u001b[0m\u001b[0m\n",
      "\u001b[1;32m/home/gus/py3env/lib/python3.4/site-packages/sklearn/externals/joblib/parallel.py\u001b[0m in \u001b[0;36m<listcomp>\u001b[1;34m(.0)\u001b[0m\n\u001b[0;32m    129\u001b[0m \u001b[1;33m\u001b[0m\u001b[0m\n\u001b[0;32m    130\u001b[0m     \u001b[1;32mdef\u001b[0m \u001b[0m__call__\u001b[0m\u001b[1;33m(\u001b[0m\u001b[0mself\u001b[0m\u001b[1;33m)\u001b[0m\u001b[1;33m:\u001b[0m\u001b[1;33m\u001b[0m\u001b[0m\n\u001b[1;32m--> 131\u001b[1;33m         \u001b[1;32mreturn\u001b[0m \u001b[1;33m[\u001b[0m\u001b[0mfunc\u001b[0m\u001b[1;33m(\u001b[0m\u001b[1;33m*\u001b[0m\u001b[0margs\u001b[0m\u001b[1;33m,\u001b[0m \u001b[1;33m**\u001b[0m\u001b[0mkwargs\u001b[0m\u001b[1;33m)\u001b[0m \u001b[1;32mfor\u001b[0m \u001b[0mfunc\u001b[0m\u001b[1;33m,\u001b[0m \u001b[0margs\u001b[0m\u001b[1;33m,\u001b[0m \u001b[0mkwargs\u001b[0m \u001b[1;32min\u001b[0m \u001b[0mself\u001b[0m\u001b[1;33m.\u001b[0m\u001b[0mitems\u001b[0m\u001b[1;33m]\u001b[0m\u001b[1;33m\u001b[0m\u001b[0m\n\u001b[0m\u001b[0;32m    132\u001b[0m \u001b[1;33m\u001b[0m\u001b[0m\n\u001b[0;32m    133\u001b[0m     \u001b[1;32mdef\u001b[0m \u001b[0m__len__\u001b[0m\u001b[1;33m(\u001b[0m\u001b[0mself\u001b[0m\u001b[1;33m)\u001b[0m\u001b[1;33m:\u001b[0m\u001b[1;33m\u001b[0m\u001b[0m\n",
      "\u001b[1;32m/home/gus/py3env/lib/python3.4/site-packages/sklearn/cross_validation.py\u001b[0m in \u001b[0;36m_fit_and_score\u001b[1;34m(estimator, X, y, scorer, train, test, verbose, parameters, fit_params, return_train_score, return_parameters, error_score)\u001b[0m\n\u001b[0;32m   1611\u001b[0m             \u001b[0mestimator\u001b[0m\u001b[1;33m.\u001b[0m\u001b[0mfit\u001b[0m\u001b[1;33m(\u001b[0m\u001b[0mX_train\u001b[0m\u001b[1;33m,\u001b[0m \u001b[1;33m**\u001b[0m\u001b[0mfit_params\u001b[0m\u001b[1;33m)\u001b[0m\u001b[1;33m\u001b[0m\u001b[0m\n\u001b[0;32m   1612\u001b[0m         \u001b[1;32melse\u001b[0m\u001b[1;33m:\u001b[0m\u001b[1;33m\u001b[0m\u001b[0m\n\u001b[1;32m-> 1613\u001b[1;33m             \u001b[0mestimator\u001b[0m\u001b[1;33m.\u001b[0m\u001b[0mfit\u001b[0m\u001b[1;33m(\u001b[0m\u001b[0mX_train\u001b[0m\u001b[1;33m,\u001b[0m \u001b[0my_train\u001b[0m\u001b[1;33m,\u001b[0m \u001b[1;33m**\u001b[0m\u001b[0mfit_params\u001b[0m\u001b[1;33m)\u001b[0m\u001b[1;33m\u001b[0m\u001b[0m\n\u001b[0m\u001b[0;32m   1614\u001b[0m \u001b[1;33m\u001b[0m\u001b[0m\n\u001b[0;32m   1615\u001b[0m     \u001b[1;32mexcept\u001b[0m \u001b[0mException\u001b[0m \u001b[1;32mas\u001b[0m \u001b[0me\u001b[0m\u001b[1;33m:\u001b[0m\u001b[1;33m\u001b[0m\u001b[0m\n",
      "\u001b[1;32m/home/gus/py3env/lib/python3.4/site-packages/sklearn/svm/base.py\u001b[0m in \u001b[0;36mfit\u001b[1;34m(self, X, y, sample_weight)\u001b[0m\n\u001b[0;32m    187\u001b[0m \u001b[1;33m\u001b[0m\u001b[0m\n\u001b[0;32m    188\u001b[0m         \u001b[0mseed\u001b[0m \u001b[1;33m=\u001b[0m \u001b[0mrnd\u001b[0m\u001b[1;33m.\u001b[0m\u001b[0mrandint\u001b[0m\u001b[1;33m(\u001b[0m\u001b[0mnp\u001b[0m\u001b[1;33m.\u001b[0m\u001b[0miinfo\u001b[0m\u001b[1;33m(\u001b[0m\u001b[1;34m'i'\u001b[0m\u001b[1;33m)\u001b[0m\u001b[1;33m.\u001b[0m\u001b[0mmax\u001b[0m\u001b[1;33m)\u001b[0m\u001b[1;33m\u001b[0m\u001b[0m\n\u001b[1;32m--> 189\u001b[1;33m         \u001b[0mfit\u001b[0m\u001b[1;33m(\u001b[0m\u001b[0mX\u001b[0m\u001b[1;33m,\u001b[0m \u001b[0my\u001b[0m\u001b[1;33m,\u001b[0m \u001b[0msample_weight\u001b[0m\u001b[1;33m,\u001b[0m \u001b[0msolver_type\u001b[0m\u001b[1;33m,\u001b[0m \u001b[0mkernel\u001b[0m\u001b[1;33m,\u001b[0m \u001b[0mrandom_seed\u001b[0m\u001b[1;33m=\u001b[0m\u001b[0mseed\u001b[0m\u001b[1;33m)\u001b[0m\u001b[1;33m\u001b[0m\u001b[0m\n\u001b[0m\u001b[0;32m    190\u001b[0m         \u001b[1;31m# see comment on the other call to np.iinfo in this file\u001b[0m\u001b[1;33m\u001b[0m\u001b[1;33m\u001b[0m\u001b[0m\n\u001b[0;32m    191\u001b[0m \u001b[1;33m\u001b[0m\u001b[0m\n",
      "\u001b[1;32m/home/gus/py3env/lib/python3.4/site-packages/sklearn/svm/base.py\u001b[0m in \u001b[0;36m_sparse_fit\u001b[1;34m(self, X, y, sample_weight, solver_type, kernel, random_seed)\u001b[0m\n\u001b[0;32m    276\u001b[0m                 \u001b[0msample_weight\u001b[0m\u001b[1;33m,\u001b[0m \u001b[0mself\u001b[0m\u001b[1;33m.\u001b[0m\u001b[0mnu\u001b[0m\u001b[1;33m,\u001b[0m \u001b[0mself\u001b[0m\u001b[1;33m.\u001b[0m\u001b[0mcache_size\u001b[0m\u001b[1;33m,\u001b[0m \u001b[0mself\u001b[0m\u001b[1;33m.\u001b[0m\u001b[0mepsilon\u001b[0m\u001b[1;33m,\u001b[0m\u001b[1;33m\u001b[0m\u001b[0m\n\u001b[0;32m    277\u001b[0m                 \u001b[0mint\u001b[0m\u001b[1;33m(\u001b[0m\u001b[0mself\u001b[0m\u001b[1;33m.\u001b[0m\u001b[0mshrinking\u001b[0m\u001b[1;33m)\u001b[0m\u001b[1;33m,\u001b[0m \u001b[0mint\u001b[0m\u001b[1;33m(\u001b[0m\u001b[0mself\u001b[0m\u001b[1;33m.\u001b[0m\u001b[0mprobability\u001b[0m\u001b[1;33m)\u001b[0m\u001b[1;33m,\u001b[0m \u001b[0mself\u001b[0m\u001b[1;33m.\u001b[0m\u001b[0mmax_iter\u001b[0m\u001b[1;33m,\u001b[0m\u001b[1;33m\u001b[0m\u001b[0m\n\u001b[1;32m--> 278\u001b[1;33m                 random_seed)\n\u001b[0m\u001b[0;32m    279\u001b[0m \u001b[1;33m\u001b[0m\u001b[0m\n\u001b[0;32m    280\u001b[0m         \u001b[0mself\u001b[0m\u001b[1;33m.\u001b[0m\u001b[0m_warn_from_fit_status\u001b[0m\u001b[1;33m(\u001b[0m\u001b[1;33m)\u001b[0m\u001b[1;33m\u001b[0m\u001b[0m\n",
      "\u001b[1;32msklearn/svm/libsvm_sparse.pyx\u001b[0m in \u001b[0;36msklearn.svm.libsvm_sparse.libsvm_sparse_train (sklearn/svm/libsvm_sparse.c:2549)\u001b[1;34m()\u001b[0m\n",
      "\u001b[1;32m/home/gus/py3env/lib/python3.4/site-packages/scipy/sparse/compressed.py\u001b[0m in \u001b[0;36m__init__\u001b[1;34m(self, arg1, shape, dtype, copy)\u001b[0m\n\u001b[0;32m     22\u001b[0m     \u001b[1;34m\"\"\"base matrix class for compressed row and column oriented matrices\"\"\"\u001b[0m\u001b[1;33m\u001b[0m\u001b[0m\n\u001b[0;32m     23\u001b[0m \u001b[1;33m\u001b[0m\u001b[0m\n\u001b[1;32m---> 24\u001b[1;33m     \u001b[1;32mdef\u001b[0m \u001b[0m__init__\u001b[0m\u001b[1;33m(\u001b[0m\u001b[0mself\u001b[0m\u001b[1;33m,\u001b[0m \u001b[0marg1\u001b[0m\u001b[1;33m,\u001b[0m \u001b[0mshape\u001b[0m\u001b[1;33m=\u001b[0m\u001b[1;32mNone\u001b[0m\u001b[1;33m,\u001b[0m \u001b[0mdtype\u001b[0m\u001b[1;33m=\u001b[0m\u001b[1;32mNone\u001b[0m\u001b[1;33m,\u001b[0m \u001b[0mcopy\u001b[0m\u001b[1;33m=\u001b[0m\u001b[1;32mFalse\u001b[0m\u001b[1;33m)\u001b[0m\u001b[1;33m:\u001b[0m\u001b[1;33m\u001b[0m\u001b[0m\n\u001b[0m\u001b[0;32m     25\u001b[0m         \u001b[0m_data_matrix\u001b[0m\u001b[1;33m.\u001b[0m\u001b[0m__init__\u001b[0m\u001b[1;33m(\u001b[0m\u001b[0mself\u001b[0m\u001b[1;33m)\u001b[0m\u001b[1;33m\u001b[0m\u001b[0m\n\u001b[0;32m     26\u001b[0m \u001b[1;33m\u001b[0m\u001b[0m\n",
      "\u001b[1;31mKeyboardInterrupt\u001b[0m: "
     ]
    }
   ],
   "source": [
    "clf3_bin = svm.SVC(kernel='rbf', C=1,cache_size=1000)\n",
    "n_samples=data_features_tf2.shape[0]\n",
    "cv = cross_validation.ShuffleSplit(n_samples, n_iter=5, test_size=0.2, random_state=23)\n",
    "scores_SVM4= cross_validation.cross_val_score(clf3_bin, data_features_tf2, df_scikit['label_binario'].values , cv=cv)"
   ]
  },
  {
   "cell_type": "code",
   "execution_count": null,
   "metadata": {
    "collapsed": true
   },
   "outputs": [],
   "source": [
    "print(\"Accuracy: %0.3f (+/- %0.3f)\" % (scores_SVM4.mean(), scores_SVM4.std() * 2))\n",
    "print(scores_SVM4)"
   ]
  },
  {
   "cell_type": "markdown",
   "metadata": {},
   "source": [
    "#### 5.1.3 - Model 3 - Naive Bayes (Multinomial Naive Bayes)\n"
   ]
  },
  {
   "cell_type": "code",
   "execution_count": null,
   "metadata": {
    "collapsed": false
   },
   "outputs": [],
   "source": [
    "clf5_bin = MultinomialNB().fit(train_comments_bin, train_labels_bin)\n",
    "clf5_bin.score(test_comments_bin, test_labels_bin)"
   ]
  },
  {
   "cell_type": "code",
   "execution_count": 229,
   "metadata": {
    "collapsed": false,
    "scrolled": true
   },
   "outputs": [
    {
     "data": {
      "text/plain": [
       "0.90172802404207364"
      ]
     },
     "execution_count": 229,
     "metadata": {},
     "output_type": "execute_result"
    }
   ],
   "source": [
    "clf6_bin = MultinomialNB().fit(train_comments2_bin, train_labels2_bin)\n",
    "clf6_bin.score(test_comments2_bin, test_labels2_bin)"
   ]
  },
  {
   "cell_type": "code",
   "execution_count": 147,
   "metadata": {
    "collapsed": false
   },
   "outputs": [
    {
     "name": "stdout",
     "output_type": "stream",
     "text": [
      "Accuracy: 0.917 (+/- 0.002)\n",
      "[ 0.9172552   0.9172552   0.91635362  0.91905835  0.91735537]\n"
     ]
    }
   ],
   "source": [
    "n_samples=data_features_tf.shape[0]\n",
    "cv = cross_validation.ShuffleSplit(n_samples, n_iter=5, test_size=0.2, random_state=23)\n",
    "scores_NB1 = cross_validation.cross_val_score(teste, data_features_tf, df_scikit['label_binario'].values , cv=cv)\n",
    "print(\"Accuracy: %0.3f (+/- %0.3f)\" % (scores_NB1.mean(), scores_NB1.std() * 2))\n",
    "print(scores_NB1)"
   ]
  },
  {
   "cell_type": "code",
   "execution_count": 148,
   "metadata": {
    "collapsed": false
   },
   "outputs": [
    {
     "name": "stdout",
     "output_type": "stream",
     "text": [
      "Accuracy: 0.904 (+/- 0.003)\n",
      "[ 0.90493363  0.9046832   0.90192837  0.90663661  0.90398197]\n"
     ]
    }
   ],
   "source": [
    "n_samples=data_features_tf2.shape[0]\n",
    "cv = cross_validation.ShuffleSplit(n_samples, n_iter=5, test_size=0.2, random_state=23)\n",
    "scores_NB2 = cross_validation.cross_val_score(clf6, data_features_tf2, df_scikit['label_binario'].values , cv=cv)\n",
    "print(\"Accuracy: %0.3f (+/- %0.3f)\" % (scores_NB2.mean(), scores_NB2.std() * 2))\n",
    "print(scores_NB2)"
   ]
  },
  {
   "cell_type": "markdown",
   "metadata": {},
   "source": [
    "#### 5.1.4 - Model 4 - SGD (Stochastic Gradient Descent)\n"
   ]
  },
  {
   "cell_type": "code",
   "execution_count": 191,
   "metadata": {
    "collapsed": false
   },
   "outputs": [
    {
     "name": "stdout",
     "output_type": "stream",
     "text": [
      "SGDClassifier(alpha=0.0001, average=False, class_weight=None, epsilon=0.1,\n",
      "       eta0=0.0, fit_intercept=True, l1_ratio=0.15,\n",
      "       learning_rate='optimal', loss='hinge', n_iter=50, n_jobs=1,\n",
      "       penalty='l2', power_t=0.5, random_state=None, shuffle=True,\n",
      "       verbose=0, warm_start=False)\n"
     ]
    },
    {
     "data": {
      "text/plain": [
       "0.93122965189080886"
      ]
     },
     "execution_count": 191,
     "metadata": {},
     "output_type": "execute_result"
    }
   ],
   "source": [
    "clf7_bin = SGDClassifier(loss=\"hinge\", penalty=\"l2\",n_iter=50)\n",
    "print(clf7_bin)\n",
    "clf7_bin.fit(train_comments_bin, train_labels_bin)\n",
    "clf7_bin.score(test_comments_bin, test_labels_bin)"
   ]
  },
  {
   "cell_type": "code",
   "execution_count": 192,
   "metadata": {
    "collapsed": false,
    "scrolled": true
   },
   "outputs": [
    {
     "name": "stdout",
     "output_type": "stream",
     "text": [
      "SGDClassifier(alpha=0.0001, average=False, class_weight=None, epsilon=0.1,\n",
      "       eta0=0.0, fit_intercept=True, l1_ratio=0.15,\n",
      "       learning_rate='optimal', loss='hinge', n_iter=50, n_jobs=1,\n",
      "       penalty='l2', power_t=0.5, random_state=None, shuffle=True,\n",
      "       verbose=0, warm_start=False)\n"
     ]
    },
    {
     "data": {
      "text/plain": [
       "0.93388429752066116"
      ]
     },
     "execution_count": 192,
     "metadata": {},
     "output_type": "execute_result"
    }
   ],
   "source": [
    "clf8_bin = SGDClassifier(loss=\"hinge\", penalty=\"l2\",n_iter=50)\n",
    "print(clf8_bin)\n",
    "clf8_bin.fit(train_comments2_bin, train_labels2_bin)\n",
    "clf8_bin.score(test_comments2_bin, test_labels2_bin)"
   ]
  },
  {
   "cell_type": "code",
   "execution_count": 193,
   "metadata": {
    "collapsed": false
   },
   "outputs": [
    {
     "name": "stdout",
     "output_type": "stream",
     "text": [
      "Accuracy: 0.932 (+/- 0.002)\n",
      "[ 0.93298272  0.93238167  0.93042825  0.93233158  0.93318307]\n"
     ]
    }
   ],
   "source": [
    "n_samples=data_features_tf.shape[0]\n",
    "cv = cross_validation.ShuffleSplit(n_samples, n_iter=5, test_size=0.2, random_state=23)\n",
    "scores_SGD1 = cross_validation.cross_val_score(clf7_bin, data_features_tf, df_scikit['label_binario'].values , cv=cv)\n",
    "print(\"Accuracy: %0.3f (+/- %0.3f)\" % (scores_SGD1.mean(), scores_SGD1.std() * 2))\n",
    "print(scores_SGD1)"
   ]
  },
  {
   "cell_type": "code",
   "execution_count": 194,
   "metadata": {
    "collapsed": false
   },
   "outputs": [
    {
     "name": "stdout",
     "output_type": "stream",
     "text": [
      "Accuracy: 0.935 (+/- 0.003)\n",
      "[ 0.93288254  0.9358878   0.93613824  0.93769096  0.93373403]\n"
     ]
    }
   ],
   "source": [
    "n_samples=data_features_tf2.shape[0]\n",
    "cv = cross_validation.ShuffleSplit(n_samples, n_iter=5, test_size=0.2, random_state=23)\n",
    "scores_SGD2 = cross_validation.cross_val_score(clf8_bin, data_features_tf2, df_scikit['label_binario'].values , cv=cv)\n",
    "print(\"Accuracy: %0.3f (+/- %0.3f)\" % (scores_SGD2.mean(), scores_SGD2.std() * 2))\n",
    "print(scores_SGD2)"
   ]
  },
  {
   "cell_type": "markdown",
   "metadata": {},
   "source": [
    "#### 5.1.5 - XGBoost (Extreme Gradient Boosting)\n",
    "XGBoost is short for “Extreme Gradient Boosting”, where the term “Gradient Boosting” is proposed in the paper Greedy Function Approximation: A Gradient Boosting Machine, by Friedman. XGBoost is based on this original model. This is a tutorial on gradient boosted trees, and most of the content is based on these slides by the author of xgboost."
   ]
  },
  {
   "cell_type": "code",
   "execution_count": 214,
   "metadata": {
    "collapsed": false,
    "scrolled": true
   },
   "outputs": [
    {
     "data": {
      "text/plain": [
       "XGBClassifier(base_score=0.5, colsample_bylevel=1, colsample_bytree=1,\n",
       "       gamma=0, learning_rate=0.05, max_delta_step=0, max_depth=5,\n",
       "       min_child_weight=1, missing=None, n_estimators=100, nthread=-1,\n",
       "       objective='binary:logistic', reg_alpha=0, reg_lambda=1,\n",
       "       scale_pos_weight=1, seed=0, silent=True, subsample=1)"
      ]
     },
     "execution_count": 214,
     "metadata": {},
     "output_type": "execute_result"
    }
   ],
   "source": [
    "clf9_bin=xgb.XGBClassifier(max_depth=5, learning_rate=0.05, n_estimators=100)\n",
    "clf9_bin.fit(train_comments_bin, train_labels_bin)"
   ]
  },
  {
   "cell_type": "code",
   "execution_count": 215,
   "metadata": {
    "collapsed": false,
    "scrolled": true
   },
   "outputs": [
    {
     "data": {
      "text/plain": [
       "XGBClassifier(base_score=0.5, colsample_bylevel=1, colsample_bytree=1,\n",
       "       gamma=0, learning_rate=0.05, max_delta_step=0, max_depth=5,\n",
       "       min_child_weight=1, missing=None, n_estimators=100, nthread=-1,\n",
       "       objective='binary:logistic', reg_alpha=0, reg_lambda=1,\n",
       "       scale_pos_weight=1, seed=0, silent=True, subsample=1)"
      ]
     },
     "execution_count": 215,
     "metadata": {},
     "output_type": "execute_result"
    }
   ],
   "source": [
    "clf10_bin=xgb.XGBClassifier(max_depth=5, learning_rate=0.05, n_estimators=100)\n",
    "clf10_bin.fit(train_comments2_bin, train_labels2_bin)"
   ]
  },
  {
   "cell_type": "code",
   "execution_count": 216,
   "metadata": {
    "collapsed": false
   },
   "outputs": [
    {
     "name": "stdout",
     "output_type": "stream",
     "text": [
      "Accuracy: 0.908 (+/- 0.005)\n",
      "[ 0.9054846   0.90648635  0.90959179  0.90683696  0.91184573]\n"
     ]
    }
   ],
   "source": [
    "n_samples=data_features_tf.shape[0]\n",
    "cv = cross_validation.ShuffleSplit(n_samples, n_iter=5, test_size=0.2, random_state=23)\n",
    "scores_XGB1 = cross_validation.cross_val_score(clf9_bin, data_features_tf, df_scikit['label_binario'].values , cv=cv)\n",
    "print(\"Accuracy: %0.3f (+/- %0.3f)\" % (scores_XGB1.mean(), scores_XGB1.std() * 2))\n",
    "print(scores_XGB1)"
   ]
  },
  {
   "cell_type": "code",
   "execution_count": 218,
   "metadata": {
    "collapsed": false,
    "scrolled": true
   },
   "outputs": [
    {
     "name": "stdout",
     "output_type": "stream",
     "text": [
      "Accuracy: 0.911 (+/- 0.004)\n",
      "[ 0.91394941  0.91304783  0.90899073  0.90934135  0.91059354]\n"
     ]
    }
   ],
   "source": [
    "n_samples=data_features_tf2.shape[0]\n",
    "cv = cross_validation.ShuffleSplit(n_samples, n_iter=5, test_size=0.2, random_state=23)\n",
    "scores_XGB2 = cross_validation.cross_val_score(clf10_bin, data_features_tf2, df_scikit['label_binario'].values , cv=cv)\n",
    "print(\"Accuracy: %0.3f (+/- %0.3f)\" % (scores_XGB2.mean(), scores_XGB2.std() * 2))\n",
    "print(scores_XGB2)"
   ]
  },
  {
   "cell_type": "markdown",
   "metadata": {},
   "source": [
    "#### 5.2 - Metrics\n"
   ]
  },
  {
   "cell_type": "code",
   "execution_count": 207,
   "metadata": {
    "collapsed": false
   },
   "outputs": [
    {
     "name": "stdout",
     "output_type": "stream",
     "text": [
      "SGD   com features de Nota: 0.935336839469\n"
     ]
    }
   ],
   "source": [
    "predicted_bin = clf8_bin.predict(test_comments2_bin)\n",
    "print('SGD   com features de Nota:',np.mean(predicted_bin == test_labels2_bin))"
   ]
  },
  {
   "cell_type": "code",
   "execution_count": 208,
   "metadata": {
    "collapsed": false
   },
   "outputs": [
    {
     "name": "stdout",
     "output_type": "stream",
     "text": [
      "             precision    recall  f1-score   support\n",
      "\n",
      "     elogio       0.94      0.96      0.95     13040\n",
      " não-elogio       0.93      0.88      0.90      6925\n",
      "\n",
      "avg / total       0.94      0.94      0.93     19965\n",
      "\n"
     ]
    }
   ],
   "source": [
    "print(metrics.classification_report(test_labels2_bin,predicted_bin))"
   ]
  },
  {
   "cell_type": "code",
   "execution_count": 209,
   "metadata": {
    "collapsed": false,
    "scrolled": true
   },
   "outputs": [
    {
     "name": "stdout",
     "output_type": "stream",
     "text": [
      "[[12578   462]\n",
      " [  829  6096]]\n"
     ]
    }
   ],
   "source": [
    "print(metrics.confusion_matrix(test_labels2_bin,predicted_bin))"
   ]
  },
  {
   "cell_type": "markdown",
   "metadata": {},
   "source": [
    "##### Using calc_proba"
   ]
  },
  {
   "cell_type": "code",
   "execution_count": 214,
   "metadata": {
    "collapsed": false
   },
   "outputs": [
    {
     "data": {
      "text/plain": [
       "SGDClassifier(alpha=0.0001, average=False, class_weight=None, epsilon=0.1,\n",
       "       eta0=0.0, fit_intercept=True, l1_ratio=0.15,\n",
       "       learning_rate='optimal', loss='log', n_iter=50, n_jobs=1,\n",
       "       penalty='l2', power_t=0.5, random_state=None, shuffle=True,\n",
       "       verbose=0, warm_start=False)"
      ]
     },
     "execution_count": 214,
     "metadata": {},
     "output_type": "execute_result"
    }
   ],
   "source": [
    "clf8_bin_proba = SGDClassifier(loss='log',penalty=\"l2\",n_iter=50)\n",
    "clf8_bin_proba.fit(train_comments2_bin, train_labels2_bin)\n",
    "#clf8_bin.score(test_comments2_bin, test_labels2_bin)"
   ]
  },
  {
   "cell_type": "code",
   "execution_count": 215,
   "metadata": {
    "collapsed": false
   },
   "outputs": [],
   "source": [
    "predicted_bin_proba = clf8_bin_proba.predict_proba(test_comments2)"
   ]
  },
  {
   "cell_type": "code",
   "execution_count": 221,
   "metadata": {
    "collapsed": false
   },
   "outputs": [
    {
     "name": "stdout",
     "output_type": "stream",
     "text": [
      "[[  1.03306986e-01   8.96693014e-01]\n",
      " [  8.56854656e-01   1.43145344e-01]\n",
      " [  9.61400676e-01   3.85993238e-02]\n",
      " ..., \n",
      " [  6.26116829e-04   9.99373883e-01]\n",
      " [  2.63362362e-01   7.36637638e-01]\n",
      " [  9.36002871e-01   6.39971291e-02]]\n"
     ]
    }
   ],
   "source": [
    "print(predicted_bin_proba)"
   ]
  },
  {
   "cell_type": "code",
   "execution_count": 228,
   "metadata": {
    "collapsed": false
   },
   "outputs": [
    {
     "name": "stdout",
     "output_type": "stream",
     "text": [
      "19965\n",
      "[0.10330698619630574, 0.85685465562865026, 0.96140067619865199, 0.99728966859886814, 0.98187650740831112, 0.96030258245880407, 0.036226531399721207, 0.034834140375763156, 0.0011605388331890065, 0.99728966859886814]\n"
     ]
    }
   ],
   "source": [
    "y_score=[row[0] for row in predicted_bin_proba]\n",
    "#y_score - Probabilidade do registro ser 'elogio'\n",
    "print(len(y_score))\n",
    "print(y_score[0:10])"
   ]
  },
  {
   "cell_type": "markdown",
   "metadata": {},
   "source": [
    "#### 5.3 - RoC Curve \n",
    "“A receiver operating characteristic (ROC), or simply ROC curve, is a graphical plot which illustrates the performance of a binary classifier system as its discrimination threshold is varied. It is created by plotting the fraction of true positives out of the positives (TPR = true positive rate) vs. the fraction of false positives out of the negatives (FPR = false positive rate), at various threshold settings. TPR is also known as sensitivity, and FPR is one minus the specificity or true negative rate.”"
   ]
  },
  {
   "cell_type": "code",
   "execution_count": 229,
   "metadata": {
    "collapsed": false
   },
   "outputs": [
    {
     "name": "stdout",
     "output_type": "stream",
     "text": [
      "19965\n",
      "['não-elogio' 'elogio' 'não-elogio' ..., 'não-elogio' 'não-elogio' 'elogio']\n",
      "[0 1 0 ..., 0 0 1]\n"
     ]
    }
   ],
   "source": [
    "print(len(test_labels2_bin))\n",
    "print(test_labels2_bin)\n",
    "\n",
    "y_true=np.copy(test_labels2_bin)\n",
    "y_true[y_true == 'elogio'] = 1\n",
    "y_true[y_true == 'não-elogio'] = 0\n",
    "\n",
    "y_true=y_true.astype(np.int)\n",
    "        \n",
    "print(y_true)"
   ]
  },
  {
   "cell_type": "code",
   "execution_count": 230,
   "metadata": {
    "collapsed": false
   },
   "outputs": [],
   "source": [
    "fpr, tpr, thresholds = roc_curve(y_true, y_score, pos_label=1)"
   ]
  },
  {
   "cell_type": "code",
   "execution_count": 231,
   "metadata": {
    "collapsed": false
   },
   "outputs": [
    {
     "name": "stdout",
     "output_type": "stream",
     "text": [
      "[ 0.          0.          0.         ...,  0.99956679  0.9998556   1.        ]\n",
      "[  7.66871166e-05   3.83435583e-04   6.90184049e-04 ...,   1.00000000e+00\n",
      "   1.00000000e+00   1.00000000e+00]\n",
      "[  9.99895118e-01   9.99710804e-01   9.99700970e-01 ...,   2.01143965e-04\n",
      "   1.95269232e-04   1.79677417e-04]\n"
     ]
    }
   ],
   "source": [
    "print(fpr)\n",
    "print(tpr)\n",
    "print(thresholds)"
   ]
  },
  {
   "cell_type": "code",
   "execution_count": 235,
   "metadata": {
    "collapsed": false
   },
   "outputs": [],
   "source": [
    "roc_auc=auc(fpr,tpr)"
   ]
  },
  {
   "cell_type": "code",
   "execution_count": 232,
   "metadata": {
    "collapsed": false
   },
   "outputs": [
    {
     "data": {
      "text/plain": [
       "0.98073869903213651"
      ]
     },
     "execution_count": 232,
     "metadata": {},
     "output_type": "execute_result"
    }
   ],
   "source": [
    "roc_auc_score(y_true, y_score)"
   ]
  },
  {
   "cell_type": "code",
   "execution_count": 237,
   "metadata": {
    "collapsed": false
   },
   "outputs": [
    {
     "data": {
      "image/png": "[encoded data removed]",
      "text/plain": [
       "<matplotlib.figure.Figure at 0x7f4da525cdd8>"
      ]
     },
     "metadata": {},
     "output_type": "display_data"
    }
   ],
   "source": [
    "plt.figure()\n",
    "lw = 2\n",
    "plt.plot(fpr, tpr, color='darkorange',\n",
    "         lw=lw, label='ROC curve (area = %0.2f)' % roc_auc)\n",
    "plt.plot([0, 1], [0, 1], color='navy', lw=lw, linestyle='--')\n",
    "plt.xlim([0.0, 1.0])\n",
    "plt.ylim([0.0, 1.05])\n",
    "plt.xlabel('False Positive Rate')\n",
    "plt.ylabel('True Positive Rate')\n",
    "plt.title('Receiver operating characteristic example')\n",
    "plt.legend(loc=\"lower right\")\n",
    "plt.show()"
   ]
  },
  {
   "cell_type": "markdown",
   "metadata": {},
   "source": [
    "### 6 - Exportação de dados"
   ]
  },
  {
   "cell_type": "code",
   "execution_count": 90,
   "metadata": {
    "collapsed": false
   },
   "outputs": [
    {
     "data": {
      "text/plain": [
       "'\\npredicted = clf.predict(data_features_tf[:,:])\\ndf_scikit[\"predicted\"]=predicted\\n\\nwriter = pd.ExcelWriter(\\'output.xlsx\\')\\ndf_scikit.to_excel(writer,\\'Sheet1\\')\\nwriter.save()\\n'"
      ]
     },
     "execution_count": 90,
     "metadata": {},
     "output_type": "execute_result"
    }
   ],
   "source": [
    "\"\"\"\n",
    "predicted = clf.predict(data_features_tf[:,:])\n",
    "df_scikit[\"predicted\"]=predicted\n",
    "\n",
    "writer = pd.ExcelWriter('output.xlsx')\n",
    "df_scikit.to_excel(writer,'Sheet1')\n",
    "writer.save()\n",
    "\"\"\""
   ]
  },
  {
   "cell_type": "code",
   "execution_count": 121,
   "metadata": {
    "collapsed": true
   },
   "outputs": [],
   "source": [
    "#Função para INSERT na tabela TESTE no banco de dados\n",
    "#Input : Ponteiro first_row_ID, indicando onde deve ser feito o INSERT na tabela TESTE \n",
    "#Output: Ponteiro com a nova posição após o último INSERT\n",
    "\n",
    "def Insertdata2(first_row_ID,dict1):\n",
    "    db = sqlite3.connect('projeto.db')\n",
    "    cursor = db.cursor()\n",
    "    i=first_row_ID+1\n",
    "    for com,id_inc,data,cat,n1,n2,nivel1,aten,serv in map(lambda *a: a,*zip(*itertools.zip_longest(dict1.get('Comentário'),dict1.get('Número do Incidente'),dict1.get('Data da Resposta'),dict1.get('Manifestação Ajustada'),dict1.get('Nota Questão 1'),dict1.get('Nota Questão 2'),dict1.get('Nível 1'),dict1.get('Manifestação ao Atendimento'),dict1.get('Manifestação ao Serviço')))):\n",
    "        cursor.execute(\"INSERT INTO TESTE (ID,IDINC,DATA,COMENTARIO,NOTA1,NOTA2,NIVEL1,MANIFESTACAO,MANIFATEN,MANIFSERV) VALUES (?,?,?,?,?,?,?,?,?,?)\",(i, id_inc,data, com, n1, n2, nivel1, cat,aten,serv))\n",
    "        i=i+1\n",
    "    db.commit()\n",
    "\n",
    "    #LAST ROW ID\n",
    "    last_row_ID = cursor.lastrowid\n",
    "\n",
    "    db.close()\n",
    "    \n",
    "    return(last_row_ID)"
   ]
  },
  {
   "cell_type": "code",
   "execution_count": 122,
   "metadata": {
    "collapsed": false
   },
   "outputs": [],
   "source": [
    "#DROP\n",
    "db = sqlite3.connect('projeto.db')\n",
    "querySQL = db.execute(\"DROP TABLE TESTE\")\n",
    "db.commit()\n",
    "db.close()"
   ]
  },
  {
   "cell_type": "code",
   "execution_count": 123,
   "metadata": {
    "collapsed": true
   },
   "outputs": [],
   "source": [
    "#CREATE TABLE\n",
    "#Comando para criar a tabela no banco de dados. Só precisa ser executada uma única vez\n",
    "\n",
    "\n",
    "db = sqlite3.connect('projeto.db')\n",
    "db.execute('''CREATE TABLE TESTE\n",
    "       (ID INT PRIMARY KEY    NOT NULL,\n",
    "       IDINC           CHAR(20),\n",
    "       DATA            DATE,\n",
    "       COMENTARIO      TEXT,\n",
    "       NOTA1           FLOAT,\n",
    "       NOTA2           FLOAT,\n",
    "       NIVEL1          TEXT,\n",
    "       MANIFESTACAO    CHAR(20),\n",
    "       MANIFATEN       CHAR(20),\n",
    "       MANIFSERV       CHAR(20));''')\n",
    "db.close()"
   ]
  },
  {
   "cell_type": "code",
   "execution_count": 124,
   "metadata": {
    "collapsed": false
   },
   "outputs": [
    {
     "name": "stdout",
     "output_type": "stream",
     "text": [
      "0\n"
     ]
    }
   ],
   "source": [
    "#MaxID\n",
    "db = sqlite3.connect('projeto.db')\n",
    "cursor = db.execute('SELECT max(ID) FROM TESTE')\n",
    "MaxID = cursor.fetchone()[0]\n",
    "\n",
    "try:\n",
    "    val = int(MaxID)\n",
    "except:\n",
    "    MaxID=0\n",
    "    \n",
    "print(MaxID)\n",
    "db.close()"
   ]
  },
  {
   "cell_type": "code",
   "execution_count": 125,
   "metadata": {
    "collapsed": false
   },
   "outputs": [
    {
     "name": "stdout",
     "output_type": "stream",
     "text": [
      "4720\n"
     ]
    }
   ],
   "source": [
    "lista_csv2=['2016.07-teste.csv']\n",
    "for doc in lista_csv2:\n",
    "    dict2=Createdict(doc)\n",
    "    MaxID=Insertdata2(MaxID,dict2)\n",
    "    print(MaxID)"
   ]
  },
  {
   "cell_type": "code",
   "execution_count": 126,
   "metadata": {
    "collapsed": true
   },
   "outputs": [],
   "source": [
    "#Recuperando dados do banco de dados através do comando SELECT e armazenando em um Dictionary\n",
    "\n",
    "dict2=defaultdict(list)\n",
    "\n",
    "db = sqlite3.connect('projeto.db')\n",
    "db.row_factory = sqlite3.Row\n",
    "cursor =db.cursor()\n",
    "\n",
    "querySQL = cursor.execute(\"SELECT ID,IDINC,DATA,COMENTARIO,NOTA1,NOTA2,MANIFESTACAO,MANIFATEN,MANIFSERV,NIVEL1 from TESTE\")\n",
    "\n",
    "for row in querySQL:\n",
    "    dict2['ID'].append(row[0])\n",
    "    dict2['Número do Incidente'].append(row[1])\n",
    "    dict2['Data'].append(row[2])\n",
    "    dict2['Comentário'].append(row[3])\n",
    "    dict2['Nota Questão 1'].append(row[4])\n",
    "    dict2['Nota Questão 2'].append(row[5])\n",
    "    dict2['Manifestação Ajustada'].append(row[6])\n",
    "    dict2['Manifestação ao Atendimento'].append(row[7])\n",
    "    dict2['Manifestação ao Serviço'].append(row[8])\n",
    "    dict2['Nível 1'].append(row[9])\n",
    "    \n",
    "db.close()"
   ]
  },
  {
   "cell_type": "code",
   "execution_count": 127,
   "metadata": {
    "collapsed": false
   },
   "outputs": [],
   "source": [
    "#Processamento - STRIP-remove caracteres, LOWER-transforma caracteres em minúsculo e SPLIT-Separa as palavras no \"Comentário\"\n",
    "words2 = [(i.strip('.,').lower().split(),category,n1,n2,m1,m2,ID,data,id_inc,nivel1)\n",
    "for i,category,n1,n2,m1,m2,ID,data,id_inc,nivel1 in map(lambda *a: a,*zip(*itertools.zip_longest(dict2.get('Comentário'),dict2.get('Manifestação Ajustada'),dict2.get('Nota Questão 1'),dict2.get('Nota Questão 2'),dict2.get('Manifestação ao Atendimento'),dict2.get('Manifestação ao Serviço'),dict2.get('ID'),dict2.get('Data'),dict2.get('Número do Incidente'),dict2.get('Nível 1'))))]\n"
   ]
  },
  {
   "cell_type": "code",
   "execution_count": 128,
   "metadata": {
    "collapsed": true
   },
   "outputs": [],
   "source": [
    "#Transformando DE: Dictionary --> PARA: pandas Dataframe\n",
    "rows=[]\n",
    "\n",
    "for item in words2:\n",
    "    rows.append({'text':\" \".join(item[0]),'label':item[1],'nota1':item[2],'nota2':item[3],'Manif-ATEN':item[4],'Manif-SERV':item[5],'ID':item[6],'Data':item[7],'Número do Incidente':item[8],'Nível 1':item[9]})\n",
    "df_minority=pd.DataFrame(rows)"
   ]
  },
  {
   "cell_type": "code",
   "execution_count": 129,
   "metadata": {
    "collapsed": false,
    "scrolled": true
   },
   "outputs": [
    {
     "name": "stdout",
     "output_type": "stream",
     "text": [
      "Total:        4720\n",
      "elogio        3027\n",
      "neutro        1217\n",
      "reclamação     476\n",
      "Name: label, dtype: int64\n"
     ]
    }
   ],
   "source": [
    "print(\"Total:       \",len(df_minority.index))\n",
    "print(df_minority['label'].value_counts())"
   ]
  },
  {
   "cell_type": "code",
   "execution_count": 130,
   "metadata": {
    "collapsed": false
   },
   "outputs": [],
   "source": [
    "#Tratando pesquisas de satisfação com campos não preenchidos. alterar para nota=3 ou nota=1 no caso de nao respondido\n",
    "df_minority['nota1']=(df_minority.fillna(value=3)['nota1'].astype(np.float))\n",
    "df_minority['nota2']=(df_minority.fillna(value=1)['nota2'].astype(np.float))"
   ]
  },
  {
   "cell_type": "code",
   "execution_count": 131,
   "metadata": {
    "collapsed": false
   },
   "outputs": [],
   "source": [
    "df_minority[\"Manif-ATEN2\"]=df_minority.apply(lambda row: setmanifestacao2(df_minority,row[\"Manif-ATEN\"]), axis=1)\n",
    "df_minority[\"Manif-SERV2\"]=df_minority.apply(lambda row: setmanifestacao2(df_minority,row[\"Manif-SERV\"]), axis=1)"
   ]
  },
  {
   "cell_type": "markdown",
   "metadata": {},
   "source": [
    "#### Preparação e execução do algoritmo de machine learning"
   ]
  },
  {
   "cell_type": "code",
   "execution_count": 132,
   "metadata": {
    "collapsed": false
   },
   "outputs": [],
   "source": [
    "count_vect = CountVectorizer()\n",
    "count_vect.fit(df_scikit['text'].values)\n",
    "\n",
    "data2 = count_vect.transform(df_minority['text'].values)\n",
    "\n",
    "#term frequency features\n",
    "tf_transformer = TfidfTransformer(use_idf=False).fit(data2)\n",
    "data_features_tf = tf_transformer.transform(data2)"
   ]
  },
  {
   "cell_type": "code",
   "execution_count": 133,
   "metadata": {
    "collapsed": false
   },
   "outputs": [
    {
     "name": "stdout",
     "output_type": "stream",
     "text": [
      "(4720, 27385)\n",
      "(4720, 1)\n",
      "(4720, 1)\n",
      "(4720, 27387)\n"
     ]
    }
   ],
   "source": [
    "n1=coo_matrix(df_minority['nota1'].values)\n",
    "n2=coo_matrix(df_minority['nota2'].values)\n",
    "print(data_features_tf.shape)\n",
    "\n",
    "data_features_tf=csr_matrix(hstack([coo_matrix(data_features_tf),n1.transpose()]))\n",
    "data_features_tf=csr_matrix(hstack([coo_matrix(data_features_tf),n2.transpose()]))\n",
    "\n",
    "\n",
    "print(n1.transpose().shape)\n",
    "print(n2.transpose().shape)\n",
    "print(data_features_tf.shape)"
   ]
  },
  {
   "cell_type": "code",
   "execution_count": 138,
   "metadata": {
    "collapsed": false
   },
   "outputs": [
    {
     "name": "stdout",
     "output_type": "stream",
     "text": [
      "0.85063559322\n"
     ]
    }
   ],
   "source": [
    "predicted = clf8.predict(data_features_tf[:,:])\n",
    "print(np.mean(predicted == df_minority['label'][:].values))"
   ]
  },
  {
   "cell_type": "code",
   "execution_count": 135,
   "metadata": {
    "collapsed": false
   },
   "outputs": [
    {
     "name": "stdout",
     "output_type": "stream",
     "text": [
      "[[2951   64   12]\n",
      " [ 112  763  342]\n",
      " [  17   55  404]]\n"
     ]
    }
   ],
   "source": [
    "print(metrics.confusion_matrix(df_minority['label'][:].values,predicted))"
   ]
  },
  {
   "cell_type": "code",
   "execution_count": 136,
   "metadata": {
    "collapsed": false
   },
   "outputs": [
    {
     "data": {
      "text/html": [
       "<div>\n",
       "<table border=\"1\" class=\"dataframe\">\n",
       "  <thead>\n",
       "    <tr style=\"text-align: right;\">\n",
       "      <th></th>\n",
       "      <th>Data</th>\n",
       "      <th>ID</th>\n",
       "      <th>Manif-ATEN</th>\n",
       "      <th>Manif-SERV</th>\n",
       "      <th>Nível 1</th>\n",
       "      <th>Número do Incidente</th>\n",
       "      <th>label</th>\n",
       "      <th>nota1</th>\n",
       "      <th>nota2</th>\n",
       "      <th>text</th>\n",
       "      <th>Manif-ATEN2</th>\n",
       "      <th>Manif-SERV2</th>\n",
       "    </tr>\n",
       "  </thead>\n",
       "  <tbody>\n",
       "    <tr>\n",
       "      <th>0</th>\n",
       "      <td>7/1/2016 9:04</td>\n",
       "      <td>1</td>\n",
       "      <td>Reclamação</td>\n",
       "      <td>Reclamação</td>\n",
       "      <td>APLICACOES DE NEGOCIO</td>\n",
       "      <td>INC000025504474</td>\n",
       "      <td>reclamação</td>\n",
       "      <td>1.0</td>\n",
       "      <td>1.0</td>\n",
       "      <td>demora de 4 meses para o envio de uma solução ...</td>\n",
       "      <td>reclamação</td>\n",
       "      <td>reclamação</td>\n",
       "    </tr>\n",
       "  </tbody>\n",
       "</table>\n",
       "</div>"
      ],
      "text/plain": [
       "            Data  ID  Manif-ATEN  Manif-SERV                Nível 1  \\\n",
       "0  7/1/2016 9:04   1  Reclamação  Reclamação  APLICACOES DE NEGOCIO   \n",
       "\n",
       "  Número do Incidente       label  nota1  nota2  \\\n",
       "0     INC000025504474  reclamação    1.0    1.0   \n",
       "\n",
       "                                                text Manif-ATEN2 Manif-SERV2  \n",
       "0  demora de 4 meses para o envio de uma solução ...  reclamação  reclamação  "
      ]
     },
     "execution_count": 136,
     "metadata": {},
     "output_type": "execute_result"
    }
   ],
   "source": [
    "df_minority[0:1]"
   ]
  },
  {
   "cell_type": "code",
   "execution_count": 137,
   "metadata": {
    "collapsed": false
   },
   "outputs": [],
   "source": [
    "df_minority[\"predicted\"]=predicted\n",
    "df_minority = df_minority[['Número do Incidente','label','predicted', 'nota1', 'nota2', 'text']]\n",
    "df_minority.columns=['Número do Incidente','label','predicted', 'Nota1', 'Nota2', 'Comentário']\n",
    "writer = pd.ExcelWriter('output-clf2.xlsx')\n",
    "df_minority.to_excel(writer,'Sheet1')\n",
    "writer.save()"
   ]
  }
 ],
 "metadata": {
  "kernelspec": {
   "display_name": "Python 3",
   "language": "python",
   "name": "python3"
  },
  "language_info": {
   "codemirror_mode": {
    "name": "ipython",
    "version": 3
   },
   "file_extension": ".py",
   "mimetype": "text/x-python",
   "name": "python",
   "nbconvert_exporter": "python",
   "pygments_lexer": "ipython3",
   "version": "3.4.2"
  }
 },
 "nbformat": 4,
 "nbformat_minor": 0
}
